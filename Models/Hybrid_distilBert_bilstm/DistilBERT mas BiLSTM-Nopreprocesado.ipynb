{
 "cells": [
  {
   "cell_type": "markdown",
   "id": "7314ca8d-8069-4428-8f49-42e5b38c7a40",
   "metadata": {},
   "source": [
    "## Tesis CCS COMPUTACIÓN UNSA\n",
    "\n",
    "#### Ing. Vargas Mauricio\n",
    "\n",
    "\n",
    "##### Hibrido BiLSTM + distilBERT (BERT para Feature Extraction) \n",
    "\n",
    "\n",
    "###### DS NO procesado"
   ]
  },
  {
   "cell_type": "code",
   "execution_count": 4,
   "id": "d5d30739-6ad0-4e9c-ae65-5f218269bf41",
   "metadata": {},
   "outputs": [],
   "source": [
    "from tensorflow.keras.optimizers import Adam\n",
    "\n",
    "#!/usr/bin/env python\n",
    "# coding: utf-8\n",
    "\n",
    "import tensorflow as tf\n",
    "import pandas as pd\n",
    "from tensorflow import keras\n",
    "import os\n",
    "import re\n",
    "import numpy as np\n",
    "import seaborn as sns\n",
    "import matplotlib.pyplot as plt\n",
    "from transformers import AutoTokenizer\n",
    "from transformers import BertConfig\n",
    "from transformers import TFBertForSequenceClassification\n",
    "from timeit import default_timer as timer\n",
    "from datetime import timedelta\n",
    "from sklearn.model_selection import train_test_split\n",
    "from sklearn.metrics import confusion_matrix, ConfusionMatrixDisplay, accuracy_score, classification_report\n",
    "import datasets\n",
    "from datasets import load_dataset\n",
    "from keras.callbacks import EarlyStopping"
   ]
  },
  {
   "cell_type": "code",
   "execution_count": 5,
   "id": "db4058ca-8f52-41f3-80b2-f4c65f652a08",
   "metadata": {},
   "outputs": [
    {
     "name": "stdout",
     "output_type": "stream",
     "text": [
      "Num GPUs Available: 1\n"
     ]
    }
   ],
   "source": [
    "import tensorflow as tf\n",
    "print(\"Num GPUs Available:\", len(tf.config.list_physical_devices('GPU')))"
   ]
  },
  {
   "cell_type": "code",
   "execution_count": 6,
   "id": "45b72334-f740-4103-96da-27409a22e270",
   "metadata": {},
   "outputs": [
    {
     "name": "stdout",
     "output_type": "stream",
     "text": [
      "True\n",
      "[PhysicalDevice(name='/physical_device:GPU:0', device_type='GPU')]\n"
     ]
    }
   ],
   "source": [
    "import tensorflow as tf\n",
    "print(tf.test.is_built_with_cuda())\n",
    "print(tf.config.list_physical_devices('GPU'))"
   ]
  },
  {
   "cell_type": "code",
   "execution_count": 7,
   "id": "ad0c1f5b-d638-4d0a-ac1c-4c9eaa26940e",
   "metadata": {},
   "outputs": [
    {
     "name": "stdout",
     "output_type": "stream",
     "text": [
      "F:\\Maestria\\TESIS\n"
     ]
    }
   ],
   "source": [
    "cd F:\\Maestria\\TESIS\\"
   ]
  },
  {
   "cell_type": "code",
   "execution_count": 8,
   "id": "38c5a3f2-86d6-4950-9c4e-e2b0b978b8f4",
   "metadata": {},
   "outputs": [
    {
     "data": {
      "text/html": [
       "<div>\n",
       "<style scoped>\n",
       "    .dataframe tbody tr th:only-of-type {\n",
       "        vertical-align: middle;\n",
       "    }\n",
       "\n",
       "    .dataframe tbody tr th {\n",
       "        vertical-align: top;\n",
       "    }\n",
       "\n",
       "    .dataframe thead th {\n",
       "        text-align: right;\n",
       "    }\n",
       "</style>\n",
       "<table border=\"1\" class=\"dataframe\">\n",
       "  <thead>\n",
       "    <tr style=\"text-align: right;\">\n",
       "      <th></th>\n",
       "      <th>Unnamed: 0</th>\n",
       "      <th>full_text</th>\n",
       "      <th>POS</th>\n",
       "      <th>clean_text</th>\n",
       "      <th>label</th>\n",
       "      <th>text_changed</th>\n",
       "    </tr>\n",
       "  </thead>\n",
       "  <tbody>\n",
       "    <tr>\n",
       "      <th>0</th>\n",
       "      <td>0</td>\n",
       "      <td>Sin ser fan de Juan Gabriel, siempre supe que ...</td>\n",
       "      <td>P</td>\n",
       "      <td>fan juan gabriel supe fuerza naturaleza escuch...</td>\n",
       "      <td>2</td>\n",
       "      <td>fan juan gabriel supe  naturaleza escuche quer...</td>\n",
       "    </tr>\n",
       "    <tr>\n",
       "      <th>1</th>\n",
       "      <td>1</td>\n",
       "      <td>Sabes que no tendrás un buen día cuando lo pri...</td>\n",
       "      <td>N</td>\n",
       "      <td>tendras ana tratar cambiar foco cae cara</td>\n",
       "      <td>0</td>\n",
       "      <td>tendras ana tratar cambiar foco cae  caradura</td>\n",
       "    </tr>\n",
       "    <tr>\n",
       "      <th>2</th>\n",
       "      <td>2</td>\n",
       "      <td>En situaciones en las que no sepas que hacer, ...</td>\n",
       "      <td>N</td>\n",
       "      <td>situaciones sepas sumergete podras escuchar al...</td>\n",
       "      <td>0</td>\n",
       "      <td>situaciones situaciones sepas sumergete podra...</td>\n",
       "    </tr>\n",
       "    <tr>\n",
       "      <th>3</th>\n",
       "      <td>3</td>\n",
       "      <td>ayer preguntaban y dónde están las solteras!!!...</td>\n",
       "      <td>NEU</td>\n",
       "      <td>preguntaban solteras grupo alza mano unica vol...</td>\n",
       "      <td>1</td>\n",
       "      <td>preguntaban solteras grupo  alza alza alza man...</td>\n",
       "    </tr>\n",
       "    <tr>\n",
       "      <th>4</th>\n",
       "      <td>4</td>\n",
       "      <td>Que el finde sea para hacer cualquier cosa que...</td>\n",
       "      <td>NEU</td>\n",
       "      <td>finde cosa haga feliz reverenda gana</td>\n",
       "      <td>1</td>\n",
       "      <td>finde  elemento haga feliz reverenda gana</td>\n",
       "    </tr>\n",
       "  </tbody>\n",
       "</table>\n",
       "</div>"
      ],
      "text/plain": [
       "   Unnamed: 0                                          full_text  POS  \\\n",
       "0           0  Sin ser fan de Juan Gabriel, siempre supe que ...    P   \n",
       "1           1  Sabes que no tendrás un buen día cuando lo pri...    N   \n",
       "2           2  En situaciones en las que no sepas que hacer, ...    N   \n",
       "3           3  ayer preguntaban y dónde están las solteras!!!...  NEU   \n",
       "4           4  Que el finde sea para hacer cualquier cosa que...  NEU   \n",
       "\n",
       "                                          clean_text  label  \\\n",
       "0  fan juan gabriel supe fuerza naturaleza escuch...      2   \n",
       "1           tendras ana tratar cambiar foco cae cara      0   \n",
       "2  situaciones sepas sumergete podras escuchar al...      0   \n",
       "3  preguntaban solteras grupo alza mano unica vol...      1   \n",
       "4               finde cosa haga feliz reverenda gana      1   \n",
       "\n",
       "                                        text_changed  \n",
       "0  fan juan gabriel supe  naturaleza escuche quer...  \n",
       "1      tendras ana tratar cambiar foco cae  caradura  \n",
       "2   situaciones situaciones sepas sumergete podra...  \n",
       "3  preguntaban solteras grupo  alza alza alza man...  \n",
       "4          finde  elemento haga feliz reverenda gana  "
      ]
     },
     "execution_count": 8,
     "metadata": {},
     "output_type": "execute_result"
    }
   ],
   "source": [
    "df= pd.read_csv('./BD_POL/data_extended.csv')\n",
    "df.head()"
   ]
  },
  {
   "cell_type": "code",
   "execution_count": 9,
   "id": "3a79da2a-9c90-4db7-bdef-81ebec24649a",
   "metadata": {},
   "outputs": [],
   "source": [
    "df_w = df[[\"label\", \"full_text\"]]"
   ]
  },
  {
   "cell_type": "code",
   "execution_count": 10,
   "id": "dbd3156b-c606-4e13-b272-c67c83836707",
   "metadata": {
    "scrolled": true
   },
   "outputs": [
    {
     "name": "stderr",
     "output_type": "stream",
     "text": [
      "C:\\Users\\MSVF9\\anaconda3\\envs\\ultima_cosa2_UNIR\\lib\\site-packages\\ipykernel_launcher.py:1: SettingWithCopyWarning: \n",
      "A value is trying to be set on a copy of a slice from a DataFrame.\n",
      "Try using .loc[row_indexer,col_indexer] = value instead\n",
      "\n",
      "See the caveats in the documentation: https://pandas.pydata.org/pandas-docs/stable/user_guide/indexing.html#returning-a-view-versus-a-copy\n",
      "  \"\"\"Entry point for launching an IPython kernel.\n",
      "C:\\Users\\MSVF9\\anaconda3\\envs\\ultima_cosa2_UNIR\\lib\\site-packages\\ipykernel_launcher.py:2: FutureWarning: The default value of regex will change from True to False in a future version.\n",
      "  \n",
      "C:\\Users\\MSVF9\\anaconda3\\envs\\ultima_cosa2_UNIR\\lib\\site-packages\\ipykernel_launcher.py:2: SettingWithCopyWarning: \n",
      "A value is trying to be set on a copy of a slice from a DataFrame.\n",
      "Try using .loc[row_indexer,col_indexer] = value instead\n",
      "\n",
      "See the caveats in the documentation: https://pandas.pydata.org/pandas-docs/stable/user_guide/indexing.html#returning-a-view-versus-a-copy\n",
      "  \n",
      "C:\\Users\\MSVF9\\anaconda3\\envs\\ultima_cosa2_UNIR\\lib\\site-packages\\ipykernel_launcher.py:7: SettingWithCopyWarning: \n",
      "A value is trying to be set on a copy of a slice from a DataFrame.\n",
      "Try using .loc[row_indexer,col_indexer] = value instead\n",
      "\n",
      "See the caveats in the documentation: https://pandas.pydata.org/pandas-docs/stable/user_guide/indexing.html#returning-a-view-versus-a-copy\n",
      "  import sys\n"
     ]
    }
   ],
   "source": [
    "df_w['full_text'] = df_w['full_text'].str.lower()\n",
    "df_w[\"full_text\"] = df_w[\"full_text\"].str.replace(r'\\s*https?://\\S+(\\s+|$)', ' ').str.strip()\n",
    "df_w['full_text'] = df_w['full_text'].str.replace(\n",
    "    r'[^a-z0-9\\s]',\n",
    "    '',\n",
    "    regex=True,\n",
    "    flags=re.IGNORECASE\n",
    ")\n",
    "\n",
    "df_w = df_w.dropna()"
   ]
  },
  {
   "cell_type": "code",
   "execution_count": 11,
   "id": "caa0e0ab-4f05-4305-9c3f-80735c451eb1",
   "metadata": {},
   "outputs": [],
   "source": [
    "# df_w.head()"
   ]
  },
  {
   "cell_type": "code",
   "execution_count": 12,
   "id": "f3a6b153-68df-4306-8942-9b477e67364b",
   "metadata": {},
   "outputs": [],
   "source": [
    "df_w = df_w.sample(frac=1, random_state = 1) "
   ]
  },
  {
   "cell_type": "code",
   "execution_count": 13,
   "id": "2bb9c43a-e768-461d-a80e-29e8755d45ef",
   "metadata": {},
   "outputs": [
    {
     "data": {
      "text/html": [
       "<div>\n",
       "<style scoped>\n",
       "    .dataframe tbody tr th:only-of-type {\n",
       "        vertical-align: middle;\n",
       "    }\n",
       "\n",
       "    .dataframe tbody tr th {\n",
       "        vertical-align: top;\n",
       "    }\n",
       "\n",
       "    .dataframe thead th {\n",
       "        text-align: right;\n",
       "    }\n",
       "</style>\n",
       "<table border=\"1\" class=\"dataframe\">\n",
       "  <thead>\n",
       "    <tr style=\"text-align: right;\">\n",
       "      <th></th>\n",
       "      <th>label</th>\n",
       "      <th>full_text</th>\n",
       "    </tr>\n",
       "  </thead>\n",
       "  <tbody>\n",
       "    <tr>\n",
       "      <th>31885</th>\n",
       "      <td>2</td>\n",
       "      <td>adrianzeneduard tenemos que resaltar que el pa...</td>\n",
       "    </tr>\n",
       "    <tr>\n",
       "      <th>7102</th>\n",
       "      <td>2</td>\n",
       "      <td>ser candidato por el partido frente amplio con...</td>\n",
       "    </tr>\n",
       "    <tr>\n",
       "      <th>32174</th>\n",
       "      <td>0</td>\n",
       "      <td>triciclodelperu  el propietario del partidomor...</td>\n",
       "    </tr>\n",
       "    <tr>\n",
       "      <th>35699</th>\n",
       "      <td>0</td>\n",
       "      <td>en menos de una semana el partidomorado pas ha...</td>\n",
       "    </tr>\n",
       "    <tr>\n",
       "      <th>8190</th>\n",
       "      <td>0</td>\n",
       "      <td>alberto belaunde no hay marcha atrs cada del p...</td>\n",
       "    </tr>\n",
       "  </tbody>\n",
       "</table>\n",
       "</div>"
      ],
      "text/plain": [
       "       label                                          full_text\n",
       "31885      2  adrianzeneduard tenemos que resaltar que el pa...\n",
       "7102       2  ser candidato por el partido frente amplio con...\n",
       "32174      0  triciclodelperu  el propietario del partidomor...\n",
       "35699      0  en menos de una semana el partidomorado pas ha...\n",
       "8190       0  alberto belaunde no hay marcha atrs cada del p..."
      ]
     },
     "execution_count": 13,
     "metadata": {},
     "output_type": "execute_result"
    }
   ],
   "source": [
    "df_w.head()"
   ]
  },
  {
   "cell_type": "code",
   "execution_count": 14,
   "id": "c98bae6d-7375-47d3-98ae-5949dd722cf5",
   "metadata": {},
   "outputs": [],
   "source": [
    "df_w = df_w.rename(columns={\"label\": \"category\"})\n",
    "\n",
    "for column in df_w.columns:\n",
    "    if column == \"full_text\":\n",
    "        df_w = df_w.rename(columns={\"full_text\":\"text_changed\"})\n",
    "    else:\n",
    "        pass\n",
    "## Cambiar aca, SOLO si usas \"SIN preprocess\", sino, ignorar"
   ]
  },
  {
   "cell_type": "code",
   "execution_count": 15,
   "id": "c20bfa28-8598-410c-962c-fcdc15e791f6",
   "metadata": {},
   "outputs": [
    {
     "data": {
      "image/png": "[encoded data removed]",
      "text/plain": [
       "<Figure size 640x480 with 1 Axes>"
      ]
     },
     "metadata": {},
     "output_type": "display_data"
    }
   ],
   "source": [
    "y = df_w['category']\n",
    "\n",
    "count = y.value_counts()\n",
    "count.plot.bar()\n",
    "plt.ylabel('Number of records')\n",
    "plt.xlabel('Target Class')\n",
    "plt.show()"
   ]
  },
  {
   "cell_type": "code",
   "execution_count": 16,
   "id": "f6b6112e-3705-4368-9edf-c47cb0e92c40",
   "metadata": {},
   "outputs": [],
   "source": [
    "def map_to_categorical(df):\n",
    "    # Generate number representation for category field\n",
    "    df['label'] = pd.Categorical(df.category, ordered=True).codes\n",
    "    df['label'].unique()\n",
    "\n",
    "    # Map labels to human readable category inside a dictionary\n",
    "    mapLabels = pd.DataFrame(df.groupby(['category', 'label']).count())\n",
    "\n",
    "    #drop count column\n",
    "    mapLabels.drop(['text_changed'], axis = 1, inplace = True)\n",
    "    label2Index = mapLabels.to_dict(orient='index')\n",
    "\n",
    "    print (f\"label2Index :{label2Index}\")\n",
    "    print (type(label2Index))\n",
    "    #print (f\"index2Label :{index2Label}\")\n",
    "\n",
    "    # generate inverse dictionary to map in both directions\n",
    "    index2label = {}\n",
    "\n",
    "    for key in label2Index:\n",
    "      '''\n",
    "      print (f\"{key[1]} -> {key[0]}\")\n",
    "      '''\n",
    "      index2label[key[1]] = key[0]\n",
    "\n",
    "    label2Index = {v: k for k, v in index2label.items()}\n",
    "    print(label2Index)\n",
    "\n",
    "    df.rename(columns = {'label' : 'labels', 'text_changed' : 'text'}, inplace = True)\n",
    "\n",
    "    df = df[['text','labels']]\n",
    "    return df, label2Index, index2label"
   ]
  },
  {
   "cell_type": "code",
   "execution_count": 17,
   "id": "c0f853ba-9943-401f-ace0-e9b9196821f4",
   "metadata": {
    "scrolled": true
   },
   "outputs": [
    {
     "name": "stdout",
     "output_type": "stream",
     "text": [
      "label2Index :{(0, 0): {}, (1, 1): {}, (2, 2): {}}\n",
      "<class 'dict'>\n",
      "{0: 0, 1: 1, 2: 2}\n"
     ]
    }
   ],
   "source": [
    "df, label2Index, index2label =  map_to_categorical(df_w)"
   ]
  },
  {
   "cell_type": "code",
   "execution_count": 18,
   "id": "98b035a7-3774-44cb-85a6-822177faa872",
   "metadata": {},
   "outputs": [],
   "source": [
    "# whole_data = np.array(df)"
   ]
  },
  {
   "cell_type": "code",
   "execution_count": 19,
   "id": "b6e0a482-acbb-4866-983b-ebdc3710893b",
   "metadata": {},
   "outputs": [
    {
     "data": {
      "text/html": [
       "<div>\n",
       "<style scoped>\n",
       "    .dataframe tbody tr th:only-of-type {\n",
       "        vertical-align: middle;\n",
       "    }\n",
       "\n",
       "    .dataframe tbody tr th {\n",
       "        vertical-align: top;\n",
       "    }\n",
       "\n",
       "    .dataframe thead th {\n",
       "        text-align: right;\n",
       "    }\n",
       "</style>\n",
       "<table border=\"1\" class=\"dataframe\">\n",
       "  <thead>\n",
       "    <tr style=\"text-align: right;\">\n",
       "      <th></th>\n",
       "      <th>text</th>\n",
       "      <th>labels</th>\n",
       "    </tr>\n",
       "  </thead>\n",
       "  <tbody>\n",
       "    <tr>\n",
       "      <th>31885</th>\n",
       "      <td>adrianzeneduard tenemos que resaltar que el pa...</td>\n",
       "      <td>2</td>\n",
       "    </tr>\n",
       "    <tr>\n",
       "      <th>7102</th>\n",
       "      <td>ser candidato por el partido frente amplio con...</td>\n",
       "      <td>2</td>\n",
       "    </tr>\n",
       "  </tbody>\n",
       "</table>\n",
       "</div>"
      ],
      "text/plain": [
       "                                                    text  labels\n",
       "31885  adrianzeneduard tenemos que resaltar que el pa...       2\n",
       "7102   ser candidato por el partido frente amplio con...       2"
      ]
     },
     "execution_count": 19,
     "metadata": {},
     "output_type": "execute_result"
    }
   ],
   "source": [
    "df.head(2)"
   ]
  },
  {
   "cell_type": "code",
   "execution_count": 20,
   "id": "f5a983f1-17db-4b9b-87b6-efbc1052df50",
   "metadata": {},
   "outputs": [],
   "source": [
    "# One Hot Encode a continues label value (eg. 0-4)\n",
    "\n",
    "def one_hot_encoding_labels(df):\n",
    "    arr = df['labels'].values\n",
    "    \n",
    "    labels = np.zeros((arr.size, arr.max() + 1), dtype=int)\n",
    "    labels[np.arange(arr.size), arr] = 1\n",
    "    '''\n",
    "    for i in range(0, 20):\n",
    "        print(labels[i])\n",
    "    '''   \n",
    "    return labels, arr"
   ]
  },
  {
   "cell_type": "code",
   "execution_count": 21,
   "id": "c424617a-dcd2-49f5-b4aa-9d0daf4bf970",
   "metadata": {},
   "outputs": [],
   "source": [
    "labels, arr = one_hot_encoding_labels(df)"
   ]
  },
  {
   "cell_type": "code",
   "execution_count": 22,
   "id": "d72ae084-c5b7-4306-90eb-d5c6375a0b95",
   "metadata": {},
   "outputs": [],
   "source": [
    "#Encode Text Input Data\n",
    "seqlen = df['text'].apply(lambda x: len(x.split()))\n",
    "\n",
    "# Maximum length of the text we are going to train and predict here\n",
    "SEQ_LEN = 256"
   ]
  },
  {
   "cell_type": "code",
   "execution_count": 23,
   "id": "f45a48c6-c1b6-4567-af0e-148f27612989",
   "metadata": {},
   "outputs": [],
   "source": [
    "from transformers import DistilBertTokenizerFast\n",
    "\n",
    "def tokenize_data(SEQ_LEN, df):\n",
    "    # initialize numpy arrays for Token-Ids and Attention Masks\n",
    "    tokenizer = DistilBertTokenizerFast.from_pretrained(\"distilbert-base-multilingual-cased\")\n",
    "\n",
    "    Xids = np.zeros((len(df), SEQ_LEN), dtype=int)\n",
    "    Xmask = np.zeros((len(df), SEQ_LEN), dtype=int)\n",
    "    for i, sequence in enumerate(df['text']):\n",
    "      tokens = tokenizer.encode_plus(sequence\n",
    "                                   ,max_length = SEQ_LEN          \n",
    "                                   ,truncation=True               \n",
    "                                   ,padding='max_length'          \n",
    "                                   ,add_special_tokens=True       \n",
    "                                   ,return_token_type_ids = False \n",
    "                                   ,return_attention_mask = True\n",
    "                                   ,return_tensors='tf')\n",
    "\n",
    "      Xids[i, :], Xmask[i, :] = tokens['input_ids'], tokens['attention_mask']\n",
    "    \n",
    "    return Xids, Xmask, tokenizer"
   ]
  },
  {
   "cell_type": "code",
   "execution_count": 24,
   "id": "78cf9567-0142-486e-9fb5-8b7d270c723b",
   "metadata": {},
   "outputs": [],
   "source": [
    "# for i, sequence in enumerate(df['text']):\n",
    "#     print(i)\n",
    "#     print(sequence)"
   ]
  },
  {
   "cell_type": "code",
   "execution_count": 25,
   "id": "15b84b27-8c4c-417c-9387-d99bb8f5688f",
   "metadata": {},
   "outputs": [],
   "source": [
    "Xids, Xmask, tokenizer = tokenize_data(SEQ_LEN, df)"
   ]
  },
  {
   "cell_type": "code",
   "execution_count": 26,
   "id": "e2f0d7c5-cd14-432f-903d-d237a205cef8",
   "metadata": {},
   "outputs": [],
   "source": [
    "def map_func(input_ids, masks, labels):\n",
    "  return {'input_ids': input_ids, 'attention_mask': masks}, labels"
   ]
  },
  {
   "cell_type": "code",
   "execution_count": 27,
   "id": "0d14e886-4ff7-4f05-96ac-caf3a82e8834",
   "metadata": {},
   "outputs": [],
   "source": [
    "#creating dataset to be fed into bert\n",
    "dataset = tf.data.Dataset.from_tensor_slices((Xids, Xmask, labels))\n",
    "dataset = dataset.map(map_func)"
   ]
  },
  {
   "cell_type": "code",
   "execution_count": 28,
   "id": "5a487b2f-1d57-4775-9ad2-f48829c64efe",
   "metadata": {},
   "outputs": [
    {
     "data": {
      "text/plain": [
       "<MapDataset shapes: ({input_ids: (256,), attention_mask: (256,)}, (3,)), types: ({input_ids: tf.int32, attention_mask: tf.int32}, tf.int32)>"
      ]
     },
     "execution_count": 28,
     "metadata": {},
     "output_type": "execute_result"
    }
   ],
   "source": [
    "dataset"
   ]
  },
  {
   "cell_type": "code",
   "execution_count": 29,
   "id": "a6e91894-2f76-46fe-a35c-823547ccdf1b",
   "metadata": {},
   "outputs": [],
   "source": [
    "#data split\n",
    "def data_split(dataset):\n",
    "    DS_LEN = len(list(dataset))\n",
    "    \n",
    "    SPLIT = .90\n",
    "\n",
    "    # take or skip the specified number of batches to split by factor\n",
    "    test = dataset.skip(round(DS_LEN * SPLIT)).batch(32)\n",
    "    trainevalu = dataset.take(round(DS_LEN * SPLIT))\n",
    "\n",
    "    DS_LEN2 = len(list(trainevalu))\n",
    "\n",
    "    train = trainevalu.take(round(DS_LEN2 * SPLIT)).shuffle(100).batch(32).repeat(2)\n",
    "    evalu = trainevalu.skip(round(DS_LEN2 * SPLIT)).batch(32)\n",
    "    \n",
    "    return test, train, evalu, DS_LEN"
   ]
  },
  {
   "cell_type": "code",
   "execution_count": 30,
   "id": "bbd7264e-9285-4912-8728-5fb62b69ae2f",
   "metadata": {},
   "outputs": [],
   "source": [
    "test, train, evalu, DS_LEN = data_split(dataset)"
   ]
  },
  {
   "cell_type": "code",
   "execution_count": 30,
   "id": "ca47a690-1099-4ec0-a7cc-69c9f91f15d6",
   "metadata": {},
   "outputs": [],
   "source": [
    "from transformers import TFDistilBertForSequenceClassification\n",
    "\n",
    "def build_model():\n",
    "    tranformersPreTrainedModelName = 'distilbert-base-multilingual-cased'\n",
    "    bertConfig = BertConfig.from_pretrained(tranformersPreTrainedModelName\n",
    "                                            , output_hidden_states=True\n",
    "                                            , num_lables=3\n",
    "                                            , max_length=SEQ_LEN\n",
    "                                            , label2id=label2Index\n",
    "                                            , id2label=index2label\n",
    "                                            )\n",
    "\n",
    "    \n",
    "    bert = TFDistilBertForSequenceClassification.from_pretrained(tranformersPreTrainedModelName, config=bertConfig)\n",
    "    return bert"
   ]
  },
  {
   "cell_type": "code",
   "execution_count": 31,
   "id": "5a3c06af-519c-4992-80d0-e811d47d4322",
   "metadata": {},
   "outputs": [
    {
     "name": "stderr",
     "output_type": "stream",
     "text": [
      "You are using a model of type distilbert to instantiate a model of type bert. This is not supported for all configurations of models and can yield errors.\n",
      "Some layers from the model checkpoint at distilbert-base-multilingual-cased were not used when initializing TFDistilBertForSequenceClassification: ['vocab_transform', 'vocab_projector', 'vocab_layer_norm', 'activation_13']\n",
      "- This IS expected if you are initializing TFDistilBertForSequenceClassification from the checkpoint of a model trained on another task or with another architecture (e.g. initializing a BertForSequenceClassification model from a BertForPreTraining model).\n",
      "- This IS NOT expected if you are initializing TFDistilBertForSequenceClassification from the checkpoint of a model that you expect to be exactly identical (initializing a BertForSequenceClassification model from a BertForSequenceClassification model).\n",
      "Some layers of TFDistilBertForSequenceClassification were not initialized from the model checkpoint at distilbert-base-multilingual-cased and are newly initialized: ['classifier', 'dropout_19', 'pre_classifier']\n",
      "You should probably TRAIN this model on a down-stream task to be able to use it for predictions and inference.\n"
     ]
    }
   ],
   "source": [
    "bert = build_model()"
   ]
  },
  {
   "cell_type": "code",
   "execution_count": 32,
   "id": "a0152358-f6f8-49d0-864f-32b1d2510807",
   "metadata": {},
   "outputs": [],
   "source": [
    "def add_inputLayers_to_model(SEQ_LEN, bert):\n",
    "    # build 2 input layers to Bert Model where name needs to match the input values in the dataset\n",
    "    input_ids = tf.keras.Input(shape=(SEQ_LEN,), name = 'input_ids', dtype='int32')\n",
    "    mask = tf.keras.Input(shape=(SEQ_LEN,), name = 'attention_mask', dtype='int32')\n",
    "\n",
    "    embedings = bert.layers[0](input_ids, attention_mask=mask)[0]   ### ACA ESTA LA CLAVE\n",
    "\n",
    "    X = tf.keras.layers.Dropout(0.2)(embedings)\n",
    "    X = tf.keras.layers.Bidirectional(tf.keras.layers.LSTM(768))(X)\n",
    "    X = tf.keras.layers.Dropout(0.3)(X)\n",
    "    y = tf.keras.layers.Dense(len(label2Index), activation='softmax', name='outputs')(X)\n",
    "\n",
    "    model = tf.keras.Model(inputs=[input_ids,mask], outputs=y)\n",
    "    \n",
    "    return model"
   ]
  },
  {
   "cell_type": "code",
   "execution_count": 33,
   "id": "16cdfcab-05b1-41f3-a832-ae3d1234356a",
   "metadata": {},
   "outputs": [],
   "source": [
    "model = add_inputLayers_to_model(SEQ_LEN, bert)\n",
    "model.layers[2].trainable = False"
   ]
  },
  {
   "cell_type": "code",
   "execution_count": 34,
   "id": "138a478a-e674-4b86-a2e0-5386e8bfbbbb",
   "metadata": {},
   "outputs": [],
   "source": [
    "#training our model\n",
    "def train_model(model, train, evalu):\n",
    "    loss=    tf.keras.losses.CategoricalCrossentropy() ## Este es para one hot encode tal y como los tensoriza los labels\n",
    "    optimizer = tf.keras.optimizers.Adam(learning_rate=1e-4, decay=1e-5)\n",
    "    model.compile(\n",
    "        loss=loss,\n",
    "        optimizer=optimizer,\n",
    "        metrics=['accuracy']\n",
    "        )\n",
    "\n",
    "    start = timer()\n",
    "\n",
    "    earlyStop=EarlyStopping(monitor=\"val_loss\",verbose=2,mode='min',patience=3)\n",
    "    \n",
    "    history = model.fit(train\n",
    "                        , validation_data=evalu\n",
    "                        , epochs=11\n",
    "                        , callbacks=[earlyStop])\n",
    "\n",
    "    end = timer()\n",
    "    print(\"Training for 3 classes on Peruvian DS with distilBERT-BiLSTM: \", timedelta(seconds=end-start))\n",
    "    \n",
    "    return model, history"
   ]
  },
  {
   "cell_type": "code",
   "execution_count": 35,
   "id": "8d44388d-fa0d-4319-86e4-37e30281768a",
   "metadata": {},
   "outputs": [
    {
     "name": "stdout",
     "output_type": "stream",
     "text": [
      "Epoch 1/11\n",
      "1830/1830 [==============================] - 259s 140ms/step - loss: 0.7566 - accuracy: 0.6623 - val_loss: 0.5340 - val_accuracy: 0.7745\n",
      "Epoch 2/11\n",
      "1830/1830 [==============================] - 262s 143ms/step - loss: 0.3694 - accuracy: 0.8515 - val_loss: 0.2639 - val_accuracy: 0.8960\n",
      "Epoch 3/11\n",
      "1830/1830 [==============================] - 256s 140ms/step - loss: 0.1872 - accuracy: 0.9283 - val_loss: 0.2199 - val_accuracy: 0.9173\n",
      "Epoch 4/11\n",
      "1830/1830 [==============================] - 251s 137ms/step - loss: 0.1256 - accuracy: 0.9539 - val_loss: 0.1798 - val_accuracy: 0.9345\n",
      "Epoch 5/11\n",
      "1830/1830 [==============================] - 248s 136ms/step - loss: 0.0950 - accuracy: 0.9656 - val_loss: 0.1770 - val_accuracy: 0.9431\n",
      "Epoch 6/11\n",
      "1830/1830 [==============================] - 252s 138ms/step - loss: 0.0817 - accuracy: 0.9703 - val_loss: 0.2010 - val_accuracy: 0.9354\n",
      "Epoch 7/11\n",
      "1830/1830 [==============================] - 248s 136ms/step - loss: 0.0679 - accuracy: 0.9756 - val_loss: 0.1708 - val_accuracy: 0.9502\n",
      "Epoch 8/11\n",
      "1830/1830 [==============================] - 247s 135ms/step - loss: 0.0634 - accuracy: 0.9773 - val_loss: 0.1625 - val_accuracy: 0.9502\n",
      "Epoch 9/11\n",
      "1830/1830 [==============================] - 247s 135ms/step - loss: 0.0558 - accuracy: 0.9799 - val_loss: 0.1484 - val_accuracy: 0.9566\n",
      "Epoch 10/11\n",
      "1830/1830 [==============================] - 247s 135ms/step - loss: 0.0498 - accuracy: 0.9824 - val_loss: 0.1646 - val_accuracy: 0.9514\n",
      "Epoch 11/11\n",
      "1830/1830 [==============================] - 247s 135ms/step - loss: 0.0451 - accuracy: 0.9837 - val_loss: 0.1377 - val_accuracy: 0.9566\n",
      "Training for 3 classes on Peruvian DS with distilBERT-BiLSTM:  0:46:04.731640\n"
     ]
    }
   ],
   "source": [
    "model, history = train_model(model, train, evalu)"
   ]
  },
  {
   "cell_type": "code",
   "execution_count": 36,
   "id": "60c41f6d-0c43-4e2c-8633-27b2ca2b0c92",
   "metadata": {},
   "outputs": [
    {
     "data": {
      "image/png": "[encoded data removed]",
      "text/plain": [
       "<Figure size 640x480 with 1 Axes>"
      ]
     },
     "metadata": {},
     "output_type": "display_data"
    },
    {
     "data": {
      "image/png": "[encoded data removed]",
      "text/plain": [
       "<Figure size 640x480 with 1 Axes>"
      ]
     },
     "metadata": {},
     "output_type": "display_data"
    }
   ],
   "source": [
    "def plot_graphs(history, string):\n",
    "  plt.plot(history.history[string])\n",
    "  plt.plot(history.history['val_'+string])\n",
    "  plt.xlabel(\"Epochs\")\n",
    "  plt.ylabel(string)\n",
    "  plt.legend([string, 'val_'+string])\n",
    "  plt.show()\n",
    "  \n",
    "plot_graphs(history, \"accuracy\")\n",
    "plot_graphs(history, \"loss\")"
   ]
  },
  {
   "cell_type": "markdown",
   "id": "1db23cb0-e221-432a-bb95-117d22449d0c",
   "metadata": {},
   "source": [
    "### Guardamso el modelo"
   ]
  },
  {
   "cell_type": "code",
   "execution_count": 37,
   "id": "6ace97ba-f64e-461a-835b-0930e41e189e",
   "metadata": {},
   "outputs": [
    {
     "name": "stdout",
     "output_type": "stream",
     "text": [
      "WARNING:tensorflow:Skipping full serialization of Keras layer <keras.layers.core.dropout.Dropout object at 0x000001E24F58BC18>, because it is not built.\n",
      "WARNING:tensorflow:Skipping full serialization of Keras layer <keras.layers.core.dropout.Dropout object at 0x000001E24F5BB7B8>, because it is not built.\n",
      "WARNING:tensorflow:Skipping full serialization of Keras layer <keras.layers.core.dropout.Dropout object at 0x000001E24F5D8F60>, because it is not built.\n",
      "WARNING:tensorflow:Skipping full serialization of Keras layer <keras.layers.core.dropout.Dropout object at 0x000001E4C62CE748>, because it is not built.\n",
      "WARNING:tensorflow:Skipping full serialization of Keras layer <keras.layers.core.dropout.Dropout object at 0x000001E4C62DF710>, because it is not built.\n",
      "WARNING:tensorflow:Skipping full serialization of Keras layer <keras.layers.core.dropout.Dropout object at 0x000001E4C62F0780>, because it is not built.\n"
     ]
    },
    {
     "name": "stderr",
     "output_type": "stream",
     "text": [
      "WARNING:absl:Found untraced functions such as embeddings_layer_call_fn, embeddings_layer_call_and_return_conditional_losses, transformer_layer_call_fn, transformer_layer_call_and_return_conditional_losses, add_layer_call_fn while saving (showing 5 of 425). These functions will not be directly callable after loading.\n"
     ]
    },
    {
     "name": "stdout",
     "output_type": "stream",
     "text": [
      "INFO:tensorflow:Assets written to: modelo_hibrido_CON_preprocessing\\assets\n"
     ]
    },
    {
     "name": "stderr",
     "output_type": "stream",
     "text": [
      "INFO:tensorflow:Assets written to: modelo_hibrido_CON_preprocessing\\assets\n",
      "C:\\Users\\MSVF9\\anaconda3\\envs\\ultima_cosa2_UNIR\\lib\\site-packages\\keras\\saving\\saved_model\\layer_serialization.py:112: CustomMaskWarning: Custom mask layers require a config and must override get_config. When loading, the custom mask layer must be passed to the custom_objects argument.\n",
      "  return generic_utils.serialize_keras_object(obj)\n",
      "WARNING:absl:<keras.layers.recurrent.LSTMCell object at 0x000001E254441FD0> has the same name 'LSTMCell' as a built-in Keras object. Consider renaming <class 'keras.layers.recurrent.LSTMCell'> to avoid naming conflicts when loading with `tf.keras.models.load_model`. If renaming is not possible, pass the object in the `custom_objects` parameter of the load function.\n",
      "WARNING:absl:<keras.layers.recurrent.LSTMCell object at 0x000001E4C0D0BAC8> has the same name 'LSTMCell' as a built-in Keras object. Consider renaming <class 'keras.layers.recurrent.LSTMCell'> to avoid naming conflicts when loading with `tf.keras.models.load_model`. If renaming is not possible, pass the object in the `custom_objects` parameter of the load function.\n"
     ]
    },
    {
     "data": {
      "text/plain": [
       "('modelo_hibrido_CON_preprocessing\\\\tokenizer_config.json',\n",
       " 'modelo_hibrido_CON_preprocessing\\\\special_tokens_map.json',\n",
       " 'modelo_hibrido_CON_preprocessing\\\\vocab.txt',\n",
       " 'modelo_hibrido_CON_preprocessing\\\\added_tokens.json',\n",
       " 'modelo_hibrido_CON_preprocessing\\\\tokenizer.json')"
      ]
     },
     "execution_count": 37,
     "metadata": {},
     "output_type": "execute_result"
    }
   ],
   "source": [
    "model.save(\"modelo_hibrido_sin_preprocessing\")\n",
    "tokenizer.save_pretrained(\"modelo_hibrido_sin_preprocessing\")"
   ]
  },
  {
   "cell_type": "markdown",
   "id": "67547755-273f-4ff1-a145-895e0bb12fb8",
   "metadata": {},
   "source": [
    "#### Cargamos el modelo"
   ]
  },
  {
   "cell_type": "code",
   "execution_count": 31,
   "id": "54e281b3-6a61-40d7-8885-dc59ba51b7ce",
   "metadata": {},
   "outputs": [],
   "source": [
    "import tensorflow as tf\n",
    "from transformers import AutoTokenizer\n",
    "\n",
    "model_load_path = './modelo_hibrido_sin_preprocessing'\n",
    "\n",
    "# 1. Define the custom objects needed for the LSTM cells\n",
    "#    Since your BiLSTM uses the standard Keras LSTM layer, you just pass that layer.\n",
    "custom_objects = {\n",
    "    'LSTM': tf.keras.layers.LSTM\n",
    "}\n",
    "\n",
    "# 2. Load the model using custom_objects\n",
    "loaded_model = tf.keras.models.load_model(\n",
    "    model_load_path, \n",
    "    custom_objects=custom_objects\n",
    ")\n",
    "\n",
    "# 3. Load the tokenizer (no changes here)\n",
    "loaded_tokenizer = AutoTokenizer.from_pretrained(model_load_path)"
   ]
  },
  {
   "cell_type": "code",
   "execution_count": 32,
   "id": "20de17cc-8fc8-4fdb-8368-e8776a6328d0",
   "metadata": {},
   "outputs": [
    {
     "data": {
      "text/plain": [
       "PreTrainedTokenizerFast(name_or_path='./modelo_hibrido_sin_preprocessing', vocab_size=119547, model_max_len=512, is_fast=True, padding_side='right', special_tokens={'unk_token': '[UNK]', 'sep_token': '[SEP]', 'pad_token': '[PAD]', 'cls_token': '[CLS]', 'mask_token': '[MASK]'})"
      ]
     },
     "execution_count": 32,
     "metadata": {},
     "output_type": "execute_result"
    }
   ],
   "source": [
    "loaded_tokenizer"
   ]
  },
  {
   "cell_type": "markdown",
   "id": "a750a6e8-a191-494b-87a0-fa45d5cf13f1",
   "metadata": {},
   "source": [
    "## EVALUAMOS"
   ]
  },
  {
   "cell_type": "code",
   "execution_count": 33,
   "id": "2ed0fc5c-4253-4af7-8f69-3ebf49aedf29",
   "metadata": {},
   "outputs": [
    {
     "name": "stdout",
     "output_type": "stream",
     "text": [
      "102/102 [==============================] - 11s 94ms/step - loss: 0.0118 - accuracy: 0.9960\n",
      "test loss, test accuracy: [0.01183909922838211, 0.9960110187530518]\n"
     ]
    }
   ],
   "source": [
    "# Evaluation\n",
    "results = loaded_model.evaluate(evalu)\n",
    "# results = model.evaluate(evalu)\n",
    "print(\"test loss, test accuracy:\", results)"
   ]
  },
  {
   "cell_type": "code",
   "execution_count": 34,
   "id": "c4beb2b9-da8b-4853-bee8-1dfa3d484254",
   "metadata": {},
   "outputs": [],
   "source": [
    "#extracting test labels and predicted labels\n",
    "def extract_labels(test, predictions):\n",
    "    test_len = len(list(test))\n",
    "    count_batch  = 0     \n",
    "    y_pred = []#store predicted label\n",
    "    y_test = []#store test label\n",
    "   \n",
    "    batch_size = 32\n",
    "    check_batch = 0\n",
    "    out_of_bounds = len(predictions)%batch_size \n",
    "    index = 0\n",
    "\n",
    "    for item in test.take(test_len):\n",
    "\n",
    "        check_batch = check_batch+1\n",
    "\n",
    "        for i in range(batch_size):\n",
    "            if check_batch == test_len and i==out_of_bounds:\n",
    "                break\n",
    "\n",
    "            actualLabelIdx=np.argmax(item[1][i])\n",
    "\n",
    "            index = batch_size*count_batch+i #index of a prediction\n",
    "\n",
    "            predicLabelIdx=np.argmax(predictions[index])\n",
    "\n",
    "            y_pred.append(predicLabelIdx)\n",
    "            y_test.append(actualLabelIdx)\n",
    "\n",
    "        count_batch = count_batch +1\n",
    "        \n",
    "    return y_pred, y_test\n"
   ]
  },
  {
   "cell_type": "code",
   "execution_count": 35,
   "id": "66c79713-cf2a-46eb-a988-624d2b0e7473",
   "metadata": {},
   "outputs": [],
   "source": [
    "#confusion matrix and classifcation report\n",
    "def eval_report(y_pred, y_test):\n",
    "    \n",
    "    print(\"Confusion matrix: \\n\\n\", confusion_matrix(y_test, y_pred))\n",
    "    print()\n",
    "    print(\"Classification report: \\n\", classification_report(y_test, y_pred))"
   ]
  },
  {
   "cell_type": "code",
   "execution_count": 38,
   "id": "1ba19436-e5d0-44fc-994a-a572aae8d728",
   "metadata": {},
   "outputs": [],
   "source": [
    "predictions_eval = loaded_model.predict(evalu)\n",
    "# predictions_eval = model.predict(evalu)"
   ]
  },
  {
   "cell_type": "code",
   "execution_count": 39,
   "id": "5ac0e8a7-cc01-4537-8077-6fd4c53e63bc",
   "metadata": {},
   "outputs": [],
   "source": [
    "y_pred_eval, y_eval = extract_labels(evalu, predictions_eval)"
   ]
  },
  {
   "cell_type": "code",
   "execution_count": 40,
   "id": "6acabe97-3824-4295-a6d6-ad3b79bdbf7d",
   "metadata": {
    "scrolled": true
   },
   "outputs": [
    {
     "name": "stdout",
     "output_type": "stream",
     "text": [
      "Confusion matrix: \n",
      "\n",
      " [[1411    2    0]\n",
      " [   7  864    1]\n",
      " [   3    0  971]]\n",
      "\n",
      "Classification report: \n",
      "               precision    recall  f1-score   support\n",
      "\n",
      "           0       0.99      1.00      1.00      1413\n",
      "           1       1.00      0.99      0.99       872\n",
      "           2       1.00      1.00      1.00       974\n",
      "\n",
      "    accuracy                           1.00      3259\n",
      "   macro avg       1.00      1.00      1.00      3259\n",
      "weighted avg       1.00      1.00      1.00      3259\n",
      "\n"
     ]
    }
   ],
   "source": [
    "eval_report(y_pred_eval, y_eval)"
   ]
  },
  {
   "cell_type": "markdown",
   "id": "e8a5cb50-1a42-4b9d-aefd-b09a2e0e2a99",
   "metadata": {},
   "source": [
    "### TEST"
   ]
  },
  {
   "cell_type": "code",
   "execution_count": 42,
   "id": "39eca701-9feb-4bd1-8346-615c6e6cb99c",
   "metadata": {},
   "outputs": [],
   "source": [
    "# Ahora con EL testing\n",
    "predictions = loaded_model.predict(test)\n",
    "# predictions = model.predict(test)"
   ]
  },
  {
   "cell_type": "code",
   "execution_count": 44,
   "id": "c9b62a31-d3d7-4455-b02b-eb0deae2e9a8",
   "metadata": {},
   "outputs": [],
   "source": [
    "#extracting test labels and predicted labels\n",
    "y_pred, y_test = extract_labels(test, predictions)"
   ]
  },
  {
   "cell_type": "code",
   "execution_count": 45,
   "id": "d4d98ae0-884e-4c0d-9cfc-b8010b4c14c2",
   "metadata": {},
   "outputs": [
    {
     "name": "stdout",
     "output_type": "stream",
     "text": [
      "Confusion matrix: \n",
      "\n",
      " [[1678    0    1]\n",
      " [   9  903    4]\n",
      " [   2    1 1023]]\n",
      "\n",
      "Classification report: \n",
      "               precision    recall  f1-score   support\n",
      "\n",
      "           0       0.99      1.00      1.00      1679\n",
      "           1       1.00      0.99      0.99       916\n",
      "           2       1.00      1.00      1.00      1026\n",
      "\n",
      "    accuracy                           1.00      3621\n",
      "   macro avg       1.00      0.99      0.99      3621\n",
      "weighted avg       1.00      1.00      1.00      3621\n",
      "\n"
     ]
    }
   ],
   "source": [
    "eval_report(y_pred, y_test)"
   ]
  },
  {
   "cell_type": "code",
   "execution_count": 46,
   "id": "14b44958-d1ba-4c34-b3f4-1e2b1bc00676",
   "metadata": {},
   "outputs": [
    {
     "data": {
      "image/png": "[encoded data removed]",
      "text/plain": [
       "<Figure size 640x480 with 2 Axes>"
      ]
     },
     "metadata": {},
     "output_type": "display_data"
    }
   ],
   "source": [
    "from sklearn.metrics import confusion_matrix, ConfusionMatrixDisplay\n",
    "import matplotlib.pyplot as plt\n",
    "import numpy\n",
    "\n",
    "confusion_matrix = confusion_matrix(y_test, y_pred)\n",
    "\n",
    "cm_display = ConfusionMatrixDisplay(confusion_matrix = confusion_matrix)\n",
    "\n",
    "cm_display.plot()\n",
    "plt.show()"
   ]
  },
  {
   "cell_type": "code",
   "execution_count": 47,
   "id": "4cd806e7-16b6-4bfd-b4a6-b45877a542d4",
   "metadata": {
    "scrolled": true
   },
   "outputs": [],
   "source": [
    "# all_labels = []\n",
    "# for features_batch, labels_batch in test:\n",
    "#     # Convert labels_batch to a NumPy array for easier manipulation\n",
    "#     #print(labels_batch)\n",
    "#     labels_numpy = labels_batch.numpy()\n",
    "#     print(labels_numpy)\n",
    "#     all_labels.extend(labels_numpy)"
   ]
  },
  {
   "cell_type": "code",
   "execution_count": null,
   "id": "836f027b-b350-4356-9e31-fd20d495e0f4",
   "metadata": {},
   "outputs": [],
   "source": []
  },
  {
   "cell_type": "code",
   "execution_count": null,
   "id": "d9f18489-b4b4-4e6e-b430-0f9684cc1921",
   "metadata": {},
   "outputs": [],
   "source": []
  },
  {
   "cell_type": "code",
   "execution_count": null,
   "id": "a621f858-f459-4b77-8ffd-c005b2b9c6fd",
   "metadata": {},
   "outputs": [],
   "source": []
  },
  {
   "cell_type": "code",
   "execution_count": null,
   "id": "45c957fe-9fb0-4755-9041-26493195c562",
   "metadata": {},
   "outputs": [],
   "source": []
  },
  {
   "cell_type": "code",
   "execution_count": null,
   "id": "101ec101-f015-490c-a7db-2b9247dbd6e1",
   "metadata": {},
   "outputs": [],
   "source": []
  }
 ],
 "metadata": {
  "kernelspec": {
   "display_name": "Python [conda env:ultima_cosa2_UNIR]",
   "language": "python",
   "name": "conda-env-ultima_cosa2_UNIR-py"
  },
  "language_info": {
   "codemirror_mode": {
    "name": "ipython",
    "version": 3
   },
   "file_extension": ".py",
   "mimetype": "text/x-python",
   "name": "python",
   "nbconvert_exporter": "python",
   "pygments_lexer": "ipython3",
   "version": "3.7.2"
  }
 },
 "nbformat": 4,
 "nbformat_minor": 5
}
