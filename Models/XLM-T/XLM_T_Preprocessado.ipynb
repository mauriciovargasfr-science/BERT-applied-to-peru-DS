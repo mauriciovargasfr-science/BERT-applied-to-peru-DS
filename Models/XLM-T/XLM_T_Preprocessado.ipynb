{
  "nbformat": 4,
  "nbformat_minor": 0,
  "metadata": {
    "colab": {
      "provenance": [],
      "gpuType": "T4"
    },
    "kernelspec": {
      "name": "python3",
      "display_name": "Python 3"
    },
    "language_info": {
      "name": "python"
    },
    "accelerator": "GPU",
    "widgets": {
      "application/vnd.jupyter.widget-state+json": {
        "d91ff02b886a4faeb1f229365ceb3f45": {
          "model_module": "@jupyter-widgets/controls",
          "model_name": "HBoxModel",
          "model_module_version": "1.5.0",
          "state": {
            "_dom_classes": [],
            "_model_module": "@jupyter-widgets/controls",
            "_model_module_version": "1.5.0",
            "_model_name": "HBoxModel",
            "_view_count": null,
            "_view_module": "@jupyter-widgets/controls",
            "_view_module_version": "1.5.0",
            "_view_name": "HBoxView",
            "box_style": "",
            "children": [
              "IPY_MODEL_662f3b283f984eecb46f2fa9b101dfbf",
              "IPY_MODEL_02b27056fa704d4ab35b61c88322daa0",
              "IPY_MODEL_3cdb4a31966643d99677ce6db1514ae2"
            ],
            "layout": "IPY_MODEL_a3d6fb751e7f49918adaf8591dcd574b"
          }
        },
        "662f3b283f984eecb46f2fa9b101dfbf": {
          "model_module": "@jupyter-widgets/controls",
          "model_name": "HTMLModel",
          "model_module_version": "1.5.0",
          "state": {
            "_dom_classes": [],
            "_model_module": "@jupyter-widgets/controls",
            "_model_module_version": "1.5.0",
            "_model_name": "HTMLModel",
            "_view_count": null,
            "_view_module": "@jupyter-widgets/controls",
            "_view_module_version": "1.5.0",
            "_view_name": "HTMLView",
            "description": "",
            "description_tooltip": null,
            "layout": "IPY_MODEL_3d9ebf1370c34338be17bf03f761c078",
            "placeholder": "​",
            "style": "IPY_MODEL_f794f7f7fd8d47f1aea4d23043f46c81",
            "value": "config.json: 100%"
          }
        },
        "02b27056fa704d4ab35b61c88322daa0": {
          "model_module": "@jupyter-widgets/controls",
          "model_name": "FloatProgressModel",
          "model_module_version": "1.5.0",
          "state": {
            "_dom_classes": [],
            "_model_module": "@jupyter-widgets/controls",
            "_model_module_version": "1.5.0",
            "_model_name": "FloatProgressModel",
            "_view_count": null,
            "_view_module": "@jupyter-widgets/controls",
            "_view_module_version": "1.5.0",
            "_view_name": "ProgressView",
            "bar_style": "success",
            "description": "",
            "description_tooltip": null,
            "layout": "IPY_MODEL_6ef3d36e6f4948c185b548332bfa5458",
            "max": 841,
            "min": 0,
            "orientation": "horizontal",
            "style": "IPY_MODEL_af02b8e93f44452f97a22514b0c6ccb6",
            "value": 841
          }
        },
        "3cdb4a31966643d99677ce6db1514ae2": {
          "model_module": "@jupyter-widgets/controls",
          "model_name": "HTMLModel",
          "model_module_version": "1.5.0",
          "state": {
            "_dom_classes": [],
            "_model_module": "@jupyter-widgets/controls",
            "_model_module_version": "1.5.0",
            "_model_name": "HTMLModel",
            "_view_count": null,
            "_view_module": "@jupyter-widgets/controls",
            "_view_module_version": "1.5.0",
            "_view_name": "HTMLView",
            "description": "",
            "description_tooltip": null,
            "layout": "IPY_MODEL_10c74ec4b3ce43b28c5fb84ca2a942d8",
            "placeholder": "​",
            "style": "IPY_MODEL_7f1503e1e9a94377af2edc2359522c79",
            "value": " 841/841 [00:00&lt;00:00, 64.8kB/s]"
          }
        },
        "a3d6fb751e7f49918adaf8591dcd574b": {
          "model_module": "@jupyter-widgets/base",
          "model_name": "LayoutModel",
          "model_module_version": "1.2.0",
          "state": {
            "_model_module": "@jupyter-widgets/base",
            "_model_module_version": "1.2.0",
            "_model_name": "LayoutModel",
            "_view_count": null,
            "_view_module": "@jupyter-widgets/base",
            "_view_module_version": "1.2.0",
            "_view_name": "LayoutView",
            "align_content": null,
            "align_items": null,
            "align_self": null,
            "border": null,
            "bottom": null,
            "display": null,
            "flex": null,
            "flex_flow": null,
            "grid_area": null,
            "grid_auto_columns": null,
            "grid_auto_flow": null,
            "grid_auto_rows": null,
            "grid_column": null,
            "grid_gap": null,
            "grid_row": null,
            "grid_template_areas": null,
            "grid_template_columns": null,
            "grid_template_rows": null,
            "height": null,
            "justify_content": null,
            "justify_items": null,
            "left": null,
            "margin": null,
            "max_height": null,
            "max_width": null,
            "min_height": null,
            "min_width": null,
            "object_fit": null,
            "object_position": null,
            "order": null,
            "overflow": null,
            "overflow_x": null,
            "overflow_y": null,
            "padding": null,
            "right": null,
            "top": null,
            "visibility": null,
            "width": null
          }
        },
        "3d9ebf1370c34338be17bf03f761c078": {
          "model_module": "@jupyter-widgets/base",
          "model_name": "LayoutModel",
          "model_module_version": "1.2.0",
          "state": {
            "_model_module": "@jupyter-widgets/base",
            "_model_module_version": "1.2.0",
            "_model_name": "LayoutModel",
            "_view_count": null,
            "_view_module": "@jupyter-widgets/base",
            "_view_module_version": "1.2.0",
            "_view_name": "LayoutView",
            "align_content": null,
            "align_items": null,
            "align_self": null,
            "border": null,
            "bottom": null,
            "display": null,
            "flex": null,
            "flex_flow": null,
            "grid_area": null,
            "grid_auto_columns": null,
            "grid_auto_flow": null,
            "grid_auto_rows": null,
            "grid_column": null,
            "grid_gap": null,
            "grid_row": null,
            "grid_template_areas": null,
            "grid_template_columns": null,
            "grid_template_rows": null,
            "height": null,
            "justify_content": null,
            "justify_items": null,
            "left": null,
            "margin": null,
            "max_height": null,
            "max_width": null,
            "min_height": null,
            "min_width": null,
            "object_fit": null,
            "object_position": null,
            "order": null,
            "overflow": null,
            "overflow_x": null,
            "overflow_y": null,
            "padding": null,
            "right": null,
            "top": null,
            "visibility": null,
            "width": null
          }
        },
        "f794f7f7fd8d47f1aea4d23043f46c81": {
          "model_module": "@jupyter-widgets/controls",
          "model_name": "DescriptionStyleModel",
          "model_module_version": "1.5.0",
          "state": {
            "_model_module": "@jupyter-widgets/controls",
            "_model_module_version": "1.5.0",
            "_model_name": "DescriptionStyleModel",
            "_view_count": null,
            "_view_module": "@jupyter-widgets/base",
            "_view_module_version": "1.2.0",
            "_view_name": "StyleView",
            "description_width": ""
          }
        },
        "6ef3d36e6f4948c185b548332bfa5458": {
          "model_module": "@jupyter-widgets/base",
          "model_name": "LayoutModel",
          "model_module_version": "1.2.0",
          "state": {
            "_model_module": "@jupyter-widgets/base",
            "_model_module_version": "1.2.0",
            "_model_name": "LayoutModel",
            "_view_count": null,
            "_view_module": "@jupyter-widgets/base",
            "_view_module_version": "1.2.0",
            "_view_name": "LayoutView",
            "align_content": null,
            "align_items": null,
            "align_self": null,
            "border": null,
            "bottom": null,
            "display": null,
            "flex": null,
            "flex_flow": null,
            "grid_area": null,
            "grid_auto_columns": null,
            "grid_auto_flow": null,
            "grid_auto_rows": null,
            "grid_column": null,
            "grid_gap": null,
            "grid_row": null,
            "grid_template_areas": null,
            "grid_template_columns": null,
            "grid_template_rows": null,
            "height": null,
            "justify_content": null,
            "justify_items": null,
            "left": null,
            "margin": null,
            "max_height": null,
            "max_width": null,
            "min_height": null,
            "min_width": null,
            "object_fit": null,
            "object_position": null,
            "order": null,
            "overflow": null,
            "overflow_x": null,
            "overflow_y": null,
            "padding": null,
            "right": null,
            "top": null,
            "visibility": null,
            "width": null
          }
        },
        "af02b8e93f44452f97a22514b0c6ccb6": {
          "model_module": "@jupyter-widgets/controls",
          "model_name": "ProgressStyleModel",
          "model_module_version": "1.5.0",
          "state": {
            "_model_module": "@jupyter-widgets/controls",
            "_model_module_version": "1.5.0",
            "_model_name": "ProgressStyleModel",
            "_view_count": null,
            "_view_module": "@jupyter-widgets/base",
            "_view_module_version": "1.2.0",
            "_view_name": "StyleView",
            "bar_color": null,
            "description_width": ""
          }
        },
        "10c74ec4b3ce43b28c5fb84ca2a942d8": {
          "model_module": "@jupyter-widgets/base",
          "model_name": "LayoutModel",
          "model_module_version": "1.2.0",
          "state": {
            "_model_module": "@jupyter-widgets/base",
            "_model_module_version": "1.2.0",
            "_model_name": "LayoutModel",
            "_view_count": null,
            "_view_module": "@jupyter-widgets/base",
            "_view_module_version": "1.2.0",
            "_view_name": "LayoutView",
            "align_content": null,
            "align_items": null,
            "align_self": null,
            "border": null,
            "bottom": null,
            "display": null,
            "flex": null,
            "flex_flow": null,
            "grid_area": null,
            "grid_auto_columns": null,
            "grid_auto_flow": null,
            "grid_auto_rows": null,
            "grid_column": null,
            "grid_gap": null,
            "grid_row": null,
            "grid_template_areas": null,
            "grid_template_columns": null,
            "grid_template_rows": null,
            "height": null,
            "justify_content": null,
            "justify_items": null,
            "left": null,
            "margin": null,
            "max_height": null,
            "max_width": null,
            "min_height": null,
            "min_width": null,
            "object_fit": null,
            "object_position": null,
            "order": null,
            "overflow": null,
            "overflow_x": null,
            "overflow_y": null,
            "padding": null,
            "right": null,
            "top": null,
            "visibility": null,
            "width": null
          }
        },
        "7f1503e1e9a94377af2edc2359522c79": {
          "model_module": "@jupyter-widgets/controls",
          "model_name": "DescriptionStyleModel",
          "model_module_version": "1.5.0",
          "state": {
            "_model_module": "@jupyter-widgets/controls",
            "_model_module_version": "1.5.0",
            "_model_name": "DescriptionStyleModel",
            "_view_count": null,
            "_view_module": "@jupyter-widgets/base",
            "_view_module_version": "1.2.0",
            "_view_name": "StyleView",
            "description_width": ""
          }
        },
        "c7395216f4e548b4bcc5fdd3551eea7b": {
          "model_module": "@jupyter-widgets/controls",
          "model_name": "HBoxModel",
          "model_module_version": "1.5.0",
          "state": {
            "_dom_classes": [],
            "_model_module": "@jupyter-widgets/controls",
            "_model_module_version": "1.5.0",
            "_model_name": "HBoxModel",
            "_view_count": null,
            "_view_module": "@jupyter-widgets/controls",
            "_view_module_version": "1.5.0",
            "_view_name": "HBoxView",
            "box_style": "",
            "children": [
              "IPY_MODEL_a65376645bfe4f0f8ea1354ccb67f8d4",
              "IPY_MODEL_46ca430c6eec43ef9810ed02a4619809",
              "IPY_MODEL_1abc547d6c824fec80f3b247ee40ebcd"
            ],
            "layout": "IPY_MODEL_9d2e2c5933054f3fb4acc483f08fdf62"
          }
        },
        "a65376645bfe4f0f8ea1354ccb67f8d4": {
          "model_module": "@jupyter-widgets/controls",
          "model_name": "HTMLModel",
          "model_module_version": "1.5.0",
          "state": {
            "_dom_classes": [],
            "_model_module": "@jupyter-widgets/controls",
            "_model_module_version": "1.5.0",
            "_model_name": "HTMLModel",
            "_view_count": null,
            "_view_module": "@jupyter-widgets/controls",
            "_view_module_version": "1.5.0",
            "_view_name": "HTMLView",
            "description": "",
            "description_tooltip": null,
            "layout": "IPY_MODEL_5144cb4036b34bed9de7ea14b9e835c2",
            "placeholder": "​",
            "style": "IPY_MODEL_89c2b3f1e7554515a26f86b8868aecc7",
            "value": "sentencepiece.bpe.model: 100%"
          }
        },
        "46ca430c6eec43ef9810ed02a4619809": {
          "model_module": "@jupyter-widgets/controls",
          "model_name": "FloatProgressModel",
          "model_module_version": "1.5.0",
          "state": {
            "_dom_classes": [],
            "_model_module": "@jupyter-widgets/controls",
            "_model_module_version": "1.5.0",
            "_model_name": "FloatProgressModel",
            "_view_count": null,
            "_view_module": "@jupyter-widgets/controls",
            "_view_module_version": "1.5.0",
            "_view_name": "ProgressView",
            "bar_style": "success",
            "description": "",
            "description_tooltip": null,
            "layout": "IPY_MODEL_abea1102bbb54816ba8f9a96aa0998a0",
            "max": 5069051,
            "min": 0,
            "orientation": "horizontal",
            "style": "IPY_MODEL_deb878af18c14f1fb2c508b0fa1f34f3",
            "value": 5069051
          }
        },
        "1abc547d6c824fec80f3b247ee40ebcd": {
          "model_module": "@jupyter-widgets/controls",
          "model_name": "HTMLModel",
          "model_module_version": "1.5.0",
          "state": {
            "_dom_classes": [],
            "_model_module": "@jupyter-widgets/controls",
            "_model_module_version": "1.5.0",
            "_model_name": "HTMLModel",
            "_view_count": null,
            "_view_module": "@jupyter-widgets/controls",
            "_view_module_version": "1.5.0",
            "_view_name": "HTMLView",
            "description": "",
            "description_tooltip": null,
            "layout": "IPY_MODEL_6518be91534e4c64944e716f59b610f2",
            "placeholder": "​",
            "style": "IPY_MODEL_1e5b0ad0f93a4427bb63becdd5340ee7",
            "value": " 5.07M/5.07M [00:00&lt;00:00, 9.87MB/s]"
          }
        },
        "9d2e2c5933054f3fb4acc483f08fdf62": {
          "model_module": "@jupyter-widgets/base",
          "model_name": "LayoutModel",
          "model_module_version": "1.2.0",
          "state": {
            "_model_module": "@jupyter-widgets/base",
            "_model_module_version": "1.2.0",
            "_model_name": "LayoutModel",
            "_view_count": null,
            "_view_module": "@jupyter-widgets/base",
            "_view_module_version": "1.2.0",
            "_view_name": "LayoutView",
            "align_content": null,
            "align_items": null,
            "align_self": null,
            "border": null,
            "bottom": null,
            "display": null,
            "flex": null,
            "flex_flow": null,
            "grid_area": null,
            "grid_auto_columns": null,
            "grid_auto_flow": null,
            "grid_auto_rows": null,
            "grid_column": null,
            "grid_gap": null,
            "grid_row": null,
            "grid_template_areas": null,
            "grid_template_columns": null,
            "grid_template_rows": null,
            "height": null,
            "justify_content": null,
            "justify_items": null,
            "left": null,
            "margin": null,
            "max_height": null,
            "max_width": null,
            "min_height": null,
            "min_width": null,
            "object_fit": null,
            "object_position": null,
            "order": null,
            "overflow": null,
            "overflow_x": null,
            "overflow_y": null,
            "padding": null,
            "right": null,
            "top": null,
            "visibility": null,
            "width": null
          }
        },
        "5144cb4036b34bed9de7ea14b9e835c2": {
          "model_module": "@jupyter-widgets/base",
          "model_name": "LayoutModel",
          "model_module_version": "1.2.0",
          "state": {
            "_model_module": "@jupyter-widgets/base",
            "_model_module_version": "1.2.0",
            "_model_name": "LayoutModel",
            "_view_count": null,
            "_view_module": "@jupyter-widgets/base",
            "_view_module_version": "1.2.0",
            "_view_name": "LayoutView",
            "align_content": null,
            "align_items": null,
            "align_self": null,
            "border": null,
            "bottom": null,
            "display": null,
            "flex": null,
            "flex_flow": null,
            "grid_area": null,
            "grid_auto_columns": null,
            "grid_auto_flow": null,
            "grid_auto_rows": null,
            "grid_column": null,
            "grid_gap": null,
            "grid_row": null,
            "grid_template_areas": null,
            "grid_template_columns": null,
            "grid_template_rows": null,
            "height": null,
            "justify_content": null,
            "justify_items": null,
            "left": null,
            "margin": null,
            "max_height": null,
            "max_width": null,
            "min_height": null,
            "min_width": null,
            "object_fit": null,
            "object_position": null,
            "order": null,
            "overflow": null,
            "overflow_x": null,
            "overflow_y": null,
            "padding": null,
            "right": null,
            "top": null,
            "visibility": null,
            "width": null
          }
        },
        "89c2b3f1e7554515a26f86b8868aecc7": {
          "model_module": "@jupyter-widgets/controls",
          "model_name": "DescriptionStyleModel",
          "model_module_version": "1.5.0",
          "state": {
            "_model_module": "@jupyter-widgets/controls",
            "_model_module_version": "1.5.0",
            "_model_name": "DescriptionStyleModel",
            "_view_count": null,
            "_view_module": "@jupyter-widgets/base",
            "_view_module_version": "1.2.0",
            "_view_name": "StyleView",
            "description_width": ""
          }
        },
        "abea1102bbb54816ba8f9a96aa0998a0": {
          "model_module": "@jupyter-widgets/base",
          "model_name": "LayoutModel",
          "model_module_version": "1.2.0",
          "state": {
            "_model_module": "@jupyter-widgets/base",
            "_model_module_version": "1.2.0",
            "_model_name": "LayoutModel",
            "_view_count": null,
            "_view_module": "@jupyter-widgets/base",
            "_view_module_version": "1.2.0",
            "_view_name": "LayoutView",
            "align_content": null,
            "align_items": null,
            "align_self": null,
            "border": null,
            "bottom": null,
            "display": null,
            "flex": null,
            "flex_flow": null,
            "grid_area": null,
            "grid_auto_columns": null,
            "grid_auto_flow": null,
            "grid_auto_rows": null,
            "grid_column": null,
            "grid_gap": null,
            "grid_row": null,
            "grid_template_areas": null,
            "grid_template_columns": null,
            "grid_template_rows": null,
            "height": null,
            "justify_content": null,
            "justify_items": null,
            "left": null,
            "margin": null,
            "max_height": null,
            "max_width": null,
            "min_height": null,
            "min_width": null,
            "object_fit": null,
            "object_position": null,
            "order": null,
            "overflow": null,
            "overflow_x": null,
            "overflow_y": null,
            "padding": null,
            "right": null,
            "top": null,
            "visibility": null,
            "width": null
          }
        },
        "deb878af18c14f1fb2c508b0fa1f34f3": {
          "model_module": "@jupyter-widgets/controls",
          "model_name": "ProgressStyleModel",
          "model_module_version": "1.5.0",
          "state": {
            "_model_module": "@jupyter-widgets/controls",
            "_model_module_version": "1.5.0",
            "_model_name": "ProgressStyleModel",
            "_view_count": null,
            "_view_module": "@jupyter-widgets/base",
            "_view_module_version": "1.2.0",
            "_view_name": "StyleView",
            "bar_color": null,
            "description_width": ""
          }
        },
        "6518be91534e4c64944e716f59b610f2": {
          "model_module": "@jupyter-widgets/base",
          "model_name": "LayoutModel",
          "model_module_version": "1.2.0",
          "state": {
            "_model_module": "@jupyter-widgets/base",
            "_model_module_version": "1.2.0",
            "_model_name": "LayoutModel",
            "_view_count": null,
            "_view_module": "@jupyter-widgets/base",
            "_view_module_version": "1.2.0",
            "_view_name": "LayoutView",
            "align_content": null,
            "align_items": null,
            "align_self": null,
            "border": null,
            "bottom": null,
            "display": null,
            "flex": null,
            "flex_flow": null,
            "grid_area": null,
            "grid_auto_columns": null,
            "grid_auto_flow": null,
            "grid_auto_rows": null,
            "grid_column": null,
            "grid_gap": null,
            "grid_row": null,
            "grid_template_areas": null,
            "grid_template_columns": null,
            "grid_template_rows": null,
            "height": null,
            "justify_content": null,
            "justify_items": null,
            "left": null,
            "margin": null,
            "max_height": null,
            "max_width": null,
            "min_height": null,
            "min_width": null,
            "object_fit": null,
            "object_position": null,
            "order": null,
            "overflow": null,
            "overflow_x": null,
            "overflow_y": null,
            "padding": null,
            "right": null,
            "top": null,
            "visibility": null,
            "width": null
          }
        },
        "1e5b0ad0f93a4427bb63becdd5340ee7": {
          "model_module": "@jupyter-widgets/controls",
          "model_name": "DescriptionStyleModel",
          "model_module_version": "1.5.0",
          "state": {
            "_model_module": "@jupyter-widgets/controls",
            "_model_module_version": "1.5.0",
            "_model_name": "DescriptionStyleModel",
            "_view_count": null,
            "_view_module": "@jupyter-widgets/base",
            "_view_module_version": "1.2.0",
            "_view_name": "StyleView",
            "description_width": ""
          }
        },
        "98f73a87e9014fb6ae69d8cd2728071b": {
          "model_module": "@jupyter-widgets/controls",
          "model_name": "HBoxModel",
          "model_module_version": "1.5.0",
          "state": {
            "_dom_classes": [],
            "_model_module": "@jupyter-widgets/controls",
            "_model_module_version": "1.5.0",
            "_model_name": "HBoxModel",
            "_view_count": null,
            "_view_module": "@jupyter-widgets/controls",
            "_view_module_version": "1.5.0",
            "_view_name": "HBoxView",
            "box_style": "",
            "children": [
              "IPY_MODEL_cbc480b09158464aa7224eb6d6ea8c9c",
              "IPY_MODEL_8984521f2ca0442aac8d60f9532a37bf",
              "IPY_MODEL_523ae298080a419590cb2a46eda6c4aa"
            ],
            "layout": "IPY_MODEL_38708e48a0a3409a9a5468655e9d3c39"
          }
        },
        "cbc480b09158464aa7224eb6d6ea8c9c": {
          "model_module": "@jupyter-widgets/controls",
          "model_name": "HTMLModel",
          "model_module_version": "1.5.0",
          "state": {
            "_dom_classes": [],
            "_model_module": "@jupyter-widgets/controls",
            "_model_module_version": "1.5.0",
            "_model_name": "HTMLModel",
            "_view_count": null,
            "_view_module": "@jupyter-widgets/controls",
            "_view_module_version": "1.5.0",
            "_view_name": "HTMLView",
            "description": "",
            "description_tooltip": null,
            "layout": "IPY_MODEL_5c29f2d5761e4a43815f029864138e03",
            "placeholder": "​",
            "style": "IPY_MODEL_24b662f04b244f9e8f390fc64f84a58b",
            "value": "special_tokens_map.json: 100%"
          }
        },
        "8984521f2ca0442aac8d60f9532a37bf": {
          "model_module": "@jupyter-widgets/controls",
          "model_name": "FloatProgressModel",
          "model_module_version": "1.5.0",
          "state": {
            "_dom_classes": [],
            "_model_module": "@jupyter-widgets/controls",
            "_model_module_version": "1.5.0",
            "_model_name": "FloatProgressModel",
            "_view_count": null,
            "_view_module": "@jupyter-widgets/controls",
            "_view_module_version": "1.5.0",
            "_view_name": "ProgressView",
            "bar_style": "success",
            "description": "",
            "description_tooltip": null,
            "layout": "IPY_MODEL_0fa28e9e3d614f9590c8916dcfc7a6ac",
            "max": 150,
            "min": 0,
            "orientation": "horizontal",
            "style": "IPY_MODEL_7568b2a9d8764feb8ba9fd1cde7b017e",
            "value": 150
          }
        },
        "523ae298080a419590cb2a46eda6c4aa": {
          "model_module": "@jupyter-widgets/controls",
          "model_name": "HTMLModel",
          "model_module_version": "1.5.0",
          "state": {
            "_dom_classes": [],
            "_model_module": "@jupyter-widgets/controls",
            "_model_module_version": "1.5.0",
            "_model_name": "HTMLModel",
            "_view_count": null,
            "_view_module": "@jupyter-widgets/controls",
            "_view_module_version": "1.5.0",
            "_view_name": "HTMLView",
            "description": "",
            "description_tooltip": null,
            "layout": "IPY_MODEL_8927dc2deaea402b94dd88746fada713",
            "placeholder": "​",
            "style": "IPY_MODEL_c191224a70574333ba8c3c3a3813f92b",
            "value": " 150/150 [00:00&lt;00:00, 7.82kB/s]"
          }
        },
        "38708e48a0a3409a9a5468655e9d3c39": {
          "model_module": "@jupyter-widgets/base",
          "model_name": "LayoutModel",
          "model_module_version": "1.2.0",
          "state": {
            "_model_module": "@jupyter-widgets/base",
            "_model_module_version": "1.2.0",
            "_model_name": "LayoutModel",
            "_view_count": null,
            "_view_module": "@jupyter-widgets/base",
            "_view_module_version": "1.2.0",
            "_view_name": "LayoutView",
            "align_content": null,
            "align_items": null,
            "align_self": null,
            "border": null,
            "bottom": null,
            "display": null,
            "flex": null,
            "flex_flow": null,
            "grid_area": null,
            "grid_auto_columns": null,
            "grid_auto_flow": null,
            "grid_auto_rows": null,
            "grid_column": null,
            "grid_gap": null,
            "grid_row": null,
            "grid_template_areas": null,
            "grid_template_columns": null,
            "grid_template_rows": null,
            "height": null,
            "justify_content": null,
            "justify_items": null,
            "left": null,
            "margin": null,
            "max_height": null,
            "max_width": null,
            "min_height": null,
            "min_width": null,
            "object_fit": null,
            "object_position": null,
            "order": null,
            "overflow": null,
            "overflow_x": null,
            "overflow_y": null,
            "padding": null,
            "right": null,
            "top": null,
            "visibility": null,
            "width": null
          }
        },
        "5c29f2d5761e4a43815f029864138e03": {
          "model_module": "@jupyter-widgets/base",
          "model_name": "LayoutModel",
          "model_module_version": "1.2.0",
          "state": {
            "_model_module": "@jupyter-widgets/base",
            "_model_module_version": "1.2.0",
            "_model_name": "LayoutModel",
            "_view_count": null,
            "_view_module": "@jupyter-widgets/base",
            "_view_module_version": "1.2.0",
            "_view_name": "LayoutView",
            "align_content": null,
            "align_items": null,
            "align_self": null,
            "border": null,
            "bottom": null,
            "display": null,
            "flex": null,
            "flex_flow": null,
            "grid_area": null,
            "grid_auto_columns": null,
            "grid_auto_flow": null,
            "grid_auto_rows": null,
            "grid_column": null,
            "grid_gap": null,
            "grid_row": null,
            "grid_template_areas": null,
            "grid_template_columns": null,
            "grid_template_rows": null,
            "height": null,
            "justify_content": null,
            "justify_items": null,
            "left": null,
            "margin": null,
            "max_height": null,
            "max_width": null,
            "min_height": null,
            "min_width": null,
            "object_fit": null,
            "object_position": null,
            "order": null,
            "overflow": null,
            "overflow_x": null,
            "overflow_y": null,
            "padding": null,
            "right": null,
            "top": null,
            "visibility": null,
            "width": null
          }
        },
        "24b662f04b244f9e8f390fc64f84a58b": {
          "model_module": "@jupyter-widgets/controls",
          "model_name": "DescriptionStyleModel",
          "model_module_version": "1.5.0",
          "state": {
            "_model_module": "@jupyter-widgets/controls",
            "_model_module_version": "1.5.0",
            "_model_name": "DescriptionStyleModel",
            "_view_count": null,
            "_view_module": "@jupyter-widgets/base",
            "_view_module_version": "1.2.0",
            "_view_name": "StyleView",
            "description_width": ""
          }
        },
        "0fa28e9e3d614f9590c8916dcfc7a6ac": {
          "model_module": "@jupyter-widgets/base",
          "model_name": "LayoutModel",
          "model_module_version": "1.2.0",
          "state": {
            "_model_module": "@jupyter-widgets/base",
            "_model_module_version": "1.2.0",
            "_model_name": "LayoutModel",
            "_view_count": null,
            "_view_module": "@jupyter-widgets/base",
            "_view_module_version": "1.2.0",
            "_view_name": "LayoutView",
            "align_content": null,
            "align_items": null,
            "align_self": null,
            "border": null,
            "bottom": null,
            "display": null,
            "flex": null,
            "flex_flow": null,
            "grid_area": null,
            "grid_auto_columns": null,
            "grid_auto_flow": null,
            "grid_auto_rows": null,
            "grid_column": null,
            "grid_gap": null,
            "grid_row": null,
            "grid_template_areas": null,
            "grid_template_columns": null,
            "grid_template_rows": null,
            "height": null,
            "justify_content": null,
            "justify_items": null,
            "left": null,
            "margin": null,
            "max_height": null,
            "max_width": null,
            "min_height": null,
            "min_width": null,
            "object_fit": null,
            "object_position": null,
            "order": null,
            "overflow": null,
            "overflow_x": null,
            "overflow_y": null,
            "padding": null,
            "right": null,
            "top": null,
            "visibility": null,
            "width": null
          }
        },
        "7568b2a9d8764feb8ba9fd1cde7b017e": {
          "model_module": "@jupyter-widgets/controls",
          "model_name": "ProgressStyleModel",
          "model_module_version": "1.5.0",
          "state": {
            "_model_module": "@jupyter-widgets/controls",
            "_model_module_version": "1.5.0",
            "_model_name": "ProgressStyleModel",
            "_view_count": null,
            "_view_module": "@jupyter-widgets/base",
            "_view_module_version": "1.2.0",
            "_view_name": "StyleView",
            "bar_color": null,
            "description_width": ""
          }
        },
        "8927dc2deaea402b94dd88746fada713": {
          "model_module": "@jupyter-widgets/base",
          "model_name": "LayoutModel",
          "model_module_version": "1.2.0",
          "state": {
            "_model_module": "@jupyter-widgets/base",
            "_model_module_version": "1.2.0",
            "_model_name": "LayoutModel",
            "_view_count": null,
            "_view_module": "@jupyter-widgets/base",
            "_view_module_version": "1.2.0",
            "_view_name": "LayoutView",
            "align_content": null,
            "align_items": null,
            "align_self": null,
            "border": null,
            "bottom": null,
            "display": null,
            "flex": null,
            "flex_flow": null,
            "grid_area": null,
            "grid_auto_columns": null,
            "grid_auto_flow": null,
            "grid_auto_rows": null,
            "grid_column": null,
            "grid_gap": null,
            "grid_row": null,
            "grid_template_areas": null,
            "grid_template_columns": null,
            "grid_template_rows": null,
            "height": null,
            "justify_content": null,
            "justify_items": null,
            "left": null,
            "margin": null,
            "max_height": null,
            "max_width": null,
            "min_height": null,
            "min_width": null,
            "object_fit": null,
            "object_position": null,
            "order": null,
            "overflow": null,
            "overflow_x": null,
            "overflow_y": null,
            "padding": null,
            "right": null,
            "top": null,
            "visibility": null,
            "width": null
          }
        },
        "c191224a70574333ba8c3c3a3813f92b": {
          "model_module": "@jupyter-widgets/controls",
          "model_name": "DescriptionStyleModel",
          "model_module_version": "1.5.0",
          "state": {
            "_model_module": "@jupyter-widgets/controls",
            "_model_module_version": "1.5.0",
            "_model_name": "DescriptionStyleModel",
            "_view_count": null,
            "_view_module": "@jupyter-widgets/base",
            "_view_module_version": "1.2.0",
            "_view_name": "StyleView",
            "description_width": ""
          }
        },
        "61aeee4419874144aecceb18bb815020": {
          "model_module": "@jupyter-widgets/controls",
          "model_name": "HBoxModel",
          "model_module_version": "1.5.0",
          "state": {
            "_dom_classes": [],
            "_model_module": "@jupyter-widgets/controls",
            "_model_module_version": "1.5.0",
            "_model_name": "HBoxModel",
            "_view_count": null,
            "_view_module": "@jupyter-widgets/controls",
            "_view_module_version": "1.5.0",
            "_view_name": "HBoxView",
            "box_style": "",
            "children": [
              "IPY_MODEL_459aa1c79bf84920b80c2a5bc449e195",
              "IPY_MODEL_916cc5c1b0314819978219cba5327b98",
              "IPY_MODEL_16bf6161b8d04436afe578761b96b8ed"
            ],
            "layout": "IPY_MODEL_13b4cb92f90146258438173d2aace3f3"
          }
        },
        "459aa1c79bf84920b80c2a5bc449e195": {
          "model_module": "@jupyter-widgets/controls",
          "model_name": "HTMLModel",
          "model_module_version": "1.5.0",
          "state": {
            "_dom_classes": [],
            "_model_module": "@jupyter-widgets/controls",
            "_model_module_version": "1.5.0",
            "_model_name": "HTMLModel",
            "_view_count": null,
            "_view_module": "@jupyter-widgets/controls",
            "_view_module_version": "1.5.0",
            "_view_name": "HTMLView",
            "description": "",
            "description_tooltip": null,
            "layout": "IPY_MODEL_cc4062fbe07e49aa8525e19026c61013",
            "placeholder": "​",
            "style": "IPY_MODEL_ba6b4db7a0814d9ab71db1e39041bee7",
            "value": "pytorch_model.bin: 100%"
          }
        },
        "916cc5c1b0314819978219cba5327b98": {
          "model_module": "@jupyter-widgets/controls",
          "model_name": "FloatProgressModel",
          "model_module_version": "1.5.0",
          "state": {
            "_dom_classes": [],
            "_model_module": "@jupyter-widgets/controls",
            "_model_module_version": "1.5.0",
            "_model_name": "FloatProgressModel",
            "_view_count": null,
            "_view_module": "@jupyter-widgets/controls",
            "_view_module_version": "1.5.0",
            "_view_name": "ProgressView",
            "bar_style": "success",
            "description": "",
            "description_tooltip": null,
            "layout": "IPY_MODEL_4a5ee9b4b4e8429c95aeee2d5baf3331",
            "max": 1112271561,
            "min": 0,
            "orientation": "horizontal",
            "style": "IPY_MODEL_adae0d97457e4e09b37aceb614db7465",
            "value": 1112271561
          }
        },
        "16bf6161b8d04436afe578761b96b8ed": {
          "model_module": "@jupyter-widgets/controls",
          "model_name": "HTMLModel",
          "model_module_version": "1.5.0",
          "state": {
            "_dom_classes": [],
            "_model_module": "@jupyter-widgets/controls",
            "_model_module_version": "1.5.0",
            "_model_name": "HTMLModel",
            "_view_count": null,
            "_view_module": "@jupyter-widgets/controls",
            "_view_module_version": "1.5.0",
            "_view_name": "HTMLView",
            "description": "",
            "description_tooltip": null,
            "layout": "IPY_MODEL_81f3473541d3493f856afd3ef6b949fe",
            "placeholder": "​",
            "style": "IPY_MODEL_cc23a126da384c0f823fb4f54dd990de",
            "value": " 1.11G/1.11G [00:16&lt;00:00, 121MB/s]"
          }
        },
        "13b4cb92f90146258438173d2aace3f3": {
          "model_module": "@jupyter-widgets/base",
          "model_name": "LayoutModel",
          "model_module_version": "1.2.0",
          "state": {
            "_model_module": "@jupyter-widgets/base",
            "_model_module_version": "1.2.0",
            "_model_name": "LayoutModel",
            "_view_count": null,
            "_view_module": "@jupyter-widgets/base",
            "_view_module_version": "1.2.0",
            "_view_name": "LayoutView",
            "align_content": null,
            "align_items": null,
            "align_self": null,
            "border": null,
            "bottom": null,
            "display": null,
            "flex": null,
            "flex_flow": null,
            "grid_area": null,
            "grid_auto_columns": null,
            "grid_auto_flow": null,
            "grid_auto_rows": null,
            "grid_column": null,
            "grid_gap": null,
            "grid_row": null,
            "grid_template_areas": null,
            "grid_template_columns": null,
            "grid_template_rows": null,
            "height": null,
            "justify_content": null,
            "justify_items": null,
            "left": null,
            "margin": null,
            "max_height": null,
            "max_width": null,
            "min_height": null,
            "min_width": null,
            "object_fit": null,
            "object_position": null,
            "order": null,
            "overflow": null,
            "overflow_x": null,
            "overflow_y": null,
            "padding": null,
            "right": null,
            "top": null,
            "visibility": null,
            "width": null
          }
        },
        "cc4062fbe07e49aa8525e19026c61013": {
          "model_module": "@jupyter-widgets/base",
          "model_name": "LayoutModel",
          "model_module_version": "1.2.0",
          "state": {
            "_model_module": "@jupyter-widgets/base",
            "_model_module_version": "1.2.0",
            "_model_name": "LayoutModel",
            "_view_count": null,
            "_view_module": "@jupyter-widgets/base",
            "_view_module_version": "1.2.0",
            "_view_name": "LayoutView",
            "align_content": null,
            "align_items": null,
            "align_self": null,
            "border": null,
            "bottom": null,
            "display": null,
            "flex": null,
            "flex_flow": null,
            "grid_area": null,
            "grid_auto_columns": null,
            "grid_auto_flow": null,
            "grid_auto_rows": null,
            "grid_column": null,
            "grid_gap": null,
            "grid_row": null,
            "grid_template_areas": null,
            "grid_template_columns": null,
            "grid_template_rows": null,
            "height": null,
            "justify_content": null,
            "justify_items": null,
            "left": null,
            "margin": null,
            "max_height": null,
            "max_width": null,
            "min_height": null,
            "min_width": null,
            "object_fit": null,
            "object_position": null,
            "order": null,
            "overflow": null,
            "overflow_x": null,
            "overflow_y": null,
            "padding": null,
            "right": null,
            "top": null,
            "visibility": null,
            "width": null
          }
        },
        "ba6b4db7a0814d9ab71db1e39041bee7": {
          "model_module": "@jupyter-widgets/controls",
          "model_name": "DescriptionStyleModel",
          "model_module_version": "1.5.0",
          "state": {
            "_model_module": "@jupyter-widgets/controls",
            "_model_module_version": "1.5.0",
            "_model_name": "DescriptionStyleModel",
            "_view_count": null,
            "_view_module": "@jupyter-widgets/base",
            "_view_module_version": "1.2.0",
            "_view_name": "StyleView",
            "description_width": ""
          }
        },
        "4a5ee9b4b4e8429c95aeee2d5baf3331": {
          "model_module": "@jupyter-widgets/base",
          "model_name": "LayoutModel",
          "model_module_version": "1.2.0",
          "state": {
            "_model_module": "@jupyter-widgets/base",
            "_model_module_version": "1.2.0",
            "_model_name": "LayoutModel",
            "_view_count": null,
            "_view_module": "@jupyter-widgets/base",
            "_view_module_version": "1.2.0",
            "_view_name": "LayoutView",
            "align_content": null,
            "align_items": null,
            "align_self": null,
            "border": null,
            "bottom": null,
            "display": null,
            "flex": null,
            "flex_flow": null,
            "grid_area": null,
            "grid_auto_columns": null,
            "grid_auto_flow": null,
            "grid_auto_rows": null,
            "grid_column": null,
            "grid_gap": null,
            "grid_row": null,
            "grid_template_areas": null,
            "grid_template_columns": null,
            "grid_template_rows": null,
            "height": null,
            "justify_content": null,
            "justify_items": null,
            "left": null,
            "margin": null,
            "max_height": null,
            "max_width": null,
            "min_height": null,
            "min_width": null,
            "object_fit": null,
            "object_position": null,
            "order": null,
            "overflow": null,
            "overflow_x": null,
            "overflow_y": null,
            "padding": null,
            "right": null,
            "top": null,
            "visibility": null,
            "width": null
          }
        },
        "adae0d97457e4e09b37aceb614db7465": {
          "model_module": "@jupyter-widgets/controls",
          "model_name": "ProgressStyleModel",
          "model_module_version": "1.5.0",
          "state": {
            "_model_module": "@jupyter-widgets/controls",
            "_model_module_version": "1.5.0",
            "_model_name": "ProgressStyleModel",
            "_view_count": null,
            "_view_module": "@jupyter-widgets/base",
            "_view_module_version": "1.2.0",
            "_view_name": "StyleView",
            "bar_color": null,
            "description_width": ""
          }
        },
        "81f3473541d3493f856afd3ef6b949fe": {
          "model_module": "@jupyter-widgets/base",
          "model_name": "LayoutModel",
          "model_module_version": "1.2.0",
          "state": {
            "_model_module": "@jupyter-widgets/base",
            "_model_module_version": "1.2.0",
            "_model_name": "LayoutModel",
            "_view_count": null,
            "_view_module": "@jupyter-widgets/base",
            "_view_module_version": "1.2.0",
            "_view_name": "LayoutView",
            "align_content": null,
            "align_items": null,
            "align_self": null,
            "border": null,
            "bottom": null,
            "display": null,
            "flex": null,
            "flex_flow": null,
            "grid_area": null,
            "grid_auto_columns": null,
            "grid_auto_flow": null,
            "grid_auto_rows": null,
            "grid_column": null,
            "grid_gap": null,
            "grid_row": null,
            "grid_template_areas": null,
            "grid_template_columns": null,
            "grid_template_rows": null,
            "height": null,
            "justify_content": null,
            "justify_items": null,
            "left": null,
            "margin": null,
            "max_height": null,
            "max_width": null,
            "min_height": null,
            "min_width": null,
            "object_fit": null,
            "object_position": null,
            "order": null,
            "overflow": null,
            "overflow_x": null,
            "overflow_y": null,
            "padding": null,
            "right": null,
            "top": null,
            "visibility": null,
            "width": null
          }
        },
        "cc23a126da384c0f823fb4f54dd990de": {
          "model_module": "@jupyter-widgets/controls",
          "model_name": "DescriptionStyleModel",
          "model_module_version": "1.5.0",
          "state": {
            "_model_module": "@jupyter-widgets/controls",
            "_model_module_version": "1.5.0",
            "_model_name": "DescriptionStyleModel",
            "_view_count": null,
            "_view_module": "@jupyter-widgets/base",
            "_view_module_version": "1.2.0",
            "_view_name": "StyleView",
            "description_width": ""
          }
        },
        "bf716f3421314b3fa054b4bf933a9c5f": {
          "model_module": "@jupyter-widgets/controls",
          "model_name": "HBoxModel",
          "model_module_version": "1.5.0",
          "state": {
            "_dom_classes": [],
            "_model_module": "@jupyter-widgets/controls",
            "_model_module_version": "1.5.0",
            "_model_name": "HBoxModel",
            "_view_count": null,
            "_view_module": "@jupyter-widgets/controls",
            "_view_module_version": "1.5.0",
            "_view_name": "HBoxView",
            "box_style": "",
            "children": [
              "IPY_MODEL_c5583d793b924d0ea467609b1ee9df70",
              "IPY_MODEL_8a79155a1d4841338deeb179ab3fe153",
              "IPY_MODEL_a867014513e44d4fa7dbb703724076c0"
            ],
            "layout": "IPY_MODEL_269f050105954ea4b65c72ce70288245"
          }
        },
        "c5583d793b924d0ea467609b1ee9df70": {
          "model_module": "@jupyter-widgets/controls",
          "model_name": "HTMLModel",
          "model_module_version": "1.5.0",
          "state": {
            "_dom_classes": [],
            "_model_module": "@jupyter-widgets/controls",
            "_model_module_version": "1.5.0",
            "_model_name": "HTMLModel",
            "_view_count": null,
            "_view_module": "@jupyter-widgets/controls",
            "_view_module_version": "1.5.0",
            "_view_name": "HTMLView",
            "description": "",
            "description_tooltip": null,
            "layout": "IPY_MODEL_bce3bf543c7c45e5a3e585a9ff6372de",
            "placeholder": "​",
            "style": "IPY_MODEL_f04a367c51a647d1bdfc6ca94ce0bd7e",
            "value": "model.safetensors: 100%"
          }
        },
        "8a79155a1d4841338deeb179ab3fe153": {
          "model_module": "@jupyter-widgets/controls",
          "model_name": "FloatProgressModel",
          "model_module_version": "1.5.0",
          "state": {
            "_dom_classes": [],
            "_model_module": "@jupyter-widgets/controls",
            "_model_module_version": "1.5.0",
            "_model_name": "FloatProgressModel",
            "_view_count": null,
            "_view_module": "@jupyter-widgets/controls",
            "_view_module_version": "1.5.0",
            "_view_name": "ProgressView",
            "bar_style": "success",
            "description": "",
            "description_tooltip": null,
            "layout": "IPY_MODEL_cf2b5cfbffb64080a3acdb2bbd1ff07d",
            "max": 1112212292,
            "min": 0,
            "orientation": "horizontal",
            "style": "IPY_MODEL_eddce57c73f247cbad37791137c7c074",
            "value": 1112212292
          }
        },
        "a867014513e44d4fa7dbb703724076c0": {
          "model_module": "@jupyter-widgets/controls",
          "model_name": "HTMLModel",
          "model_module_version": "1.5.0",
          "state": {
            "_dom_classes": [],
            "_model_module": "@jupyter-widgets/controls",
            "_model_module_version": "1.5.0",
            "_model_name": "HTMLModel",
            "_view_count": null,
            "_view_module": "@jupyter-widgets/controls",
            "_view_module_version": "1.5.0",
            "_view_name": "HTMLView",
            "description": "",
            "description_tooltip": null,
            "layout": "IPY_MODEL_ff5af3a7c13a409e8319cc655f12154a",
            "placeholder": "​",
            "style": "IPY_MODEL_a90cd6e04a4547ada2db5fb6a0ee0824",
            "value": " 1.11G/1.11G [00:20&lt;00:00, 67.7MB/s]"
          }
        },
        "269f050105954ea4b65c72ce70288245": {
          "model_module": "@jupyter-widgets/base",
          "model_name": "LayoutModel",
          "model_module_version": "1.2.0",
          "state": {
            "_model_module": "@jupyter-widgets/base",
            "_model_module_version": "1.2.0",
            "_model_name": "LayoutModel",
            "_view_count": null,
            "_view_module": "@jupyter-widgets/base",
            "_view_module_version": "1.2.0",
            "_view_name": "LayoutView",
            "align_content": null,
            "align_items": null,
            "align_self": null,
            "border": null,
            "bottom": null,
            "display": null,
            "flex": null,
            "flex_flow": null,
            "grid_area": null,
            "grid_auto_columns": null,
            "grid_auto_flow": null,
            "grid_auto_rows": null,
            "grid_column": null,
            "grid_gap": null,
            "grid_row": null,
            "grid_template_areas": null,
            "grid_template_columns": null,
            "grid_template_rows": null,
            "height": null,
            "justify_content": null,
            "justify_items": null,
            "left": null,
            "margin": null,
            "max_height": null,
            "max_width": null,
            "min_height": null,
            "min_width": null,
            "object_fit": null,
            "object_position": null,
            "order": null,
            "overflow": null,
            "overflow_x": null,
            "overflow_y": null,
            "padding": null,
            "right": null,
            "top": null,
            "visibility": null,
            "width": null
          }
        },
        "bce3bf543c7c45e5a3e585a9ff6372de": {
          "model_module": "@jupyter-widgets/base",
          "model_name": "LayoutModel",
          "model_module_version": "1.2.0",
          "state": {
            "_model_module": "@jupyter-widgets/base",
            "_model_module_version": "1.2.0",
            "_model_name": "LayoutModel",
            "_view_count": null,
            "_view_module": "@jupyter-widgets/base",
            "_view_module_version": "1.2.0",
            "_view_name": "LayoutView",
            "align_content": null,
            "align_items": null,
            "align_self": null,
            "border": null,
            "bottom": null,
            "display": null,
            "flex": null,
            "flex_flow": null,
            "grid_area": null,
            "grid_auto_columns": null,
            "grid_auto_flow": null,
            "grid_auto_rows": null,
            "grid_column": null,
            "grid_gap": null,
            "grid_row": null,
            "grid_template_areas": null,
            "grid_template_columns": null,
            "grid_template_rows": null,
            "height": null,
            "justify_content": null,
            "justify_items": null,
            "left": null,
            "margin": null,
            "max_height": null,
            "max_width": null,
            "min_height": null,
            "min_width": null,
            "object_fit": null,
            "object_position": null,
            "order": null,
            "overflow": null,
            "overflow_x": null,
            "overflow_y": null,
            "padding": null,
            "right": null,
            "top": null,
            "visibility": null,
            "width": null
          }
        },
        "f04a367c51a647d1bdfc6ca94ce0bd7e": {
          "model_module": "@jupyter-widgets/controls",
          "model_name": "DescriptionStyleModel",
          "model_module_version": "1.5.0",
          "state": {
            "_model_module": "@jupyter-widgets/controls",
            "_model_module_version": "1.5.0",
            "_model_name": "DescriptionStyleModel",
            "_view_count": null,
            "_view_module": "@jupyter-widgets/base",
            "_view_module_version": "1.2.0",
            "_view_name": "StyleView",
            "description_width": ""
          }
        },
        "cf2b5cfbffb64080a3acdb2bbd1ff07d": {
          "model_module": "@jupyter-widgets/base",
          "model_name": "LayoutModel",
          "model_module_version": "1.2.0",
          "state": {
            "_model_module": "@jupyter-widgets/base",
            "_model_module_version": "1.2.0",
            "_model_name": "LayoutModel",
            "_view_count": null,
            "_view_module": "@jupyter-widgets/base",
            "_view_module_version": "1.2.0",
            "_view_name": "LayoutView",
            "align_content": null,
            "align_items": null,
            "align_self": null,
            "border": null,
            "bottom": null,
            "display": null,
            "flex": null,
            "flex_flow": null,
            "grid_area": null,
            "grid_auto_columns": null,
            "grid_auto_flow": null,
            "grid_auto_rows": null,
            "grid_column": null,
            "grid_gap": null,
            "grid_row": null,
            "grid_template_areas": null,
            "grid_template_columns": null,
            "grid_template_rows": null,
            "height": null,
            "justify_content": null,
            "justify_items": null,
            "left": null,
            "margin": null,
            "max_height": null,
            "max_width": null,
            "min_height": null,
            "min_width": null,
            "object_fit": null,
            "object_position": null,
            "order": null,
            "overflow": null,
            "overflow_x": null,
            "overflow_y": null,
            "padding": null,
            "right": null,
            "top": null,
            "visibility": null,
            "width": null
          }
        },
        "eddce57c73f247cbad37791137c7c074": {
          "model_module": "@jupyter-widgets/controls",
          "model_name": "ProgressStyleModel",
          "model_module_version": "1.5.0",
          "state": {
            "_model_module": "@jupyter-widgets/controls",
            "_model_module_version": "1.5.0",
            "_model_name": "ProgressStyleModel",
            "_view_count": null,
            "_view_module": "@jupyter-widgets/base",
            "_view_module_version": "1.2.0",
            "_view_name": "StyleView",
            "bar_color": null,
            "description_width": ""
          }
        },
        "ff5af3a7c13a409e8319cc655f12154a": {
          "model_module": "@jupyter-widgets/base",
          "model_name": "LayoutModel",
          "model_module_version": "1.2.0",
          "state": {
            "_model_module": "@jupyter-widgets/base",
            "_model_module_version": "1.2.0",
            "_model_name": "LayoutModel",
            "_view_count": null,
            "_view_module": "@jupyter-widgets/base",
            "_view_module_version": "1.2.0",
            "_view_name": "LayoutView",
            "align_content": null,
            "align_items": null,
            "align_self": null,
            "border": null,
            "bottom": null,
            "display": null,
            "flex": null,
            "flex_flow": null,
            "grid_area": null,
            "grid_auto_columns": null,
            "grid_auto_flow": null,
            "grid_auto_rows": null,
            "grid_column": null,
            "grid_gap": null,
            "grid_row": null,
            "grid_template_areas": null,
            "grid_template_columns": null,
            "grid_template_rows": null,
            "height": null,
            "justify_content": null,
            "justify_items": null,
            "left": null,
            "margin": null,
            "max_height": null,
            "max_width": null,
            "min_height": null,
            "min_width": null,
            "object_fit": null,
            "object_position": null,
            "order": null,
            "overflow": null,
            "overflow_x": null,
            "overflow_y": null,
            "padding": null,
            "right": null,
            "top": null,
            "visibility": null,
            "width": null
          }
        },
        "a90cd6e04a4547ada2db5fb6a0ee0824": {
          "model_module": "@jupyter-widgets/controls",
          "model_name": "DescriptionStyleModel",
          "model_module_version": "1.5.0",
          "state": {
            "_model_module": "@jupyter-widgets/controls",
            "_model_module_version": "1.5.0",
            "_model_name": "DescriptionStyleModel",
            "_view_count": null,
            "_view_module": "@jupyter-widgets/base",
            "_view_module_version": "1.2.0",
            "_view_name": "StyleView",
            "description_width": ""
          }
        }
      }
    }
  },
  "cells": [
    {
      "cell_type": "code",
      "execution_count": null,
      "metadata": {
        "id": "0kdmwVKK6aOs"
      },
      "outputs": [],
      "source": [
        "from transformers import AutoModel, AutoTokenizer, AutoConfig\n",
        "from transformers import AutoTokenizer, AutoModelForSequenceClassification, Trainer, TrainingArguments\n",
        "from sklearn.model_selection import train_test_split\n",
        "\n",
        "import numpy as np\n",
        "from sklearn.metrics import classification_report, accuracy_score, f1_score\n",
        "\n",
        "import pandas as pd\n",
        "\n",
        "from timeit import default_timer as timer\n",
        "from datetime import timedelta\n",
        "import matplotlib.pyplot as plt\n",
        "\n",
        "import re\n",
        "\n",
        "import torch\n",
        "\n",
        "from torch.utils.data import Dataset"
      ]
    },
    {
      "cell_type": "code",
      "source": [
        "from google.colab import drive\n",
        "drive.mount('/content/drive')"
      ],
      "metadata": {
        "colab": {
          "base_uri": "https://localhost:8080/"
        },
        "id": "RmIXa_vsfmJB",
        "outputId": "186d2b5d-00da-4713-adc3-682cec2658d7"
      },
      "execution_count": null,
      "outputs": [
        {
          "output_type": "stream",
          "name": "stdout",
          "text": [
            "Mounted at /content/drive\n"
          ]
        }
      ]
    },
    {
      "cell_type": "code",
      "source": [
        "torch.cuda.is_available()"
      ],
      "metadata": {
        "colab": {
          "base_uri": "https://localhost:8080/"
        },
        "id": "PrDcCbF06cAI",
        "outputId": "a1317c15-afb2-4e90-ecd6-0292f43f169a"
      },
      "execution_count": null,
      "outputs": [
        {
          "output_type": "execute_result",
          "data": {
            "text/plain": [
              "False"
            ]
          },
          "metadata": {},
          "execution_count": 3
        }
      ]
    },
    {
      "cell_type": "code",
      "source": [
        "torch.cuda.is_available()"
      ],
      "metadata": {
        "colab": {
          "base_uri": "https://localhost:8080/"
        },
        "id": "5ez2v9b66b-J",
        "outputId": "c632c3b2-f9b1-4976-9727-d02f3bd6a0a3"
      },
      "execution_count": null,
      "outputs": [
        {
          "output_type": "execute_result",
          "data": {
            "text/plain": [
              "False"
            ]
          },
          "metadata": {},
          "execution_count": 4
        }
      ]
    },
    {
      "cell_type": "code",
      "source": [
        "# model_name = \"xlm-roberta-base\"\n",
        "model_name = \"cardiffnlp/twitter-xlm-roberta-base-sentiment\"\n",
        "\n",
        "# La librería cargará automáticamente el modelo en PyTorch\n",
        "tokenizer = AutoTokenizer.from_pretrained(model_name, use_fast=True)\n",
        "config = AutoConfig.from_pretrained(model_name) # used for id to label name\n",
        "model = AutoModelForSequenceClassification.from_pretrained(model_name)\n",
        "\n",
        "NUM_LABELS = 3  # Tienes 3 clases: 0, 1, 2 (o Positivo, Neutral, Negativo)"
      ],
      "metadata": {
        "id": "Y7MCdEpo6b8D",
        "colab": {
          "base_uri": "https://localhost:8080/",
          "height": 301,
          "referenced_widgets": [
            "d91ff02b886a4faeb1f229365ceb3f45",
            "662f3b283f984eecb46f2fa9b101dfbf",
            "02b27056fa704d4ab35b61c88322daa0",
            "3cdb4a31966643d99677ce6db1514ae2",
            "a3d6fb751e7f49918adaf8591dcd574b",
            "3d9ebf1370c34338be17bf03f761c078",
            "f794f7f7fd8d47f1aea4d23043f46c81",
            "6ef3d36e6f4948c185b548332bfa5458",
            "af02b8e93f44452f97a22514b0c6ccb6",
            "10c74ec4b3ce43b28c5fb84ca2a942d8",
            "7f1503e1e9a94377af2edc2359522c79",
            "c7395216f4e548b4bcc5fdd3551eea7b",
            "a65376645bfe4f0f8ea1354ccb67f8d4",
            "46ca430c6eec43ef9810ed02a4619809",
            "1abc547d6c824fec80f3b247ee40ebcd",
            "9d2e2c5933054f3fb4acc483f08fdf62",
            "5144cb4036b34bed9de7ea14b9e835c2",
            "89c2b3f1e7554515a26f86b8868aecc7",
            "abea1102bbb54816ba8f9a96aa0998a0",
            "deb878af18c14f1fb2c508b0fa1f34f3",
            "6518be91534e4c64944e716f59b610f2",
            "1e5b0ad0f93a4427bb63becdd5340ee7",
            "98f73a87e9014fb6ae69d8cd2728071b",
            "cbc480b09158464aa7224eb6d6ea8c9c",
            "8984521f2ca0442aac8d60f9532a37bf",
            "523ae298080a419590cb2a46eda6c4aa",
            "38708e48a0a3409a9a5468655e9d3c39",
            "5c29f2d5761e4a43815f029864138e03",
            "24b662f04b244f9e8f390fc64f84a58b",
            "0fa28e9e3d614f9590c8916dcfc7a6ac",
            "7568b2a9d8764feb8ba9fd1cde7b017e",
            "8927dc2deaea402b94dd88746fada713",
            "c191224a70574333ba8c3c3a3813f92b",
            "61aeee4419874144aecceb18bb815020",
            "459aa1c79bf84920b80c2a5bc449e195",
            "916cc5c1b0314819978219cba5327b98",
            "16bf6161b8d04436afe578761b96b8ed",
            "13b4cb92f90146258438173d2aace3f3",
            "cc4062fbe07e49aa8525e19026c61013",
            "ba6b4db7a0814d9ab71db1e39041bee7",
            "4a5ee9b4b4e8429c95aeee2d5baf3331",
            "adae0d97457e4e09b37aceb614db7465",
            "81f3473541d3493f856afd3ef6b949fe",
            "cc23a126da384c0f823fb4f54dd990de",
            "bf716f3421314b3fa054b4bf933a9c5f",
            "c5583d793b924d0ea467609b1ee9df70",
            "8a79155a1d4841338deeb179ab3fe153",
            "a867014513e44d4fa7dbb703724076c0",
            "269f050105954ea4b65c72ce70288245",
            "bce3bf543c7c45e5a3e585a9ff6372de",
            "f04a367c51a647d1bdfc6ca94ce0bd7e",
            "cf2b5cfbffb64080a3acdb2bbd1ff07d",
            "eddce57c73f247cbad37791137c7c074",
            "ff5af3a7c13a409e8319cc655f12154a",
            "a90cd6e04a4547ada2db5fb6a0ee0824"
          ]
        },
        "outputId": "72d749eb-d06b-449a-b705-d3bf373c2397"
      },
      "execution_count": null,
      "outputs": [
        {
          "output_type": "stream",
          "name": "stderr",
          "text": [
            "/usr/local/lib/python3.12/dist-packages/huggingface_hub/utils/_auth.py:94: UserWarning: \n",
            "The secret `HF_TOKEN` does not exist in your Colab secrets.\n",
            "To authenticate with the Hugging Face Hub, create a token in your settings tab (https://huggingface.co/settings/tokens), set it as secret in your Google Colab and restart your session.\n",
            "You will be able to reuse this secret in all of your notebooks.\n",
            "Please note that authentication is recommended but still optional to access public models or datasets.\n",
            "  warnings.warn(\n"
          ]
        },
        {
          "output_type": "display_data",
          "data": {
            "text/plain": [
              "config.json:   0%|          | 0.00/841 [00:00<?, ?B/s]"
            ],
            "application/vnd.jupyter.widget-view+json": {
              "version_major": 2,
              "version_minor": 0,
              "model_id": "d91ff02b886a4faeb1f229365ceb3f45"
            }
          },
          "metadata": {}
        },
        {
          "output_type": "display_data",
          "data": {
            "text/plain": [
              "sentencepiece.bpe.model:   0%|          | 0.00/5.07M [00:00<?, ?B/s]"
            ],
            "application/vnd.jupyter.widget-view+json": {
              "version_major": 2,
              "version_minor": 0,
              "model_id": "c7395216f4e548b4bcc5fdd3551eea7b"
            }
          },
          "metadata": {}
        },
        {
          "output_type": "display_data",
          "data": {
            "text/plain": [
              "special_tokens_map.json:   0%|          | 0.00/150 [00:00<?, ?B/s]"
            ],
            "application/vnd.jupyter.widget-view+json": {
              "version_major": 2,
              "version_minor": 0,
              "model_id": "98f73a87e9014fb6ae69d8cd2728071b"
            }
          },
          "metadata": {}
        },
        {
          "output_type": "display_data",
          "data": {
            "text/plain": [
              "pytorch_model.bin:   0%|          | 0.00/1.11G [00:00<?, ?B/s]"
            ],
            "application/vnd.jupyter.widget-view+json": {
              "version_major": 2,
              "version_minor": 0,
              "model_id": "61aeee4419874144aecceb18bb815020"
            }
          },
          "metadata": {}
        },
        {
          "output_type": "display_data",
          "data": {
            "text/plain": [
              "model.safetensors:   0%|          | 0.00/1.11G [00:00<?, ?B/s]"
            ],
            "application/vnd.jupyter.widget-view+json": {
              "version_major": 2,
              "version_minor": 0,
              "model_id": "bf716f3421314b3fa054b4bf933a9c5f"
            }
          },
          "metadata": {}
        }
      ]
    },
    {
      "cell_type": "code",
      "source": [
        "DATA_PATH = \"/content/drive/MyDrive/Master Seminario 2/data_extended.csv\" # Cambia esto a la ruta de tu archivo\n",
        "# DATA_PATH = \"./data_extended.csv\"\n",
        "df= pd.read_csv(DATA_PATH)\n",
        "df.head()"
      ],
      "metadata": {
        "colab": {
          "base_uri": "https://localhost:8080/",
          "height": 310
        },
        "id": "FpBd420U6bvd",
        "outputId": "bb752add-b42a-4357-cde9-79b5499bfefd"
      },
      "execution_count": null,
      "outputs": [
        {
          "output_type": "execute_result",
          "data": {
            "text/plain": [
              "   Unnamed: 0                                          full_text  POS  \\\n",
              "0           0  Sin ser fan de Juan Gabriel, siempre supe que ...    P   \n",
              "1           1  Sabes que no tendrás un buen día cuando lo pri...    N   \n",
              "2           2  En situaciones en las que no sepas que hacer, ...    N   \n",
              "3           3  ayer preguntaban y dónde están las solteras!!!...  NEU   \n",
              "4           4  Que el finde sea para hacer cualquier cosa que...  NEU   \n",
              "\n",
              "                                          clean_text  label  \\\n",
              "0  fan juan gabriel supe fuerza naturaleza escuch...      2   \n",
              "1           tendras ana tratar cambiar foco cae cara      0   \n",
              "2  situaciones sepas sumergete podras escuchar al...      0   \n",
              "3  preguntaban solteras grupo alza mano unica vol...      1   \n",
              "4               finde cosa haga feliz reverenda gana      1   \n",
              "\n",
              "                                        text_changed  \n",
              "0  fan juan gabriel supe  naturaleza escuche quer...  \n",
              "1      tendras ana tratar cambiar foco cae  caradura  \n",
              "2   situaciones situaciones sepas sumergete podra...  \n",
              "3  preguntaban solteras grupo  alza alza alza man...  \n",
              "4          finde  elemento haga feliz reverenda gana  "
            ],
            "text/html": [
              "\n",
              "  <div id=\"df-6441fa1b-daea-4ef9-828c-a9208cb153e9\" class=\"colab-df-container\">\n",
              "    <div>\n",
              "<style scoped>\n",
              "    .dataframe tbody tr th:only-of-type {\n",
              "        vertical-align: middle;\n",
              "    }\n",
              "\n",
              "    .dataframe tbody tr th {\n",
              "        vertical-align: top;\n",
              "    }\n",
              "\n",
              "    .dataframe thead th {\n",
              "        text-align: right;\n",
              "    }\n",
              "</style>\n",
              "<table border=\"1\" class=\"dataframe\">\n",
              "  <thead>\n",
              "    <tr style=\"text-align: right;\">\n",
              "      <th></th>\n",
              "      <th>Unnamed: 0</th>\n",
              "      <th>full_text</th>\n",
              "      <th>POS</th>\n",
              "      <th>clean_text</th>\n",
              "      <th>label</th>\n",
              "      <th>text_changed</th>\n",
              "    </tr>\n",
              "  </thead>\n",
              "  <tbody>\n",
              "    <tr>\n",
              "      <th>0</th>\n",
              "      <td>0</td>\n",
              "      <td>Sin ser fan de Juan Gabriel, siempre supe que ...</td>\n",
              "      <td>P</td>\n",
              "      <td>fan juan gabriel supe fuerza naturaleza escuch...</td>\n",
              "      <td>2</td>\n",
              "      <td>fan juan gabriel supe  naturaleza escuche quer...</td>\n",
              "    </tr>\n",
              "    <tr>\n",
              "      <th>1</th>\n",
              "      <td>1</td>\n",
              "      <td>Sabes que no tendrás un buen día cuando lo pri...</td>\n",
              "      <td>N</td>\n",
              "      <td>tendras ana tratar cambiar foco cae cara</td>\n",
              "      <td>0</td>\n",
              "      <td>tendras ana tratar cambiar foco cae  caradura</td>\n",
              "    </tr>\n",
              "    <tr>\n",
              "      <th>2</th>\n",
              "      <td>2</td>\n",
              "      <td>En situaciones en las que no sepas que hacer, ...</td>\n",
              "      <td>N</td>\n",
              "      <td>situaciones sepas sumergete podras escuchar al...</td>\n",
              "      <td>0</td>\n",
              "      <td>situaciones situaciones sepas sumergete podra...</td>\n",
              "    </tr>\n",
              "    <tr>\n",
              "      <th>3</th>\n",
              "      <td>3</td>\n",
              "      <td>ayer preguntaban y dónde están las solteras!!!...</td>\n",
              "      <td>NEU</td>\n",
              "      <td>preguntaban solteras grupo alza mano unica vol...</td>\n",
              "      <td>1</td>\n",
              "      <td>preguntaban solteras grupo  alza alza alza man...</td>\n",
              "    </tr>\n",
              "    <tr>\n",
              "      <th>4</th>\n",
              "      <td>4</td>\n",
              "      <td>Que el finde sea para hacer cualquier cosa que...</td>\n",
              "      <td>NEU</td>\n",
              "      <td>finde cosa haga feliz reverenda gana</td>\n",
              "      <td>1</td>\n",
              "      <td>finde  elemento haga feliz reverenda gana</td>\n",
              "    </tr>\n",
              "  </tbody>\n",
              "</table>\n",
              "</div>\n",
              "    <div class=\"colab-df-buttons\">\n",
              "\n",
              "  <div class=\"colab-df-container\">\n",
              "    <button class=\"colab-df-convert\" onclick=\"convertToInteractive('df-6441fa1b-daea-4ef9-828c-a9208cb153e9')\"\n",
              "            title=\"Convert this dataframe to an interactive table.\"\n",
              "            style=\"display:none;\">\n",
              "\n",
              "  <svg xmlns=\"http://www.w3.org/2000/svg\" height=\"24px\" viewBox=\"0 -960 960 960\">\n",
              "    <path d=\"M120-120v-720h720v720H120Zm60-500h600v-160H180v160Zm220 220h160v-160H400v160Zm0 220h160v-160H400v160ZM180-400h160v-160H180v160Zm440 0h160v-160H620v160ZM180-180h160v-160H180v160Zm440 0h160v-160H620v160Z\"/>\n",
              "  </svg>\n",
              "    </button>\n",
              "\n",
              "  <style>\n",
              "    .colab-df-container {\n",
              "      display:flex;\n",
              "      gap: 12px;\n",
              "    }\n",
              "\n",
              "    .colab-df-convert {\n",
              "      background-color: #E8F0FE;\n",
              "      border: none;\n",
              "      border-radius: 50%;\n",
              "      cursor: pointer;\n",
              "      display: none;\n",
              "      fill: #1967D2;\n",
              "      height: 32px;\n",
              "      padding: 0 0 0 0;\n",
              "      width: 32px;\n",
              "    }\n",
              "\n",
              "    .colab-df-convert:hover {\n",
              "      background-color: #E2EBFA;\n",
              "      box-shadow: 0px 1px 2px rgba(60, 64, 67, 0.3), 0px 1px 3px 1px rgba(60, 64, 67, 0.15);\n",
              "      fill: #174EA6;\n",
              "    }\n",
              "\n",
              "    .colab-df-buttons div {\n",
              "      margin-bottom: 4px;\n",
              "    }\n",
              "\n",
              "    [theme=dark] .colab-df-convert {\n",
              "      background-color: #3B4455;\n",
              "      fill: #D2E3FC;\n",
              "    }\n",
              "\n",
              "    [theme=dark] .colab-df-convert:hover {\n",
              "      background-color: #434B5C;\n",
              "      box-shadow: 0px 1px 3px 1px rgba(0, 0, 0, 0.15);\n",
              "      filter: drop-shadow(0px 1px 2px rgba(0, 0, 0, 0.3));\n",
              "      fill: #FFFFFF;\n",
              "    }\n",
              "  </style>\n",
              "\n",
              "    <script>\n",
              "      const buttonEl =\n",
              "        document.querySelector('#df-6441fa1b-daea-4ef9-828c-a9208cb153e9 button.colab-df-convert');\n",
              "      buttonEl.style.display =\n",
              "        google.colab.kernel.accessAllowed ? 'block' : 'none';\n",
              "\n",
              "      async function convertToInteractive(key) {\n",
              "        const element = document.querySelector('#df-6441fa1b-daea-4ef9-828c-a9208cb153e9');\n",
              "        const dataTable =\n",
              "          await google.colab.kernel.invokeFunction('convertToInteractive',\n",
              "                                                    [key], {});\n",
              "        if (!dataTable) return;\n",
              "\n",
              "        const docLinkHtml = 'Like what you see? Visit the ' +\n",
              "          '<a target=\"_blank\" href=https://colab.research.google.com/notebooks/data_table.ipynb>data table notebook</a>'\n",
              "          + ' to learn more about interactive tables.';\n",
              "        element.innerHTML = '';\n",
              "        dataTable['output_type'] = 'display_data';\n",
              "        await google.colab.output.renderOutput(dataTable, element);\n",
              "        const docLink = document.createElement('div');\n",
              "        docLink.innerHTML = docLinkHtml;\n",
              "        element.appendChild(docLink);\n",
              "      }\n",
              "    </script>\n",
              "  </div>\n",
              "\n",
              "\n",
              "    <div id=\"df-53153a3f-c608-4a5f-9758-373a1e302cb1\">\n",
              "      <button class=\"colab-df-quickchart\" onclick=\"quickchart('df-53153a3f-c608-4a5f-9758-373a1e302cb1')\"\n",
              "                title=\"Suggest charts\"\n",
              "                style=\"display:none;\">\n",
              "\n",
              "<svg xmlns=\"http://www.w3.org/2000/svg\" height=\"24px\"viewBox=\"0 0 24 24\"\n",
              "     width=\"24px\">\n",
              "    <g>\n",
              "        <path d=\"M19 3H5c-1.1 0-2 .9-2 2v14c0 1.1.9 2 2 2h14c1.1 0 2-.9 2-2V5c0-1.1-.9-2-2-2zM9 17H7v-7h2v7zm4 0h-2V7h2v10zm4 0h-2v-4h2v4z\"/>\n",
              "    </g>\n",
              "</svg>\n",
              "      </button>\n",
              "\n",
              "<style>\n",
              "  .colab-df-quickchart {\n",
              "      --bg-color: #E8F0FE;\n",
              "      --fill-color: #1967D2;\n",
              "      --hover-bg-color: #E2EBFA;\n",
              "      --hover-fill-color: #174EA6;\n",
              "      --disabled-fill-color: #AAA;\n",
              "      --disabled-bg-color: #DDD;\n",
              "  }\n",
              "\n",
              "  [theme=dark] .colab-df-quickchart {\n",
              "      --bg-color: #3B4455;\n",
              "      --fill-color: #D2E3FC;\n",
              "      --hover-bg-color: #434B5C;\n",
              "      --hover-fill-color: #FFFFFF;\n",
              "      --disabled-bg-color: #3B4455;\n",
              "      --disabled-fill-color: #666;\n",
              "  }\n",
              "\n",
              "  .colab-df-quickchart {\n",
              "    background-color: var(--bg-color);\n",
              "    border: none;\n",
              "    border-radius: 50%;\n",
              "    cursor: pointer;\n",
              "    display: none;\n",
              "    fill: var(--fill-color);\n",
              "    height: 32px;\n",
              "    padding: 0;\n",
              "    width: 32px;\n",
              "  }\n",
              "\n",
              "  .colab-df-quickchart:hover {\n",
              "    background-color: var(--hover-bg-color);\n",
              "    box-shadow: 0 1px 2px rgba(60, 64, 67, 0.3), 0 1px 3px 1px rgba(60, 64, 67, 0.15);\n",
              "    fill: var(--button-hover-fill-color);\n",
              "  }\n",
              "\n",
              "  .colab-df-quickchart-complete:disabled,\n",
              "  .colab-df-quickchart-complete:disabled:hover {\n",
              "    background-color: var(--disabled-bg-color);\n",
              "    fill: var(--disabled-fill-color);\n",
              "    box-shadow: none;\n",
              "  }\n",
              "\n",
              "  .colab-df-spinner {\n",
              "    border: 2px solid var(--fill-color);\n",
              "    border-color: transparent;\n",
              "    border-bottom-color: var(--fill-color);\n",
              "    animation:\n",
              "      spin 1s steps(1) infinite;\n",
              "  }\n",
              "\n",
              "  @keyframes spin {\n",
              "    0% {\n",
              "      border-color: transparent;\n",
              "      border-bottom-color: var(--fill-color);\n",
              "      border-left-color: var(--fill-color);\n",
              "    }\n",
              "    20% {\n",
              "      border-color: transparent;\n",
              "      border-left-color: var(--fill-color);\n",
              "      border-top-color: var(--fill-color);\n",
              "    }\n",
              "    30% {\n",
              "      border-color: transparent;\n",
              "      border-left-color: var(--fill-color);\n",
              "      border-top-color: var(--fill-color);\n",
              "      border-right-color: var(--fill-color);\n",
              "    }\n",
              "    40% {\n",
              "      border-color: transparent;\n",
              "      border-right-color: var(--fill-color);\n",
              "      border-top-color: var(--fill-color);\n",
              "    }\n",
              "    60% {\n",
              "      border-color: transparent;\n",
              "      border-right-color: var(--fill-color);\n",
              "    }\n",
              "    80% {\n",
              "      border-color: transparent;\n",
              "      border-right-color: var(--fill-color);\n",
              "      border-bottom-color: var(--fill-color);\n",
              "    }\n",
              "    90% {\n",
              "      border-color: transparent;\n",
              "      border-bottom-color: var(--fill-color);\n",
              "    }\n",
              "  }\n",
              "</style>\n",
              "\n",
              "      <script>\n",
              "        async function quickchart(key) {\n",
              "          const quickchartButtonEl =\n",
              "            document.querySelector('#' + key + ' button');\n",
              "          quickchartButtonEl.disabled = true;  // To prevent multiple clicks.\n",
              "          quickchartButtonEl.classList.add('colab-df-spinner');\n",
              "          try {\n",
              "            const charts = await google.colab.kernel.invokeFunction(\n",
              "                'suggestCharts', [key], {});\n",
              "          } catch (error) {\n",
              "            console.error('Error during call to suggestCharts:', error);\n",
              "          }\n",
              "          quickchartButtonEl.classList.remove('colab-df-spinner');\n",
              "          quickchartButtonEl.classList.add('colab-df-quickchart-complete');\n",
              "        }\n",
              "        (() => {\n",
              "          let quickchartButtonEl =\n",
              "            document.querySelector('#df-53153a3f-c608-4a5f-9758-373a1e302cb1 button');\n",
              "          quickchartButtonEl.style.display =\n",
              "            google.colab.kernel.accessAllowed ? 'block' : 'none';\n",
              "        })();\n",
              "      </script>\n",
              "    </div>\n",
              "\n",
              "    </div>\n",
              "  </div>\n"
            ],
            "application/vnd.google.colaboratory.intrinsic+json": {
              "type": "dataframe",
              "variable_name": "df",
              "summary": "{\n  \"name\": \"df\",\n  \"rows\": 36211,\n  \"fields\": [\n    {\n      \"column\": \"Unnamed: 0\",\n      \"properties\": {\n        \"dtype\": \"number\",\n        \"std\": 12621,\n        \"min\": 0,\n        \"max\": 43766,\n        \"num_unique_values\": 36211,\n        \"samples\": [\n          19209,\n          16672,\n          36731\n        ],\n        \"semantic_type\": \"\",\n        \"description\": \"\"\n      }\n    },\n    {\n      \"column\": \"full_text\",\n      \"properties\": {\n        \"dtype\": \"category\",\n        \"num_unique_values\": 4848,\n        \"samples\": [\n          \"tuitthepilot dmorazevallos partidomorado elcomercio_peru larepublica_pe latina_pe atvpe atvmasnoticias noticiamerica noticias_tvperu peru21noticias tromepe lamula pero lo triste es que otros candidatos del #partidomorado quedaron callados y no reprocharon ni repudiaron esto. ser\\u00e1 que tambi\\u00e9n son misoginos o maltratadores?#elpegal\\u00f3nerest\\u00fa\",\n          \"@esquinabaja '@memeoperu '@mauriciomulder '@renzoiban excelente presentacion de mulder;experiencia y conocimiento;ante la demogogia y el odio irracional;mauricio arrollo a improvisados\",\n          \"accion popular lima continua a paso firme; luis roel candidato de #accionpopular con el numero 5\\u20e3\\u270d brinda propuestas solidas para encontrar una solucion real a los problemas de nuestra poblacion . \\n\\n#marcalalampa #votoinformado #congreso2020 #accionpopular #congreso2020 https://t.co/h0lhilgky5\"\n        ],\n        \"semantic_type\": \"\",\n        \"description\": \"\"\n      }\n    },\n    {\n      \"column\": \"POS\",\n      \"properties\": {\n        \"dtype\": \"category\",\n        \"num_unique_values\": 4,\n        \"samples\": [\n          \"N\",\n          \"NN\",\n          \"P\"\n        ],\n        \"semantic_type\": \"\",\n        \"description\": \"\"\n      }\n    },\n    {\n      \"column\": \"clean_text\",\n      \"properties\": {\n        \"dtype\": \"category\",\n        \"num_unique_values\": 4561,\n        \"samples\": [\n          \"operacion carmen triste\",\n          \"caso keikofujimori juez estima enero decidira regresa prision\",\n          \"vayan brasil cerrada echen culpa ppk quiso haga central park desfile\"\n        ],\n        \"semantic_type\": \"\",\n        \"description\": \"\"\n      }\n    },\n    {\n      \"column\": \"label\",\n      \"properties\": {\n        \"dtype\": \"number\",\n        \"std\": 0,\n        \"min\": 0,\n        \"max\": 2,\n        \"num_unique_values\": 3,\n        \"samples\": [\n          2,\n          0,\n          1\n        ],\n        \"semantic_type\": \"\",\n        \"description\": \"\"\n      }\n    },\n    {\n      \"column\": \"text_changed\",\n      \"properties\": {\n        \"dtype\": \"string\",\n        \"num_unique_values\": 35278,\n        \"samples\": [\n          \"miguel angel soria ppc personas juicios pendientes deberian candidatos partidos deberian responsables atacar  creencia inocencia plantean muerte politica casos corrupciondebateelectoral\",\n          \"comparto excelente entrevista fabio trujillo  butters\",\n          \"caso demuestra izquierda importan mujeres interesan casos convenientes  nefasta nefasta ideologia calcula obtendra reditos politicos\"\n        ],\n        \"semantic_type\": \"\",\n        \"description\": \"\"\n      }\n    }\n  ]\n}"
            }
          },
          "metadata": {},
          "execution_count": 6
        }
      ]
    },
    {
      "cell_type": "code",
      "source": [
        "Random_state = 20\n",
        "# stratified_sample = df.groupby('label').apply(lambda x: x.sample(frac=0.5, random_state=Random_state))\n",
        "\n",
        "df = df.sample(frac=1, random_state = Random_state)"
      ],
      "metadata": {
        "id": "A05LHdBJKEvC"
      },
      "execution_count": null,
      "outputs": []
    },
    {
      "cell_type": "code",
      "source": [
        "df_w = df[[\"label\", \"text_changed\"]]"
      ],
      "metadata": {
        "id": "-5nl1f-tKExD"
      },
      "execution_count": null,
      "outputs": []
    },
    {
      "cell_type": "code",
      "source": [
        "df_w['text_changed'] = df_w['text_changed'].str.lower()\n",
        "df_w[\"text_changed\"] = df_w[\"text_changed\"].str.replace(r'\\s*https?://\\S+(\\s+|$)', ' ').str.strip()\n",
        "df_w['text_changed'] = df_w['text_changed'].str.replace(\n",
        "    r'[^a-z0-9\\s]',\n",
        "    '',\n",
        "    regex=True,\n",
        "    flags=re.IGNORECASE\n",
        ")\n",
        "\n",
        "df_w = df_w.dropna()"
      ],
      "metadata": {
        "colab": {
          "base_uri": "https://localhost:8080/",
          "height": 349
        },
        "id": "N1cykMSxKLgI",
        "outputId": "de1b2370-319d-4915-c39d-2fd5a938c3cd"
      },
      "execution_count": null,
      "outputs": [
        {
          "output_type": "stream",
          "name": "stderr",
          "text": [
            "/tmp/ipython-input-3751669039.py:1: SettingWithCopyWarning: \n",
            "A value is trying to be set on a copy of a slice from a DataFrame.\n",
            "Try using .loc[row_indexer,col_indexer] = value instead\n",
            "\n",
            "See the caveats in the documentation: https://pandas.pydata.org/pandas-docs/stable/user_guide/indexing.html#returning-a-view-versus-a-copy\n",
            "  df_w['text_changed'] = df_w['text_changed'].str.lower()\n",
            "/tmp/ipython-input-3751669039.py:2: SettingWithCopyWarning: \n",
            "A value is trying to be set on a copy of a slice from a DataFrame.\n",
            "Try using .loc[row_indexer,col_indexer] = value instead\n",
            "\n",
            "See the caveats in the documentation: https://pandas.pydata.org/pandas-docs/stable/user_guide/indexing.html#returning-a-view-versus-a-copy\n",
            "  df_w[\"text_changed\"] = df_w[\"text_changed\"].str.replace(r'\\s*https?://\\S+(\\s+|$)', ' ').str.strip()\n",
            "/tmp/ipython-input-3751669039.py:3: SettingWithCopyWarning: \n",
            "A value is trying to be set on a copy of a slice from a DataFrame.\n",
            "Try using .loc[row_indexer,col_indexer] = value instead\n",
            "\n",
            "See the caveats in the documentation: https://pandas.pydata.org/pandas-docs/stable/user_guide/indexing.html#returning-a-view-versus-a-copy\n",
            "  df_w['text_changed'] = df_w['text_changed'].str.replace(\n"
          ]
        }
      ]
    },
    {
      "cell_type": "code",
      "source": [
        "df_w.head()"
      ],
      "metadata": {
        "colab": {
          "base_uri": "https://localhost:8080/",
          "height": 206
        },
        "id": "D94iBpE_KLaJ",
        "outputId": "1231fc5a-a08f-4c09-a509-fff5bd4bdfc7"
      },
      "execution_count": null,
      "outputs": [
        {
          "output_type": "execute_result",
          "data": {
            "text/plain": [
              "       label                                       text_changed\n",
              "12524      0                               deja deja ojo morado\n",
              "4924       2                             sororoso encontraremos\n",
              "21408      0  falta taradito velas plena luz almuerzo romant...\n",
              "30279      2  pais haga alianza progreso unidad peru  amos a...\n",
              "16042      2  bonita cancion  composicion fuerzapopular k10 ..."
            ],
            "text/html": [
              "\n",
              "  <div id=\"df-a4eb3cd9-40e6-44eb-87ab-53308d70eede\" class=\"colab-df-container\">\n",
              "    <div>\n",
              "<style scoped>\n",
              "    .dataframe tbody tr th:only-of-type {\n",
              "        vertical-align: middle;\n",
              "    }\n",
              "\n",
              "    .dataframe tbody tr th {\n",
              "        vertical-align: top;\n",
              "    }\n",
              "\n",
              "    .dataframe thead th {\n",
              "        text-align: right;\n",
              "    }\n",
              "</style>\n",
              "<table border=\"1\" class=\"dataframe\">\n",
              "  <thead>\n",
              "    <tr style=\"text-align: right;\">\n",
              "      <th></th>\n",
              "      <th>label</th>\n",
              "      <th>text_changed</th>\n",
              "    </tr>\n",
              "  </thead>\n",
              "  <tbody>\n",
              "    <tr>\n",
              "      <th>12524</th>\n",
              "      <td>0</td>\n",
              "      <td>deja deja ojo morado</td>\n",
              "    </tr>\n",
              "    <tr>\n",
              "      <th>4924</th>\n",
              "      <td>2</td>\n",
              "      <td>sororoso encontraremos</td>\n",
              "    </tr>\n",
              "    <tr>\n",
              "      <th>21408</th>\n",
              "      <td>0</td>\n",
              "      <td>falta taradito velas plena luz almuerzo romant...</td>\n",
              "    </tr>\n",
              "    <tr>\n",
              "      <th>30279</th>\n",
              "      <td>2</td>\n",
              "      <td>pais haga alianza progreso unidad peru  amos a...</td>\n",
              "    </tr>\n",
              "    <tr>\n",
              "      <th>16042</th>\n",
              "      <td>2</td>\n",
              "      <td>bonita cancion  composicion fuerzapopular k10 ...</td>\n",
              "    </tr>\n",
              "  </tbody>\n",
              "</table>\n",
              "</div>\n",
              "    <div class=\"colab-df-buttons\">\n",
              "\n",
              "  <div class=\"colab-df-container\">\n",
              "    <button class=\"colab-df-convert\" onclick=\"convertToInteractive('df-a4eb3cd9-40e6-44eb-87ab-53308d70eede')\"\n",
              "            title=\"Convert this dataframe to an interactive table.\"\n",
              "            style=\"display:none;\">\n",
              "\n",
              "  <svg xmlns=\"http://www.w3.org/2000/svg\" height=\"24px\" viewBox=\"0 -960 960 960\">\n",
              "    <path d=\"M120-120v-720h720v720H120Zm60-500h600v-160H180v160Zm220 220h160v-160H400v160Zm0 220h160v-160H400v160ZM180-400h160v-160H180v160Zm440 0h160v-160H620v160ZM180-180h160v-160H180v160Zm440 0h160v-160H620v160Z\"/>\n",
              "  </svg>\n",
              "    </button>\n",
              "\n",
              "  <style>\n",
              "    .colab-df-container {\n",
              "      display:flex;\n",
              "      gap: 12px;\n",
              "    }\n",
              "\n",
              "    .colab-df-convert {\n",
              "      background-color: #E8F0FE;\n",
              "      border: none;\n",
              "      border-radius: 50%;\n",
              "      cursor: pointer;\n",
              "      display: none;\n",
              "      fill: #1967D2;\n",
              "      height: 32px;\n",
              "      padding: 0 0 0 0;\n",
              "      width: 32px;\n",
              "    }\n",
              "\n",
              "    .colab-df-convert:hover {\n",
              "      background-color: #E2EBFA;\n",
              "      box-shadow: 0px 1px 2px rgba(60, 64, 67, 0.3), 0px 1px 3px 1px rgba(60, 64, 67, 0.15);\n",
              "      fill: #174EA6;\n",
              "    }\n",
              "\n",
              "    .colab-df-buttons div {\n",
              "      margin-bottom: 4px;\n",
              "    }\n",
              "\n",
              "    [theme=dark] .colab-df-convert {\n",
              "      background-color: #3B4455;\n",
              "      fill: #D2E3FC;\n",
              "    }\n",
              "\n",
              "    [theme=dark] .colab-df-convert:hover {\n",
              "      background-color: #434B5C;\n",
              "      box-shadow: 0px 1px 3px 1px rgba(0, 0, 0, 0.15);\n",
              "      filter: drop-shadow(0px 1px 2px rgba(0, 0, 0, 0.3));\n",
              "      fill: #FFFFFF;\n",
              "    }\n",
              "  </style>\n",
              "\n",
              "    <script>\n",
              "      const buttonEl =\n",
              "        document.querySelector('#df-a4eb3cd9-40e6-44eb-87ab-53308d70eede button.colab-df-convert');\n",
              "      buttonEl.style.display =\n",
              "        google.colab.kernel.accessAllowed ? 'block' : 'none';\n",
              "\n",
              "      async function convertToInteractive(key) {\n",
              "        const element = document.querySelector('#df-a4eb3cd9-40e6-44eb-87ab-53308d70eede');\n",
              "        const dataTable =\n",
              "          await google.colab.kernel.invokeFunction('convertToInteractive',\n",
              "                                                    [key], {});\n",
              "        if (!dataTable) return;\n",
              "\n",
              "        const docLinkHtml = 'Like what you see? Visit the ' +\n",
              "          '<a target=\"_blank\" href=https://colab.research.google.com/notebooks/data_table.ipynb>data table notebook</a>'\n",
              "          + ' to learn more about interactive tables.';\n",
              "        element.innerHTML = '';\n",
              "        dataTable['output_type'] = 'display_data';\n",
              "        await google.colab.output.renderOutput(dataTable, element);\n",
              "        const docLink = document.createElement('div');\n",
              "        docLink.innerHTML = docLinkHtml;\n",
              "        element.appendChild(docLink);\n",
              "      }\n",
              "    </script>\n",
              "  </div>\n",
              "\n",
              "\n",
              "    <div id=\"df-2785c29d-c4a5-434a-b92f-81d7f0b41733\">\n",
              "      <button class=\"colab-df-quickchart\" onclick=\"quickchart('df-2785c29d-c4a5-434a-b92f-81d7f0b41733')\"\n",
              "                title=\"Suggest charts\"\n",
              "                style=\"display:none;\">\n",
              "\n",
              "<svg xmlns=\"http://www.w3.org/2000/svg\" height=\"24px\"viewBox=\"0 0 24 24\"\n",
              "     width=\"24px\">\n",
              "    <g>\n",
              "        <path d=\"M19 3H5c-1.1 0-2 .9-2 2v14c0 1.1.9 2 2 2h14c1.1 0 2-.9 2-2V5c0-1.1-.9-2-2-2zM9 17H7v-7h2v7zm4 0h-2V7h2v10zm4 0h-2v-4h2v4z\"/>\n",
              "    </g>\n",
              "</svg>\n",
              "      </button>\n",
              "\n",
              "<style>\n",
              "  .colab-df-quickchart {\n",
              "      --bg-color: #E8F0FE;\n",
              "      --fill-color: #1967D2;\n",
              "      --hover-bg-color: #E2EBFA;\n",
              "      --hover-fill-color: #174EA6;\n",
              "      --disabled-fill-color: #AAA;\n",
              "      --disabled-bg-color: #DDD;\n",
              "  }\n",
              "\n",
              "  [theme=dark] .colab-df-quickchart {\n",
              "      --bg-color: #3B4455;\n",
              "      --fill-color: #D2E3FC;\n",
              "      --hover-bg-color: #434B5C;\n",
              "      --hover-fill-color: #FFFFFF;\n",
              "      --disabled-bg-color: #3B4455;\n",
              "      --disabled-fill-color: #666;\n",
              "  }\n",
              "\n",
              "  .colab-df-quickchart {\n",
              "    background-color: var(--bg-color);\n",
              "    border: none;\n",
              "    border-radius: 50%;\n",
              "    cursor: pointer;\n",
              "    display: none;\n",
              "    fill: var(--fill-color);\n",
              "    height: 32px;\n",
              "    padding: 0;\n",
              "    width: 32px;\n",
              "  }\n",
              "\n",
              "  .colab-df-quickchart:hover {\n",
              "    background-color: var(--hover-bg-color);\n",
              "    box-shadow: 0 1px 2px rgba(60, 64, 67, 0.3), 0 1px 3px 1px rgba(60, 64, 67, 0.15);\n",
              "    fill: var(--button-hover-fill-color);\n",
              "  }\n",
              "\n",
              "  .colab-df-quickchart-complete:disabled,\n",
              "  .colab-df-quickchart-complete:disabled:hover {\n",
              "    background-color: var(--disabled-bg-color);\n",
              "    fill: var(--disabled-fill-color);\n",
              "    box-shadow: none;\n",
              "  }\n",
              "\n",
              "  .colab-df-spinner {\n",
              "    border: 2px solid var(--fill-color);\n",
              "    border-color: transparent;\n",
              "    border-bottom-color: var(--fill-color);\n",
              "    animation:\n",
              "      spin 1s steps(1) infinite;\n",
              "  }\n",
              "\n",
              "  @keyframes spin {\n",
              "    0% {\n",
              "      border-color: transparent;\n",
              "      border-bottom-color: var(--fill-color);\n",
              "      border-left-color: var(--fill-color);\n",
              "    }\n",
              "    20% {\n",
              "      border-color: transparent;\n",
              "      border-left-color: var(--fill-color);\n",
              "      border-top-color: var(--fill-color);\n",
              "    }\n",
              "    30% {\n",
              "      border-color: transparent;\n",
              "      border-left-color: var(--fill-color);\n",
              "      border-top-color: var(--fill-color);\n",
              "      border-right-color: var(--fill-color);\n",
              "    }\n",
              "    40% {\n",
              "      border-color: transparent;\n",
              "      border-right-color: var(--fill-color);\n",
              "      border-top-color: var(--fill-color);\n",
              "    }\n",
              "    60% {\n",
              "      border-color: transparent;\n",
              "      border-right-color: var(--fill-color);\n",
              "    }\n",
              "    80% {\n",
              "      border-color: transparent;\n",
              "      border-right-color: var(--fill-color);\n",
              "      border-bottom-color: var(--fill-color);\n",
              "    }\n",
              "    90% {\n",
              "      border-color: transparent;\n",
              "      border-bottom-color: var(--fill-color);\n",
              "    }\n",
              "  }\n",
              "</style>\n",
              "\n",
              "      <script>\n",
              "        async function quickchart(key) {\n",
              "          const quickchartButtonEl =\n",
              "            document.querySelector('#' + key + ' button');\n",
              "          quickchartButtonEl.disabled = true;  // To prevent multiple clicks.\n",
              "          quickchartButtonEl.classList.add('colab-df-spinner');\n",
              "          try {\n",
              "            const charts = await google.colab.kernel.invokeFunction(\n",
              "                'suggestCharts', [key], {});\n",
              "          } catch (error) {\n",
              "            console.error('Error during call to suggestCharts:', error);\n",
              "          }\n",
              "          quickchartButtonEl.classList.remove('colab-df-spinner');\n",
              "          quickchartButtonEl.classList.add('colab-df-quickchart-complete');\n",
              "        }\n",
              "        (() => {\n",
              "          let quickchartButtonEl =\n",
              "            document.querySelector('#df-2785c29d-c4a5-434a-b92f-81d7f0b41733 button');\n",
              "          quickchartButtonEl.style.display =\n",
              "            google.colab.kernel.accessAllowed ? 'block' : 'none';\n",
              "        })();\n",
              "      </script>\n",
              "    </div>\n",
              "\n",
              "    </div>\n",
              "  </div>\n"
            ],
            "application/vnd.google.colaboratory.intrinsic+json": {
              "type": "dataframe",
              "variable_name": "df_w",
              "summary": "{\n  \"name\": \"df_w\",\n  \"rows\": 36117,\n  \"fields\": [\n    {\n      \"column\": \"label\",\n      \"properties\": {\n        \"dtype\": \"number\",\n        \"std\": 0,\n        \"min\": 0,\n        \"max\": 2,\n        \"num_unique_values\": 3,\n        \"samples\": [\n          0,\n          2,\n          1\n        ],\n        \"semantic_type\": \"\",\n        \"description\": \"\"\n      }\n    },\n    {\n      \"column\": \"text_changed\",\n      \"properties\": {\n        \"dtype\": \"string\",\n        \"num_unique_values\": 35243,\n        \"samples\": [\n          \"incautos incautos incautos quieren votar gobierno\",\n          \"renuncio irrevocablemente candidatura  congreso congreso alpartidomorado agradeciendo seguidores respaldo confiaron manifesto mora twitter\",\n          \"civil casadolider  recientemente alquilado compartiendo almuerzo ambientado decorado rosasvelas aromaticas formas corazonglobos rojoscon mujer esposa\"\n        ],\n        \"semantic_type\": \"\",\n        \"description\": \"\"\n      }\n    }\n  ]\n}"
            }
          },
          "metadata": {},
          "execution_count": 10
        }
      ]
    },
    {
      "cell_type": "code",
      "source": [
        "for column in df_w.columns:\n",
        "    if column == \"full_text\":\n",
        "        df_w = df_w.rename(columns={\"full_text\":\"text_changed\"})\n",
        "    else:\n",
        "        pass\n",
        "## Cambiar aca, SOLO si usas \"SIN preprocess\", sino, ignorar"
      ],
      "metadata": {
        "id": "-HwNt4uhKRAQ"
      },
      "execution_count": null,
      "outputs": []
    },
    {
      "cell_type": "code",
      "source": [],
      "metadata": {
        "id": "4wd06_Z9KQ5G"
      },
      "execution_count": null,
      "outputs": []
    },
    {
      "cell_type": "code",
      "source": [
        "if 'label' not in df_w.columns or 'text_changed' not in df_w.columns:\n",
        "    raise ValueError(\"El DataFrame debe contener las columnas 'text' y 'label'.\")"
      ],
      "metadata": {
        "id": "mcpEP2v4HnZL"
      },
      "execution_count": null,
      "outputs": []
    },
    {
      "cell_type": "code",
      "source": [
        "# label_map = {label: i for i, label in enumerate(df_w['label'].unique())}\n",
        "# df_w['label'] = df_w['label'].map(label_map)"
      ],
      "metadata": {
        "id": "Z2ERJjgDHnbn"
      },
      "execution_count": null,
      "outputs": []
    },
    {
      "cell_type": "code",
      "source": [
        "df_train = df_w[:22000]\n",
        "df_val = df_w[22000:30000]\n",
        "df_test = df_w[30000:]\n",
        "\n",
        "train_texts = df_train['text_changed'].tolist()\n",
        "train_labels = df_train['label'].tolist()\n",
        "\n",
        "val_texts = df_val['text_changed'].tolist()\n",
        "val_labels = df_val['label'].tolist()\n",
        "\n",
        "test_texts = df_test['text_changed'].tolist()\n",
        "test_labels = df_test['label'].tolist()"
      ],
      "metadata": {
        "id": "indU9ESnPK0O"
      },
      "execution_count": null,
      "outputs": []
    },
    {
      "cell_type": "code",
      "source": [
        "# train_texts, val_texts, train_labels, val_labels = train_test_split(\n",
        "#     df_w['text_changed'].tolist(),\n",
        "#     df_w['label'].tolist(),\n",
        "#     test_size=0.38,\n",
        "#     # random_state=2,\n",
        "#     #stratify=df['label'] # Asegura una distribución equilibrada de clases\n",
        "# )\n",
        "\n",
        "# val_texts, test_texts, val_labels, test_labels = train_test_split(val_texts,\n",
        "#                                                                   val_labels,\n",
        "#                                                                   test_size = 0.4,\n",
        "#                                                                   # random_state = 42,  ## Shuffle del dS\n",
        "#                                                                  )"
      ],
      "metadata": {
        "id": "pgzTdrBiHnd0"
      },
      "execution_count": null,
      "outputs": []
    },
    {
      "cell_type": "code",
      "source": [
        "# 2. Tokenizador\n",
        "tokenizer = AutoTokenizer.from_pretrained(model_name)\n",
        "seqlen = df_w['text_changed'].apply(lambda x: len(x.split()))\n",
        "max_len = seqlen.max()"
      ],
      "metadata": {
        "id": "wyHqpbnMHngA"
      },
      "execution_count": null,
      "outputs": []
    },
    {
      "cell_type": "code",
      "source": [
        "class SentimentDataset(Dataset):\n",
        "    \"\"\"Clase personalizada para manejar la tokenización y PyTorch\"\"\"\n",
        "    def __init__(self, texts, labels, tokenizer, max_len=128):\n",
        "        self.texts = texts\n",
        "        self.labels = labels\n",
        "        self.tokenizer = tokenizer\n",
        "        self.max_len = max_len\n",
        "\n",
        "    def __len__(self):\n",
        "        return len(self.texts)\n",
        "\n",
        "    def __getitem__(self, idx):\n",
        "        text = str(self.texts[idx])\n",
        "        label = self.labels[idx]\n",
        "\n",
        "        encoding = self.tokenizer(\n",
        "            text,\n",
        "            truncation=True,\n",
        "            padding='max_length',\n",
        "            max_length=self.max_len,\n",
        "            return_tensors='pt' # Devuelve tensores de PyTorch\n",
        "        )\n",
        "\n",
        "        return {\n",
        "            'input_ids': encoding['input_ids'].flatten(),\n",
        "            'attention_mask': encoding['attention_mask'].flatten(),\n",
        "            'labels': torch.tensor(label, dtype=torch.long)\n",
        "        }"
      ],
      "metadata": {
        "id": "dTRI5UEZHniE"
      },
      "execution_count": null,
      "outputs": []
    },
    {
      "cell_type": "code",
      "source": [
        "# 3. Crear instancias de Dataset\n",
        "train_dataset = SentimentDataset(train_texts, train_labels, tokenizer)\n",
        "val_dataset = SentimentDataset(val_texts, val_labels, tokenizer)\n",
        "test_dataset = SentimentDataset(test_texts, test_labels, tokenizer)"
      ],
      "metadata": {
        "id": "8R2QGnJgHnkB"
      },
      "execution_count": null,
      "outputs": []
    },
    {
      "cell_type": "code",
      "source": [
        "def compute_metrics(p):\n",
        "    \"\"\"Calcula la exactitud y el F1-Score (Macro)\"\"\"\n",
        "    preds = np.argmax(p.predictions, axis=1)\n",
        "    acc = accuracy_score(p.label_ids, preds)\n",
        "    # F1-Macro es mejor para clasificación multi-clase\n",
        "    f1 = f1_score(p.label_ids, preds, average='macro')\n",
        "    return {\"accuracy\": acc, \"f1_macro\": f1}"
      ],
      "metadata": {
        "id": "lY6IcXmRHnl3"
      },
      "execution_count": null,
      "outputs": []
    },
    {
      "cell_type": "code",
      "source": [
        "# 4. Argumentos de Entrenamiento\n",
        "# Puedes ajustar estos hiperparámetros según tus recursos (GPU)\n",
        "training_args = TrainingArguments(\n",
        "    output_dir=\"./xlm_roberta_sentiment_results\",  # Directorio para guardar el modelo\n",
        "    num_train_epochs=5,                          # Número de épocas\n",
        "    per_device_train_batch_size=16,              # Tamaño del batch por dispositivo (ajusta si tienes poca VRAM)\n",
        "    per_device_eval_batch_size=32,\n",
        "    # warmup_steps=500,                            # Pasos de calentamiento para el scheduler\n",
        "    weight_decay=0.01,                           # Regularización\n",
        "    logging_dir='./logs',                        # Directorio de logs\n",
        "    logging_steps=50,\n",
        "    eval_strategy=\"epoch\",                 # Evaluar al final de cada época\n",
        "    save_strategy=\"epoch\",                       # Guardar checkpoint al final de cada época\n",
        "    load_best_model_at_end=True,                 # Cargar el mejor modelo guardado\n",
        "    metric_for_best_model=\"f1_macro\",            # Criterio para el mejor modelo\n",
        "    # Puedes ajustar la tasa de aprendizaje si el modelo diverge\n",
        "    learning_rate=5e-5,\n",
        ")"
      ],
      "metadata": {
        "id": "bVCd9AF_IoAZ"
      },
      "execution_count": null,
      "outputs": []
    },
    {
      "cell_type": "code",
      "source": [
        "# 5. Inicializar el modelo para clasificación\n",
        "# AutoModelForSequenceClassification agrega una capa de clasificación\n",
        "# lineal encima de XLM-R, lista para el fine-tuning.\n",
        "model = AutoModelForSequenceClassification.from_pretrained(\n",
        "    model_name,\n",
        "    num_labels=NUM_LABELS\n",
        ")\n",
        "\n",
        "# optimizer = Adam(learning_rate=2e-5)\n",
        "# loss = SparseCategoricalCrossentropy(from_logits=True)\n",
        "\n",
        "# model.compile(optimizer=optimizer, loss=loss, metrics=[\"accuracy\"])"
      ],
      "metadata": {
        "id": "2yIzUzRAIoCu"
      },
      "execution_count": null,
      "outputs": []
    },
    {
      "cell_type": "code",
      "source": [
        "# 6. Inicializar el Trainer\n",
        "trainer = Trainer(\n",
        "    model=model,\n",
        "    args=training_args,\n",
        "    train_dataset=train_dataset,\n",
        "    eval_dataset=val_dataset,\n",
        "    compute_metrics=compute_metrics,\n",
        ")"
      ],
      "metadata": {
        "id": "rnC4tPVpIoFK"
      },
      "execution_count": null,
      "outputs": []
    },
    {
      "cell_type": "code",
      "source": [
        "# 7. Ejecutar el Fine-Tuning\n",
        "print(\"Iniciando el Fine-Tuning...\")\n",
        "start = timer()\n",
        "trainer.train()\n",
        "end = timer()\n",
        "train_time = timedelta(seconds=end-start) ##\n",
        "print(\"Training for 3 classes on Peruvian DS with distilBERT preprocesado: \", timedelta(seconds=end-start))"
      ],
      "metadata": {
        "colab": {
          "base_uri": "https://localhost:8080/",
          "height": 565
        },
        "id": "YwLepy_JJLsg",
        "outputId": "848caddb-9ae9-4dfe-fa79-2ff3e91c3a63"
      },
      "execution_count": null,
      "outputs": [
        {
          "output_type": "stream",
          "name": "stdout",
          "text": [
            "Iniciando el Fine-Tuning...\n"
          ]
        },
        {
          "output_type": "stream",
          "name": "stderr",
          "text": [
            "/usr/local/lib/python3.12/dist-packages/notebook/notebookapp.py:191: SyntaxWarning: invalid escape sequence '\\/'\n",
            "  | |_| | '_ \\/ _` / _` |  _/ -_)\n"
          ]
        },
        {
          "output_type": "display_data",
          "data": {
            "text/plain": [
              "<IPython.core.display.Javascript object>"
            ],
            "application/javascript": [
              "\n",
              "        window._wandbApiKey = new Promise((resolve, reject) => {\n",
              "            function loadScript(url) {\n",
              "            return new Promise(function(resolve, reject) {\n",
              "                let newScript = document.createElement(\"script\");\n",
              "                newScript.onerror = reject;\n",
              "                newScript.onload = resolve;\n",
              "                document.body.appendChild(newScript);\n",
              "                newScript.src = url;\n",
              "            });\n",
              "            }\n",
              "            loadScript(\"https://cdn.jsdelivr.net/npm/postmate/build/postmate.min.js\").then(() => {\n",
              "            const iframe = document.createElement('iframe')\n",
              "            iframe.style.cssText = \"width:0;height:0;border:none\"\n",
              "            document.body.appendChild(iframe)\n",
              "            const handshake = new Postmate({\n",
              "                container: iframe,\n",
              "                url: 'https://wandb.ai/authorize'\n",
              "            });\n",
              "            const timeout = setTimeout(() => reject(\"Couldn't auto authenticate\"), 5000)\n",
              "            handshake.then(function(child) {\n",
              "                child.on('authorize', data => {\n",
              "                    clearTimeout(timeout)\n",
              "                    resolve(data)\n",
              "                });\n",
              "            });\n",
              "            })\n",
              "        });\n",
              "    "
            ]
          },
          "metadata": {}
        },
        {
          "output_type": "stream",
          "name": "stderr",
          "text": [
            "\u001b[34m\u001b[1mwandb\u001b[0m: Logging into wandb.ai. (Learn how to deploy a W&B server locally: https://wandb.me/wandb-server)\n",
            "\u001b[34m\u001b[1mwandb\u001b[0m: You can find your API key in your browser here: https://wandb.ai/authorize?ref=models\n",
            "wandb: Paste an API key from your profile and hit enter:"
          ]
        },
        {
          "name": "stdout",
          "output_type": "stream",
          "text": [
            " ··········\n"
          ]
        },
        {
          "output_type": "stream",
          "name": "stderr",
          "text": [
            "\u001b[34m\u001b[1mwandb\u001b[0m: \u001b[33mWARNING\u001b[0m If you're specifying your api key in code, ensure this code is not shared publicly.\n",
            "\u001b[34m\u001b[1mwandb\u001b[0m: \u001b[33mWARNING\u001b[0m Consider setting the WANDB_API_KEY environment variable, or running `wandb login` from the command line.\n",
            "\u001b[34m\u001b[1mwandb\u001b[0m: No netrc file found, creating one.\n",
            "\u001b[34m\u001b[1mwandb\u001b[0m: Appending key for api.wandb.ai to your netrc file: /root/.netrc\n",
            "\u001b[34m\u001b[1mwandb\u001b[0m: Currently logged in as: \u001b[33mmsvf96\u001b[0m (\u001b[33mmsvf96-universidad-nacional-de-san-agustin-de-arequipa\u001b[0m) to \u001b[32mhttps://api.wandb.ai\u001b[0m. Use \u001b[1m`wandb login --relogin`\u001b[0m to force relogin\n"
          ]
        },
        {
          "output_type": "display_data",
          "data": {
            "text/plain": [
              "<IPython.core.display.HTML object>"
            ],
            "text/html": []
          },
          "metadata": {}
        },
        {
          "output_type": "display_data",
          "data": {
            "text/plain": [
              "<IPython.core.display.HTML object>"
            ],
            "text/html": [
              "Tracking run with wandb version 0.22.2"
            ]
          },
          "metadata": {}
        },
        {
          "output_type": "display_data",
          "data": {
            "text/plain": [
              "<IPython.core.display.HTML object>"
            ],
            "text/html": [
              "Run data is saved locally in <code>/content/wandb/run-20251014_004944-8uwqqgwv</code>"
            ]
          },
          "metadata": {}
        },
        {
          "output_type": "display_data",
          "data": {
            "text/plain": [
              "<IPython.core.display.HTML object>"
            ],
            "text/html": [
              "Syncing run <strong><a href='https://wandb.ai/msvf96-universidad-nacional-de-san-agustin-de-arequipa/huggingface/runs/8uwqqgwv' target=\"_blank\">different-valley-61</a></strong> to <a href='https://wandb.ai/msvf96-universidad-nacional-de-san-agustin-de-arequipa/huggingface' target=\"_blank\">Weights & Biases</a> (<a href='https://wandb.me/developer-guide' target=\"_blank\">docs</a>)<br>"
            ]
          },
          "metadata": {}
        },
        {
          "output_type": "display_data",
          "data": {
            "text/plain": [
              "<IPython.core.display.HTML object>"
            ],
            "text/html": [
              " View project at <a href='https://wandb.ai/msvf96-universidad-nacional-de-san-agustin-de-arequipa/huggingface' target=\"_blank\">https://wandb.ai/msvf96-universidad-nacional-de-san-agustin-de-arequipa/huggingface</a>"
            ]
          },
          "metadata": {}
        },
        {
          "output_type": "display_data",
          "data": {
            "text/plain": [
              "<IPython.core.display.HTML object>"
            ],
            "text/html": [
              " View run at <a href='https://wandb.ai/msvf96-universidad-nacional-de-san-agustin-de-arequipa/huggingface/runs/8uwqqgwv' target=\"_blank\">https://wandb.ai/msvf96-universidad-nacional-de-san-agustin-de-arequipa/huggingface/runs/8uwqqgwv</a>"
            ]
          },
          "metadata": {}
        },
        {
          "output_type": "display_data",
          "data": {
            "text/plain": [
              "<IPython.core.display.HTML object>"
            ],
            "text/html": [
              "\n",
              "    <div>\n",
              "      \n",
              "      <progress value='6875' max='6875' style='width:300px; height:20px; vertical-align: middle;'></progress>\n",
              "      [6875/6875 56:02, Epoch 5/5]\n",
              "    </div>\n",
              "    <table border=\"1\" class=\"dataframe\">\n",
              "  <thead>\n",
              " <tr style=\"text-align: left;\">\n",
              "      <th>Epoch</th>\n",
              "      <th>Training Loss</th>\n",
              "      <th>Validation Loss</th>\n",
              "      <th>Accuracy</th>\n",
              "      <th>F1 Macro</th>\n",
              "    </tr>\n",
              "  </thead>\n",
              "  <tbody>\n",
              "    <tr>\n",
              "      <td>1</td>\n",
              "      <td>0.398900</td>\n",
              "      <td>0.400411</td>\n",
              "      <td>0.866125</td>\n",
              "      <td>0.855520</td>\n",
              "    </tr>\n",
              "    <tr>\n",
              "      <td>2</td>\n",
              "      <td>0.225400</td>\n",
              "      <td>0.280421</td>\n",
              "      <td>0.918750</td>\n",
              "      <td>0.909772</td>\n",
              "    </tr>\n",
              "    <tr>\n",
              "      <td>3</td>\n",
              "      <td>0.093000</td>\n",
              "      <td>0.221031</td>\n",
              "      <td>0.954750</td>\n",
              "      <td>0.951320</td>\n",
              "    </tr>\n",
              "    <tr>\n",
              "      <td>4</td>\n",
              "      <td>0.051300</td>\n",
              "      <td>0.176959</td>\n",
              "      <td>0.960750</td>\n",
              "      <td>0.957860</td>\n",
              "    </tr>\n",
              "    <tr>\n",
              "      <td>5</td>\n",
              "      <td>0.069800</td>\n",
              "      <td>0.175049</td>\n",
              "      <td>0.966125</td>\n",
              "      <td>0.963818</td>\n",
              "    </tr>\n",
              "  </tbody>\n",
              "</table><p>"
            ]
          },
          "metadata": {}
        },
        {
          "output_type": "stream",
          "name": "stdout",
          "text": [
            "Training for 3 classes on Peruvian DS with distilBERT preprocesado:  0:56:26.653321\n"
          ]
        }
      ]
    },
    {
      "cell_type": "code",
      "source": [
        "print(\"Fine-Tuning Completado. Evaluando el mejor modelo...\")\n",
        "# Mostrar las métricas finales en el conjunto de validación\n",
        "final_metrics = trainer.evaluate()\n",
        "print(f\"Métricas Finales en Validación: {final_metrics}\")"
      ],
      "metadata": {
        "colab": {
          "base_uri": "https://localhost:8080/",
          "height": 92
        },
        "id": "kjnz5MN1JLuw",
        "outputId": "9ff4d342-4cf1-492c-d98d-b956c9d0bf26"
      },
      "execution_count": null,
      "outputs": [
        {
          "output_type": "stream",
          "name": "stdout",
          "text": [
            "Fine-Tuning Completado. Evaluando el mejor modelo...\n"
          ]
        },
        {
          "output_type": "display_data",
          "data": {
            "text/plain": [
              "<IPython.core.display.HTML object>"
            ],
            "text/html": [
              "\n",
              "    <div>\n",
              "      \n",
              "      <progress value='250' max='250' style='width:300px; height:20px; vertical-align: middle;'></progress>\n",
              "      [250/250 00:51]\n",
              "    </div>\n",
              "    "
            ]
          },
          "metadata": {}
        },
        {
          "output_type": "stream",
          "name": "stdout",
          "text": [
            "Métricas Finales en Validación: {'eval_loss': 0.17504917085170746, 'eval_accuracy': 0.966125, 'eval_f1_macro': 0.963817802165973, 'eval_runtime': 51.8987, 'eval_samples_per_second': 154.146, 'eval_steps_per_second': 4.817, 'epoch': 5.0}\n"
          ]
        }
      ]
    },
    {
      "cell_type": "code",
      "source": [
        "# 8. Guardar el modelo final\n",
        "# trainer.save_model(\"./final_twitter_xlm_roberta_sentiment_model_2_Preprocesado\")\n",
        "# tokenizer.save_pretrained(\"./final_twitter_xlm_roberta_sentiment_model_2_Preprocesado\")\n",
        "\n",
        "# print(\"Modelo guardado en ./final_twitter_xlm_roberta_sentiment_model_2_Preprocesado\")"
      ],
      "metadata": {
        "colab": {
          "base_uri": "https://localhost:8080/"
        },
        "id": "hg_GZnUQJLw5",
        "outputId": "5796af84-d0b7-498b-ebb7-d156f6c02b46"
      },
      "execution_count": null,
      "outputs": [
        {
          "output_type": "stream",
          "name": "stdout",
          "text": [
            "Modelo guardado en ./final_twitter_xlm_roberta_sentiment_model_2\n"
          ]
        }
      ]
    },
    {
      "cell_type": "code",
      "source": [
        "trainer.save_model(\"/content/drive/MyDrive/Master Seminario 2/final_twitter_xlm_roberta_sentiment_model_2_Preprocesado\")\n",
        "tokenizer.save_pretrained(\"/content/drive/MyDrive/Master Seminario 2/final_twitter_xlm_roberta_sentiment_model_2_Preprocesado\")\n",
        "\n",
        "print(\"Modelo guardado en /content/drive/MyDrive/Master Seminario 2/final_twitter_xlm_roberta_sentiment_model_2_Preprocesado\")\n"
      ],
      "metadata": {
        "id": "lUUEqW4nhMLf",
        "colab": {
          "base_uri": "https://localhost:8080/"
        },
        "outputId": "baabb0e3-25d6-4c99-9a71-a8a8fe1af894"
      },
      "execution_count": null,
      "outputs": [
        {
          "output_type": "stream",
          "name": "stdout",
          "text": [
            "Modelo guardado en /content/drive/MyDrive/Master Seminario 2/final_twitter_xlm_roberta_sentiment_model_2_Preprocesado\n"
          ]
        }
      ]
    },
    {
      "cell_type": "code",
      "source": [
        "trainer = AutoModelForSequenceClassification.from_pretrained(\"/content/drive/MyDrive/Master Seminario 2/final_twitter_xlm_roberta_sentiment_model_2_Preprocesado\")\n",
        "tokenizer = AutoTokenizer.from_pretrained(\"/content/drive/MyDrive/Master Seminario 2/final_twitter_xlm_roberta_sentiment_model_2_Preprocesado\")"
      ],
      "metadata": {
        "id": "g1bmK0BAHpAm"
      },
      "execution_count": null,
      "outputs": []
    },
    {
      "cell_type": "code",
      "source": [
        "minimal_training_args = TrainingArguments(\n",
        "    output_dir=\"./tmp_predict_output\",\n",
        "    per_device_eval_batch_size=32, # Use a larger batch size for faster prediction\n",
        ")"
      ],
      "metadata": {
        "id": "h7Bf4hokMHSX"
      },
      "execution_count": null,
      "outputs": []
    },
    {
      "cell_type": "code",
      "source": [
        "new_trainer = Trainer(\n",
        "    model=trainer,\n",
        "    args=minimal_training_args,\n",
        "    # No need for train_dataset or compute_metrics for simple prediction\n",
        ")"
      ],
      "metadata": {
        "id": "ukFYgtfZMKdm"
      },
      "execution_count": null,
      "outputs": []
    },
    {
      "cell_type": "code",
      "source": [
        "start_time = timer()\n",
        "y_logits = new_trainer.predict(test_dataset)\n",
        "test_time = timer() - start_time\n",
        "\n",
        "# Evaluación\n",
        "print(\"test_time in seconds\", test_time)\n",
        "\n",
        "classification_report = classification_report(test_labels, y_logits[1])\n",
        "\n",
        "print(classification_report)"
      ],
      "metadata": {
        "colab": {
          "base_uri": "https://localhost:8080/",
          "height": 540
        },
        "id": "3-N0kBteMQAc",
        "outputId": "86ceea66-cd8d-4185-91fc-6fee3071e71e"
      },
      "execution_count": null,
      "outputs": [
        {
          "output_type": "stream",
          "name": "stderr",
          "text": [
            "/usr/local/lib/python3.12/dist-packages/torch/utils/data/dataloader.py:666: UserWarning: 'pin_memory' argument is set as true but no accelerator is found, then device pinned memory won't be used.\n",
            "  warnings.warn(warn_msg)\n"
          ]
        },
        {
          "output_type": "display_data",
          "data": {
            "text/plain": [
              "<IPython.core.display.HTML object>"
            ],
            "text/html": []
          },
          "metadata": {}
        },
        {
          "output_type": "stream",
          "name": "stderr",
          "text": [
            "/usr/local/lib/python3.12/dist-packages/notebook/notebookapp.py:191: SyntaxWarning: invalid escape sequence '\\/'\n",
            "  | |_| | '_ \\/ _` / _` |  _/ -_)\n"
          ]
        },
        {
          "output_type": "display_data",
          "data": {
            "text/plain": [
              "<IPython.core.display.Javascript object>"
            ],
            "application/javascript": [
              "\n",
              "        window._wandbApiKey = new Promise((resolve, reject) => {\n",
              "            function loadScript(url) {\n",
              "            return new Promise(function(resolve, reject) {\n",
              "                let newScript = document.createElement(\"script\");\n",
              "                newScript.onerror = reject;\n",
              "                newScript.onload = resolve;\n",
              "                document.body.appendChild(newScript);\n",
              "                newScript.src = url;\n",
              "            });\n",
              "            }\n",
              "            loadScript(\"https://cdn.jsdelivr.net/npm/postmate/build/postmate.min.js\").then(() => {\n",
              "            const iframe = document.createElement('iframe')\n",
              "            iframe.style.cssText = \"width:0;height:0;border:none\"\n",
              "            document.body.appendChild(iframe)\n",
              "            const handshake = new Postmate({\n",
              "                container: iframe,\n",
              "                url: 'https://wandb.ai/authorize'\n",
              "            });\n",
              "            const timeout = setTimeout(() => reject(\"Couldn't auto authenticate\"), 5000)\n",
              "            handshake.then(function(child) {\n",
              "                child.on('authorize', data => {\n",
              "                    clearTimeout(timeout)\n",
              "                    resolve(data)\n",
              "                });\n",
              "            });\n",
              "            })\n",
              "        });\n",
              "    "
            ]
          },
          "metadata": {}
        },
        {
          "output_type": "stream",
          "name": "stderr",
          "text": [
            "\u001b[34m\u001b[1mwandb\u001b[0m: Logging into wandb.ai. (Learn how to deploy a W&B server locally: https://wandb.me/wandb-server)\n",
            "\u001b[34m\u001b[1mwandb\u001b[0m: You can find your API key in your browser here: https://wandb.ai/authorize?ref=models\n",
            "wandb: Paste an API key from your profile and hit enter:"
          ]
        },
        {
          "name": "stdout",
          "output_type": "stream",
          "text": [
            " ··········\n"
          ]
        },
        {
          "output_type": "stream",
          "name": "stderr",
          "text": [
            "\u001b[34m\u001b[1mwandb\u001b[0m: \u001b[33mWARNING\u001b[0m If you're specifying your api key in code, ensure this code is not shared publicly.\n",
            "\u001b[34m\u001b[1mwandb\u001b[0m: \u001b[33mWARNING\u001b[0m Consider setting the WANDB_API_KEY environment variable, or running `wandb login` from the command line.\n",
            "\u001b[34m\u001b[1mwandb\u001b[0m: No netrc file found, creating one.\n",
            "\u001b[34m\u001b[1mwandb\u001b[0m: Appending key for api.wandb.ai to your netrc file: /root/.netrc\n",
            "\u001b[34m\u001b[1mwandb\u001b[0m: Currently logged in as: \u001b[33mmsvf96\u001b[0m (\u001b[33mmsvf96-universidad-nacional-de-san-agustin-de-arequipa\u001b[0m) to \u001b[32mhttps://api.wandb.ai\u001b[0m. Use \u001b[1m`wandb login --relogin`\u001b[0m to force relogin\n"
          ]
        },
        {
          "output_type": "display_data",
          "data": {
            "text/plain": [
              "<IPython.core.display.HTML object>"
            ],
            "text/html": []
          },
          "metadata": {}
        },
        {
          "output_type": "display_data",
          "data": {
            "text/plain": [
              "<IPython.core.display.HTML object>"
            ],
            "text/html": [
              "Tracking run with wandb version 0.22.2"
            ]
          },
          "metadata": {}
        },
        {
          "output_type": "display_data",
          "data": {
            "text/plain": [
              "<IPython.core.display.HTML object>"
            ],
            "text/html": [
              "Run data is saved locally in <code>/content/wandb/run-20251014_061151-b7lybiea</code>"
            ]
          },
          "metadata": {}
        },
        {
          "output_type": "display_data",
          "data": {
            "text/plain": [
              "<IPython.core.display.HTML object>"
            ],
            "text/html": [
              "Syncing run <strong><a href='https://wandb.ai/msvf96-universidad-nacional-de-san-agustin-de-arequipa/huggingface/runs/b7lybiea' target=\"_blank\">misty-wood-63</a></strong> to <a href='https://wandb.ai/msvf96-universidad-nacional-de-san-agustin-de-arequipa/huggingface' target=\"_blank\">Weights & Biases</a> (<a href='https://wandb.me/developer-guide' target=\"_blank\">docs</a>)<br>"
            ]
          },
          "metadata": {}
        },
        {
          "output_type": "display_data",
          "data": {
            "text/plain": [
              "<IPython.core.display.HTML object>"
            ],
            "text/html": [
              " View project at <a href='https://wandb.ai/msvf96-universidad-nacional-de-san-agustin-de-arequipa/huggingface' target=\"_blank\">https://wandb.ai/msvf96-universidad-nacional-de-san-agustin-de-arequipa/huggingface</a>"
            ]
          },
          "metadata": {}
        },
        {
          "output_type": "display_data",
          "data": {
            "text/plain": [
              "<IPython.core.display.HTML object>"
            ],
            "text/html": [
              " View run at <a href='https://wandb.ai/msvf96-universidad-nacional-de-san-agustin-de-arequipa/huggingface/runs/b7lybiea' target=\"_blank\">https://wandb.ai/msvf96-universidad-nacional-de-san-agustin-de-arequipa/huggingface/runs/b7lybiea</a>"
            ]
          },
          "metadata": {}
        },
        {
          "output_type": "stream",
          "name": "stdout",
          "text": [
            "test_time in seconds 2580.6257383070006\n",
            "              precision    recall  f1-score   support\n",
            "\n",
            "           0       1.00      1.00      1.00      2778\n",
            "           1       1.00      1.00      1.00      1534\n",
            "           2       1.00      1.00      1.00      1805\n",
            "\n",
            "    accuracy                           1.00      6117\n",
            "   macro avg       1.00      1.00      1.00      6117\n",
            "weighted avg       1.00      1.00      1.00      6117\n",
            "\n"
          ]
        }
      ]
    },
    {
      "cell_type": "code",
      "source": [
        "len(y_logits[1])"
      ],
      "metadata": {
        "colab": {
          "base_uri": "https://localhost:8080/"
        },
        "id": "B2cGTv-OWO7G",
        "outputId": "a77767c2-3129-4274-f652-8f78ba91c6f4"
      },
      "execution_count": null,
      "outputs": [
        {
          "output_type": "execute_result",
          "data": {
            "text/plain": [
              "6117"
            ]
          },
          "metadata": {},
          "execution_count": 33
        }
      ]
    },
    {
      "cell_type": "code",
      "source": [
        "import pandas as pd\n",
        "import tensorflow as tf\n",
        "import numpy as np\n",
        "from sklearn.metrics import classification_report\n",
        "\n",
        "# tokens = tokenizer(\n",
        "#     list(df_test[\"text_changed\"]),\n",
        "#     padding=\"max_length\",\n",
        "#     truncation=True,\n",
        "#     max_length=128,\n",
        "#     return_tensors=\"np\"\n",
        "# )\n",
        "\n",
        "# test_dataset = tf.data.Dataset.from_tensor_slices((\n",
        "#     {\n",
        "#         \"input_ids\": tf.convert_to_tensor(tokens[\"input_ids\"]),\n",
        "#         \"attention_mask\": tf.convert_to_tensor(tokens[\"attention_mask\"])\n",
        "#     },\n",
        "#     tf.convert_to_tensor(df_test[\"label\"].values)\n",
        "# )).batch(48)\n",
        "\n",
        "# Predicción\n",
        "start_time = timer()\n",
        "y_logits = trainer.predict(test_dataset)\n",
        "test_time = timer() - start_time\n",
        "# Evaluación\n",
        "print(\"test_time in seconds\", test_time)\n",
        "\n",
        "classification_report = classification_report(test_labels, y_logits[1])\n",
        "\n",
        "print(classification_report)"
      ],
      "metadata": {
        "colab": {
          "base_uri": "https://localhost:8080/",
          "height": 332
        },
        "id": "9fruPTRxierv",
        "outputId": "bd0d05b7-56c8-47d2-8976-e216d45bb619"
      },
      "execution_count": null,
      "outputs": [
        {
          "output_type": "error",
          "ename": "AttributeError",
          "evalue": "'XLMRobertaForSequenceClassification' object has no attribute 'predict'",
          "traceback": [
            "\u001b[0;31m---------------------------------------------------------------------------\u001b[0m",
            "\u001b[0;31mAttributeError\u001b[0m                            Traceback (most recent call last)",
            "\u001b[0;32m/tmp/ipython-input-3982993635.py\u001b[0m in \u001b[0;36m<cell line: 0>\u001b[0;34m()\u001b[0m\n\u001b[1;32m     22\u001b[0m \u001b[0;31m# Predicción\u001b[0m\u001b[0;34m\u001b[0m\u001b[0;34m\u001b[0m\u001b[0m\n\u001b[1;32m     23\u001b[0m \u001b[0mstart_time\u001b[0m \u001b[0;34m=\u001b[0m \u001b[0mtimer\u001b[0m\u001b[0;34m(\u001b[0m\u001b[0;34m)\u001b[0m\u001b[0;34m\u001b[0m\u001b[0;34m\u001b[0m\u001b[0m\n\u001b[0;32m---> 24\u001b[0;31m \u001b[0my_logits\u001b[0m \u001b[0;34m=\u001b[0m \u001b[0mtrainer\u001b[0m\u001b[0;34m.\u001b[0m\u001b[0mpredict\u001b[0m\u001b[0;34m(\u001b[0m\u001b[0mtest_dataset\u001b[0m\u001b[0;34m)\u001b[0m\u001b[0;34m\u001b[0m\u001b[0;34m\u001b[0m\u001b[0m\n\u001b[0m\u001b[1;32m     25\u001b[0m \u001b[0mtest_time\u001b[0m \u001b[0;34m=\u001b[0m \u001b[0mtimer\u001b[0m\u001b[0;34m(\u001b[0m\u001b[0;34m)\u001b[0m \u001b[0;34m-\u001b[0m \u001b[0mstart_time\u001b[0m\u001b[0;34m\u001b[0m\u001b[0;34m\u001b[0m\u001b[0m\n\u001b[1;32m     26\u001b[0m \u001b[0;31m# Evaluación\u001b[0m\u001b[0;34m\u001b[0m\u001b[0;34m\u001b[0m\u001b[0m\n",
            "\u001b[0;32m/usr/local/lib/python3.12/dist-packages/torch/nn/modules/module.py\u001b[0m in \u001b[0;36m__getattr__\u001b[0;34m(self, name)\u001b[0m\n\u001b[1;32m   1960\u001b[0m             \u001b[0;32mif\u001b[0m \u001b[0mname\u001b[0m \u001b[0;32min\u001b[0m \u001b[0mmodules\u001b[0m\u001b[0;34m:\u001b[0m\u001b[0;34m\u001b[0m\u001b[0;34m\u001b[0m\u001b[0m\n\u001b[1;32m   1961\u001b[0m                 \u001b[0;32mreturn\u001b[0m \u001b[0mmodules\u001b[0m\u001b[0;34m[\u001b[0m\u001b[0mname\u001b[0m\u001b[0;34m]\u001b[0m\u001b[0;34m\u001b[0m\u001b[0;34m\u001b[0m\u001b[0m\n\u001b[0;32m-> 1962\u001b[0;31m         raise AttributeError(\n\u001b[0m\u001b[1;32m   1963\u001b[0m             \u001b[0;34mf\"'{type(self).__name__}' object has no attribute '{name}'\"\u001b[0m\u001b[0;34m\u001b[0m\u001b[0;34m\u001b[0m\u001b[0m\n\u001b[1;32m   1964\u001b[0m         )\n",
            "\u001b[0;31mAttributeError\u001b[0m: 'XLMRobertaForSequenceClassification' object has no attribute 'predict'"
          ]
        }
      ]
    },
    {
      "cell_type": "code",
      "source": [
        "print(test_labels)"
      ],
      "metadata": {
        "colab": {
          "base_uri": "https://localhost:8080/"
        },
        "id": "cHdvMSXBLi4m",
        "outputId": "ec11ad77-2728-4c21-b2fa-cfad9127507d"
      },
      "execution_count": null,
      "outputs": [
        {
          "output_type": "stream",
          "name": "stdout",
          "text": [
            "[0, 0, 0, 0, 0, 0, 2, 0, 0, 0, 1, 1, 1, 0, 1, 0, 2, 0, 0, 2, 1, 0, 1, 2, 1, 0, 1, 1, 2, 2, 0, 0, 0, 0, 2, 0, 0, 0, 0, 0, 1, 0, 2, 1, 0, 1, 0, 2, 0, 1, 0, 1, 2, 1, 0, 0, 1, 0, 1, 0, 1, 0, 2, 0, 0, 1, 2, 2, 1, 0, 1, 1, 0, 1, 1, 1, 2, 2, 0, 1, 0, 0, 0, 2, 1, 0, 1, 2, 0, 2, 0, 1, 1, 2, 1, 0, 0, 0, 2, 0, 1, 0, 1, 0, 1, 0, 0, 2, 2, 0, 2, 2, 2, 1, 0, 0, 2, 0, 0, 1, 2, 1, 0, 1, 0, 0, 0, 0, 2, 0, 2, 0, 2, 2, 0, 0, 0, 2, 2, 2, 2, 0, 1, 0, 0, 2, 0, 2, 1, 2, 2, 2, 2, 0, 2, 0, 2, 1, 0, 0, 0, 1, 0, 0, 1, 0, 0, 1, 1, 0, 1, 2, 0, 0, 2, 0, 0, 2, 0, 1, 0, 2, 0, 1, 1, 0, 0, 0, 2, 0, 0, 0, 2, 0, 0, 0, 0, 2, 0, 0, 2, 0, 0, 1, 0, 1, 2, 1, 0, 0, 0, 1, 0, 1, 0, 0, 2, 2, 0, 1, 1, 1, 0, 0, 1, 1, 0, 1, 1, 0, 0, 0, 0, 0, 1, 0, 2, 0, 1, 2, 2, 0, 2, 0, 2, 0, 0, 0, 0, 0, 0, 2, 2, 1, 0, 0, 0, 2, 2, 2, 0, 0, 0, 1, 0, 2, 2, 1, 1, 1, 0, 2, 1, 0, 2, 0, 2, 0, 0, 1, 2, 2, 0, 0, 2, 1, 2, 0, 0, 2, 0, 2, 0, 1, 0, 0, 0, 1, 1, 2, 2, 2, 1, 1, 0, 0, 1, 1, 1, 2, 2, 2, 0, 0, 2, 1, 0, 1, 0, 0, 1, 1, 2, 0, 1, 0, 2, 2, 0, 1, 1, 2, 2, 2, 0, 0, 1, 2, 1, 1, 0, 0, 0, 0, 0, 2, 0, 0, 0, 1, 0, 1, 2, 0, 2, 2, 0, 2, 0, 0, 0, 0, 2, 2, 2, 1, 1, 0, 1, 1, 0, 0, 2, 2, 1, 2, 0, 1, 2, 1, 2, 0, 0, 0, 1, 0, 0, 0, 0, 1, 0, 2, 0, 0, 2, 2, 2, 0, 0, 1, 1, 2, 1, 1, 0, 2, 0, 2, 0, 2, 2, 2, 1, 1, 2, 0, 0, 1, 0, 1, 1, 1, 1, 0, 0, 0, 0, 0, 1, 0, 1, 2, 0, 0, 0, 0, 0, 0, 1, 1, 0, 0, 0, 1, 0, 0, 2, 2, 2, 0, 1, 1, 0, 0, 2, 0, 0, 2, 2, 0, 0, 0, 0, 0, 2, 2, 0, 1, 2, 0, 0, 0, 2, 2, 0, 0, 1, 2, 0, 0, 1, 1, 2, 0, 0, 2, 0, 1, 0, 0, 2, 1, 2, 0, 1, 2, 1, 0, 0, 2, 1, 1, 1, 2, 1, 2, 0, 1, 1, 0, 0, 1, 1, 1, 2, 2, 0, 0, 2, 2, 2, 1, 2, 0, 0, 0, 0, 0, 2, 0, 0, 1, 2, 1, 1, 0, 0, 1, 0, 1, 0, 0, 2, 1, 0, 0, 0, 1, 0, 2, 0, 2, 1, 2, 0, 0, 1, 2, 0, 1, 2, 1, 0, 0, 1, 0, 0, 0, 0, 0, 0, 0, 0, 0, 0, 0, 2, 2, 0, 1, 0, 2, 1, 1, 0, 2, 2, 2, 1, 0, 1, 0, 0, 2, 0, 2, 0, 0, 2, 1, 1, 0, 2, 0, 0, 1, 2, 0, 0, 0, 0, 1, 1, 2, 0, 0, 0, 2, 0, 2, 2, 1, 1, 0, 2, 1, 2, 0, 0, 2, 0, 1, 0, 0, 0, 2, 1, 0, 0, 0, 1, 2, 2, 0, 1, 0, 0, 0, 0, 0, 1, 1, 0, 2, 0, 2, 1, 2, 0, 1, 0, 1, 2, 1, 2, 0, 2, 0, 1, 2, 1, 1, 1, 2, 0, 0, 1, 2, 1, 2, 0, 0, 2, 2, 0, 1, 1, 0, 0, 0, 2, 2, 1, 2, 1, 0, 0, 0, 1, 0, 1, 2, 2, 0, 0, 0, 0, 0, 0, 0, 0, 0, 0, 0, 1, 0, 2, 2, 0, 1, 1, 0, 0, 0, 1, 1, 0, 2, 1, 0, 1, 0, 2, 2, 2, 0, 0, 2, 0, 2, 0, 0, 1, 1, 2, 0, 1, 0, 0, 0, 1, 1, 1, 0, 1, 1, 1, 1, 1, 1, 2, 2, 0, 0, 1, 2, 2, 1, 1, 1, 2, 0, 1, 1, 1, 2, 0, 1, 2, 0, 2, 2, 2, 0, 1, 1, 0, 0, 2, 2, 0, 1, 2, 0, 1, 0, 0, 2, 2, 1, 0, 0, 0, 2, 1, 0, 2, 2, 1, 2, 2, 1, 2, 0, 0, 1, 2, 2, 0, 0, 2, 0, 2, 1, 0, 0, 2, 1, 0, 1, 0, 0, 2, 0, 0, 0, 0, 2, 0, 1, 0, 2, 1, 1, 0, 1, 2, 0, 2, 0, 1, 1, 0, 2, 0, 2, 0, 0, 0, 2, 0, 0, 1, 1, 0, 0, 0, 0, 0, 2, 0, 0, 0, 1, 1, 0, 1, 0, 1, 0, 1, 2, 2, 1, 0, 0, 0, 2, 0, 0, 0, 1, 2, 1, 1, 2, 1, 0, 0, 2, 2, 0, 0, 0, 0, 0, 0, 1, 2, 2, 2, 0, 0, 2, 2, 2, 0, 0, 2, 0, 2, 0, 0, 0, 0, 2, 1, 1, 0, 0, 1, 0, 2, 0, 0, 1, 0, 0, 2, 1, 1, 2, 0, 2, 1, 0, 2, 2, 0, 0, 0, 2, 1, 2, 0, 0, 2, 0, 1, 1, 2, 0, 0, 1, 2, 1, 1, 0, 0, 2, 2, 2, 0, 2, 0, 1, 0, 2, 2, 2, 0, 0, 1, 2, 0, 0, 2, 0, 2, 1, 0, 2, 0, 1, 1, 0, 1, 0, 2, 0, 1, 1, 0, 0, 2, 2, 1, 2, 0, 1, 0, 0, 0, 2, 2, 2, 2, 1, 2, 2, 0, 0, 0, 2, 0, 0, 0, 0, 0, 2, 0, 0, 2, 2, 2, 0, 1, 0, 2, 0, 1, 0, 2, 1, 2, 2, 0, 0, 1, 1, 2, 2, 2, 1, 0, 2, 0, 1, 0, 2, 0, 2, 2, 2, 1, 2, 1, 2, 0, 1, 2, 0, 1, 0, 2, 2, 1, 0, 2, 1, 1, 1, 0, 2, 1, 0, 0, 0, 1, 1, 1, 0, 0, 0, 0, 0, 2, 2, 0, 1, 0, 0, 0, 1, 2, 1, 0, 0, 2, 0, 0, 2, 2, 2, 2, 0, 0, 0, 2, 0, 1, 2, 2, 2, 0, 0, 1, 2, 1, 0, 1, 2, 1, 0, 2, 1, 0, 0, 1, 2, 2, 1, 1, 2, 0, 0, 0, 2, 2, 1, 2, 0, 2, 0, 1, 2, 1, 0, 2, 1, 0, 2, 2, 0, 1, 1, 0, 0, 2, 0, 1, 0, 0, 1, 1, 1, 1, 1, 0, 2, 0, 1, 2, 0, 2, 0, 1, 1, 0, 0, 1, 2, 0, 1, 0, 1, 2, 0, 1, 2, 0, 0, 1, 0, 0, 2, 1, 1, 0, 0, 0, 0, 1, 2, 1, 0, 2, 0, 1, 0, 1, 2, 2, 0, 1, 2, 1, 0, 0, 0, 0, 2, 2, 1, 2, 0, 1, 1, 1, 1, 2, 1, 1, 2, 1, 0, 2, 0, 0, 0, 0, 0, 1, 0, 2, 2, 1, 1, 2, 0, 2, 0, 0, 2, 1, 0, 0, 0, 1, 1, 1, 1, 0, 0, 0, 0, 0, 0, 2, 0, 0, 2, 1, 1, 1, 1, 1, 2, 1, 0, 0, 1, 0, 1, 0, 2, 0, 1, 0, 0, 2, 2, 0, 0, 1, 2, 0, 2, 1, 0, 1, 2, 1, 1, 0, 0, 1, 2, 1, 1, 1, 2, 2, 2, 0, 1, 2, 0, 1, 0, 0, 0, 2, 0, 1, 2, 0, 0, 1, 1, 0, 2, 1, 0, 0, 1, 2, 2, 0, 2, 0, 2, 2, 2, 0, 0, 0, 0, 0, 0, 0, 1, 1, 0, 0, 0, 1, 2, 0, 0, 2, 0, 1, 1, 0, 0, 2, 0, 2, 2, 2, 2, 0, 0, 0, 1, 0, 0, 0, 0, 2, 1, 1, 1, 0, 2, 1, 0, 2, 1, 0, 0, 1, 0, 0, 0, 1, 1, 2, 1, 0, 2, 0, 2, 2, 0, 0, 0, 1, 0, 2, 0, 2, 0, 0, 0, 0, 1, 0, 0, 2, 2, 0, 0, 0, 0, 0, 1, 1, 1, 0, 2, 1, 1, 0, 1, 2, 1, 0, 1, 0, 2, 0, 2, 0, 2, 0, 1, 0, 0, 1, 0, 1, 0, 0, 1, 0, 0, 1, 1, 0, 2, 2, 2, 0, 1, 0, 2, 2, 0, 0, 1, 0, 0, 2, 0, 1, 0, 0, 0, 2, 0, 1, 2, 1, 1, 1, 1, 2, 0, 1, 0, 0, 0, 2, 0, 0, 2, 0, 0, 2, 1, 2, 2, 0, 2, 0, 0, 0, 0, 0, 1, 2, 1, 0, 1, 2, 0, 0, 0, 1, 2, 2, 0, 0, 2, 1, 1, 0, 1, 1, 2, 0, 2, 2, 1, 2, 0, 1, 2, 2, 2, 1, 2, 1, 0, 0, 0, 1, 1, 2, 0, 0, 0, 0, 1, 2, 2, 0, 2, 2, 0, 2, 1, 2, 0, 2, 0, 0, 2, 0, 2, 0, 1, 2, 0, 1, 0, 2, 2, 0, 0, 0, 0, 2, 0, 0, 0, 1, 2, 0, 0, 0, 2, 1, 0, 0, 1, 0, 0, 1, 1, 1, 0, 1, 2, 2, 2, 0, 0, 1, 1, 1, 0, 0, 2, 0, 0, 1, 2, 1, 2, 0, 2, 0, 0, 0, 0, 0, 1, 0, 0, 0, 0, 1, 0, 2, 2, 2, 0, 0, 2, 1, 1, 2, 1, 1, 2, 1, 1, 2, 1, 2, 1, 2, 2, 0, 0, 0, 2, 1, 1, 1, 2, 0, 0, 1, 0, 1, 2, 0, 1, 0, 0, 1, 0, 0, 0, 0, 1, 0, 2, 1, 1, 1, 0, 0, 1, 0, 1, 0, 0, 0, 1, 2, 0, 2, 1, 2, 2, 2, 0, 2, 0, 2, 2, 0, 0, 0, 2, 2, 1, 1, 0, 0, 0, 1, 2, 2, 2, 0, 1, 2, 2, 0, 2, 2, 1, 1, 0, 1, 0, 2, 0, 2, 1, 1, 1, 2, 2, 0, 0, 1, 2, 0, 1, 2, 1, 0, 1, 0, 2, 0, 2, 0, 1, 2, 0, 0, 2, 0, 0, 1, 1, 1, 2, 2, 2, 1, 2, 0, 0, 2, 0, 1, 1, 2, 0, 1, 2, 0, 0, 1, 2, 0, 2, 0, 0, 2, 0, 1, 1, 2, 1, 0, 0, 0, 0, 0, 2, 1, 2, 2, 2, 0, 1, 1, 0, 0, 2, 1, 0, 2, 1, 1, 0, 1, 2, 2, 0, 2, 0, 0, 2, 2, 0, 0, 1, 0, 0, 0, 1, 1, 1, 2, 0, 0, 1, 1, 0, 0, 1, 1, 1, 0, 0, 1, 0, 1, 2, 1, 1, 0, 0, 0, 2, 0, 2, 2, 0, 2, 0, 2, 0, 2, 2, 1, 0, 1, 0, 0, 0, 2, 2, 1, 2, 0, 2, 1, 2, 2, 0, 1, 0, 1, 0, 2, 2, 2, 0, 2, 1, 2, 2, 0, 1, 2, 0, 2, 0, 1, 2, 0, 1, 1, 0, 0, 0, 2, 0, 1, 1, 2, 0, 0, 0, 0, 0, 2, 0, 0, 2, 2, 1, 0, 0, 0, 0, 1, 1, 2, 1, 2, 0, 0, 2, 0, 1, 0, 2, 0, 0, 2, 2, 2, 2, 1, 0, 1, 0, 0, 0, 0, 0, 2, 0, 0, 1, 2, 0, 0, 2, 1, 0, 1, 2, 0, 2, 0, 0, 1, 0, 1, 0, 1, 0, 1, 0, 2, 2, 1, 0, 1, 2, 0, 2, 0, 2, 2, 0, 2, 1, 2, 2, 0, 1, 1, 1, 1, 1, 0, 2, 2, 0, 1, 1, 0, 2, 0, 2, 0, 0, 0, 2, 0, 2, 1, 0, 0, 0, 0, 2, 2, 0, 0, 2, 0, 0, 0, 1, 2, 2, 2, 2, 2, 0, 0, 2, 1, 2, 0, 1, 0, 2, 0, 1, 2, 0, 1, 2, 2, 0, 2, 0, 1, 2, 1, 2, 1, 1, 0, 0, 0, 2, 2, 2, 0, 2, 1, 1, 2, 2, 0, 1, 2, 2, 1, 0, 2, 1, 2, 2, 0, 2, 0, 1, 2, 2, 1, 2, 0, 1, 1, 2, 0, 0, 0, 0, 0, 2, 0, 2, 0, 0, 2, 1, 2, 0, 2, 1, 0, 0, 0, 0, 0, 0, 2, 0, 0, 1, 2, 0, 1, 0, 1, 1, 2, 0, 2, 1, 0, 1, 2, 1, 2, 1, 1, 0, 2, 2, 0, 2, 0, 1, 0, 1, 2, 2, 1, 1, 2, 0, 0, 0, 0, 2, 0, 1, 0, 2, 0, 0, 0, 1, 0, 1, 2, 2, 2, 2, 2, 2, 2, 1, 0, 1, 1, 0, 1, 0, 2, 2, 0, 2, 1, 0, 0, 1, 1, 1, 0, 2, 2, 1, 2, 0, 2, 0, 0, 0, 0, 2, 0, 0, 2, 0, 2, 1, 0, 0, 1, 2, 0, 0, 0, 0, 0, 0, 2, 0, 1, 1, 0, 0, 0, 1, 2, 2, 0, 0, 0, 2, 1, 0, 1, 2, 0, 1, 2, 2, 1, 1, 1, 0, 1, 0, 2, 0, 0, 1, 0, 0, 1, 1, 0, 0, 2, 0, 0, 1, 2, 0, 2, 0, 0, 1, 0, 2, 2, 0, 1, 0, 0, 2, 2, 0, 0, 2, 0, 0, 0, 2, 0, 2, 0, 0, 1, 2, 1, 1, 0, 2, 2, 0, 2, 1, 1, 2, 0, 2, 1, 0, 2, 0, 0, 1, 1, 0, 2, 2, 2, 2, 0, 0, 2, 0, 1, 2, 2, 0, 1, 2, 1, 1, 0, 0, 2, 2, 0, 2, 2, 0, 0, 2, 2, 1, 2, 2, 1, 0, 2, 0, 1, 2, 2, 0, 0, 0, 2, 1, 0, 0, 2, 2, 1, 0, 1, 1, 1, 2, 0, 2, 0, 1, 0, 2, 0, 0, 2, 0, 1, 0, 0, 2, 0, 2, 1, 2, 2, 2, 1, 2, 1, 0, 1, 0, 2, 1, 1, 0, 2, 1, 0, 1, 2, 0, 2, 0, 0, 0, 0, 0, 2, 1, 2, 2, 1, 0, 2, 1, 0, 0, 1, 0, 0, 2, 1, 2, 0, 2, 1, 0, 1, 1, 2, 2, 2, 0, 2, 2, 1, 0, 0, 1, 2, 1, 0, 2, 1, 1, 2, 1, 0, 1, 1, 2, 1, 2, 0, 1, 1, 1, 1, 1, 1, 2, 0, 1, 0, 0, 2, 2, 2, 0, 1, 1, 0, 2, 0, 0, 0, 0, 1, 0, 2, 2, 0, 0, 0, 0, 2, 2, 0, 0, 2, 2, 0, 2, 0, 0, 0, 2, 0, 0, 1, 0, 0, 0, 2, 1, 2, 2, 2, 0, 0, 0, 2, 2, 2, 0, 1, 2, 0, 0, 0, 0, 1, 2, 0, 2, 0, 2, 0, 1, 2, 0, 0, 0, 2, 2, 2, 0, 2, 0, 1, 0, 1, 0, 0, 2, 1, 0, 0, 1, 0, 0, 2, 2, 0, 1, 2, 0, 0, 0, 0, 1, 0, 2, 0, 0, 0, 0, 2, 0, 1, 1, 2, 0, 2, 2, 1, 2, 0, 0, 2, 0, 1, 2, 1, 2, 1, 2, 1, 0, 1, 1, 1, 0, 1, 2, 0, 0, 2, 1, 0, 2, 2, 0, 1, 0, 2, 2, 1, 2, 2, 2, 2, 0, 2, 1, 0, 0, 2, 2, 2, 1, 0, 2, 1, 0, 2, 0, 0, 2, 2, 0, 0, 2, 1, 0, 0, 1, 1, 0, 2, 0, 1, 2, 0, 0, 0, 2, 0, 0, 0, 0, 0, 0, 0, 0, 1, 1, 2, 1, 2, 0, 1, 1, 0, 1, 0, 1, 1, 1, 0, 1, 0, 0, 0, 2, 2, 2, 0, 2, 1, 1, 1, 0, 2, 2, 0, 0, 2, 2, 0, 0, 1, 0, 0, 0, 0, 0, 0, 1, 0, 0, 0, 2, 1, 1, 1, 0, 0, 0, 0, 0, 1, 0, 0, 2, 0, 1, 2, 1, 2, 1, 0, 2, 0, 0, 2, 2, 0, 0, 2, 1, 0, 0, 0, 0, 0, 2, 2, 2, 1, 0, 0, 2, 2, 0, 0, 2, 1, 2, 0, 2, 1, 0, 2, 1, 1, 0, 1, 0, 2, 2, 0, 2, 0, 0, 0, 0, 0, 0, 0, 0, 0, 0, 0, 1, 1, 0, 2, 0, 2, 0, 0, 1, 2, 0, 1, 0, 2, 0, 0, 1, 0, 1, 1, 0, 2, 2, 0, 2, 0, 0, 2, 1, 2, 0, 1, 1, 1, 0, 0, 1, 1, 1, 0, 2, 1, 1, 0, 1, 0, 0, 0, 2, 2, 0, 2, 1, 0, 0, 0, 2, 0, 0, 0, 0, 2, 2, 0, 0, 2, 0, 2, 1, 2, 2, 1, 0, 1, 1, 1, 2, 0, 2, 2, 1, 1, 0, 2, 0, 0, 1, 2, 0, 0, 2, 2, 0, 0, 1, 1, 0, 2, 2, 0, 0, 2, 1, 0, 2, 0, 0, 0, 0, 2, 2, 2, 0, 2, 2, 0, 1, 0, 2, 2, 0, 1, 0, 0, 0, 0, 0, 2, 2, 0, 2, 0, 0, 2, 0, 0, 2, 1, 0, 0, 0, 0, 0, 0, 0, 1, 1, 1, 0, 0, 2, 1, 1, 1, 0, 2, 1, 2, 0, 1, 2, 0, 2, 0, 2, 0, 2, 1, 0, 2, 0, 0, 0, 2, 1, 1, 1, 2, 0, 1, 2, 0, 0, 2, 2, 2, 0, 1, 2, 1, 2, 0, 0, 1, 2, 0, 0, 0, 0, 0, 1, 2, 2, 0, 2, 2, 0, 2, 0, 0, 1, 1, 2, 0, 2, 2, 0, 2, 1, 0, 0, 1, 1, 1, 2, 0, 0, 2, 0, 2, 0, 0, 0, 0, 0, 1, 2, 0, 1, 0, 0, 1, 0, 1, 2, 2, 0, 0, 2, 1, 0, 2, 2, 0, 2, 1, 0, 0, 2, 0, 2, 0, 0, 0, 0, 0, 2, 2, 2, 0, 1, 0, 2, 1, 2, 2, 0, 0, 1, 0, 1, 0, 2, 0, 0, 0, 2, 1, 1, 0, 2, 0, 1, 1, 2, 0, 1, 0, 1, 0, 0, 0, 1, 2, 2, 1, 0, 1, 0, 0, 0, 2, 0, 0, 1, 0, 1, 0, 2, 2, 2, 1, 2, 1, 2, 1, 0, 0, 0, 0, 0, 1, 2, 0, 1, 1, 1, 1, 0, 1, 1, 0, 0, 0, 0, 1, 1, 1, 0, 0, 0, 2, 2, 2, 0, 0, 2, 2, 2, 1, 1, 1, 0, 1, 2, 2, 0, 1, 2, 1, 1, 1, 2, 2, 0, 0, 2, 0, 0, 1, 0, 0, 0, 0, 0, 0, 0, 1, 2, 0, 2, 1, 1, 2, 2, 0, 0, 0, 0, 1, 0, 0, 0, 0, 0, 1, 1, 2, 1, 1, 0, 0, 2, 2, 0, 1, 0, 2, 1, 2, 0, 0, 2, 2, 2, 2, 1, 2, 2, 2, 1, 1, 0, 1, 1, 2, 1, 0, 1, 0, 2, 0, 0, 2, 0, 1, 2, 2, 2, 0, 0, 0, 1, 2, 2, 2, 2, 1, 2, 2, 0, 2, 0, 1, 0, 1, 2, 1, 1, 0, 0, 0, 1, 2, 1, 0, 0, 1, 2, 2, 1, 2, 1, 0, 2, 0, 2, 2, 0, 1, 0, 0, 0, 2, 0, 0, 1, 0, 1, 0, 0, 1, 2, 0, 2, 1, 0, 1, 2, 0, 2, 0, 1, 0, 2, 0, 0, 1, 0, 2, 0, 0, 0, 1, 2, 0, 1, 1, 0, 0, 2, 0, 1, 2, 2, 1, 0, 0, 2, 2, 0, 2, 0, 0, 2, 2, 0, 0, 1, 2, 0, 0, 2, 0, 0, 2, 1, 2, 0, 1, 0, 0, 1, 0, 1, 1, 0, 0, 1, 0, 0, 0, 2, 2, 0, 2, 0, 0, 1, 0, 0, 2, 2, 0, 2, 2, 0, 2, 2, 1, 0, 1, 0, 2, 2, 0, 2, 0, 1, 0, 1, 2, 1, 0, 2, 2, 2, 1, 1, 1, 1, 0, 0, 0, 0, 0, 1, 0, 1, 2, 0, 0, 0, 0, 0, 1, 0, 2, 0, 2, 0, 0, 1, 1, 2, 1, 0, 2, 1, 1, 2, 2, 0, 1, 2, 2, 2, 0, 2, 0, 0, 0, 0, 1, 0, 1, 1, 1, 0, 0, 0, 0, 1, 0, 0, 2, 2, 2, 1, 1, 2, 0, 0, 2, 2, 0, 0, 2, 0, 1, 0, 0, 0, 2, 2, 2, 0, 0, 0, 2, 2, 2, 2, 2, 0, 2, 1, 0, 2, 0, 0, 1, 2, 0, 0, 0, 0, 0, 2, 0, 0, 1, 2, 0, 1, 2, 2, 0, 1, 2, 0, 2, 1, 0, 2, 2, 1, 1, 2, 2, 0, 0, 2, 0, 0, 2, 1, 1, 0, 0, 0, 0, 0, 1, 2, 2, 0, 2, 1, 1, 0, 1, 2, 1, 1, 0, 2, 2, 2, 1, 1, 2, 2, 2, 0, 1, 2, 1, 0, 0, 2, 2, 2, 2, 1, 0, 1, 1, 0, 2, 1, 0, 2, 0, 2, 2, 1, 0, 2, 2, 0, 1, 0, 0, 2, 1, 0, 0, 1, 1, 0, 2, 2, 1, 2, 2, 1, 2, 0, 0, 1, 2, 0, 0, 2, 0, 0, 0, 2, 2, 2, 2, 0, 2, 0, 0, 0, 2, 0, 0, 0, 2, 2, 0, 0, 2, 0, 1, 1, 0, 0, 2, 0, 2, 0, 2, 1, 0, 0, 0, 0, 2, 0, 0, 0, 0, 0, 2, 0, 2, 1, 1, 0, 1, 0, 0, 2, 0, 0, 1, 2, 0, 0, 0, 2, 0, 1, 2, 2, 1, 1, 1, 2, 0, 0, 2, 2, 2, 0, 0, 0, 1, 2, 1, 0, 2, 2, 0, 2, 0, 0, 0, 1, 0, 2, 1, 0, 0, 1, 1, 0, 2, 0, 0, 1, 2, 2, 0, 0, 1, 1, 0, 0, 1, 0, 1, 0, 0, 2, 0, 0, 1, 2, 2, 2, 2, 0, 2, 0, 2, 2, 1, 0, 0, 0, 2, 1, 0, 2, 1, 1, 0, 0, 2, 0, 0, 0, 2, 0, 0, 2, 1, 1, 2, 1, 0, 0, 1, 1, 2, 2, 2, 2, 0, 0, 2, 0, 0, 0, 0, 0, 1, 0, 1, 0, 2, 0, 0, 0, 2, 2, 2, 2, 0, 1, 0, 2, 1, 0, 2, 0, 1, 1, 0, 0, 2, 1, 2, 1, 1, 0, 2, 0, 0, 0, 0, 1, 0, 2, 0, 0, 1, 1, 0, 2, 2, 0, 1, 0, 2, 1, 0, 0, 1, 2, 1, 0, 0, 1, 0, 0, 1, 2, 1, 0, 2, 0, 0, 0, 0, 0, 0, 0, 2, 2, 0, 0, 2, 1, 0, 0, 2, 0, 0, 2, 2, 2, 2, 0, 2, 0, 1, 0, 0, 1, 0, 1, 1, 0, 2, 1, 1, 0, 0, 0, 0, 0, 1, 1, 0, 0, 0, 0, 1, 0, 2, 0, 1, 0, 2, 0, 2, 0, 2, 1, 1, 2, 1, 1, 2, 2, 1, 0, 0, 0, 2, 0, 0, 1, 0, 0, 0, 0, 0, 1, 1, 0, 2, 2, 1, 2, 1, 2, 1, 0, 2, 0, 0, 0, 1, 1, 1, 0, 0, 2, 0, 2, 1, 0, 1, 0, 0, 2, 1, 0, 0, 0, 0, 2, 2, 0, 2, 0, 1, 0, 0, 0, 1, 0, 0, 2, 2, 0, 2, 0, 0, 0, 1, 0, 1, 0, 2, 0, 2, 2, 0, 0, 0, 2, 1, 2, 0, 0, 1, 1, 0, 2, 2, 2, 1, 2, 0, 2, 2, 2, 1, 1, 0, 0, 1, 0, 2, 0, 0, 0, 0, 1, 1, 0, 2, 0, 1, 1, 1, 0, 2, 1, 2, 0, 1, 0, 0, 0, 0, 1, 1, 0, 0, 1, 2, 0, 2, 0, 2, 1, 1, 2, 0, 1, 0, 0, 0, 2, 0, 2, 2, 0, 0, 2, 0, 2, 0, 2, 2, 2, 1, 0, 1, 1, 0, 1, 2, 2, 2, 2, 0, 0, 0, 0, 2, 2, 2, 0, 0, 0, 1, 1, 0, 0, 0, 2, 2, 2, 2, 2, 2, 0, 0, 2, 2, 1, 1, 0, 1, 1, 2, 2, 1, 1, 1, 0, 2, 2, 1, 0, 0, 0, 2, 0, 0, 1, 0, 1, 2, 0, 0, 1, 0, 2, 1, 2, 1, 0, 0, 1, 0, 0, 2, 0, 0, 0, 0, 1, 2, 0, 2, 0, 0, 0, 2, 2, 0, 2, 1, 0, 2, 2, 1, 0, 0, 1, 0, 0, 1, 0, 0, 2, 1, 1, 2, 0, 0, 2, 1, 2, 1, 0, 0, 2, 0, 0, 2, 1, 0, 2, 2, 0, 0, 0, 0, 1, 2, 0, 1, 0, 0, 0, 0, 0, 1, 2, 2, 1, 0, 0, 2, 1, 2, 0, 0, 1, 1, 2, 1, 0, 0, 0, 0, 0, 0, 0, 0, 1, 0, 1, 2, 2, 1, 0, 0, 2, 0, 2, 2, 1, 1, 0, 2, 0, 2, 1, 0, 0, 1, 1, 0, 1, 1, 0, 0, 0, 0, 1, 1, 0, 2, 0, 2, 0, 0, 0, 0, 0, 0, 0, 0, 1, 2, 0, 2, 1, 1, 0, 1, 2, 1, 1, 0, 0, 2, 2, 2, 0, 0, 2, 1, 2, 1, 0, 0, 0, 2, 2, 2, 0, 1, 1, 2, 1, 0, 2, 0, 1, 2, 2, 0, 0, 1, 1, 2, 2, 0, 0, 2, 0, 0, 2, 2, 1, 0, 0, 0, 1, 0, 1, 0, 0, 2, 2, 0, 1, 1, 0, 1, 0, 0, 0, 2, 0, 2, 0, 0, 2, 0, 2, 0, 2, 1, 0, 0, 0, 2, 0, 1, 0, 2, 2, 0, 0, 2, 0, 2, 0, 0, 0, 2, 0, 1, 0, 0, 1, 2, 1, 0, 0, 0, 2, 0, 2, 0, 1, 2, 0, 2, 1, 2, 2, 0, 0, 0, 1, 0, 0, 1, 0, 2, 2, 2, 2, 0, 0, 2, 2, 2, 0, 0, 0, 0, 2, 0, 0, 2, 0, 0, 0, 0, 2, 2, 2, 2, 0, 0, 1, 0, 1, 2, 1, 1, 1, 0, 0, 2, 0, 2, 2, 0, 0, 2, 0, 1, 1, 2, 0, 1, 2, 0, 2, 2, 1, 0, 0, 0, 2, 1, 0, 0, 0, 1, 0, 0, 2, 0, 0, 2, 1, 0, 2, 1, 2, 2, 1, 2, 2, 0, 1, 0, 0, 2, 0, 0, 0, 1, 2, 0, 0, 2, 0, 2, 0, 1, 0, 2, 2, 0, 2, 2, 1, 2, 1, 2, 0, 1, 0, 0, 2, 2, 2, 0, 1, 2, 0, 2, 2, 2, 1, 1, 0, 2, 0, 0, 1, 0, 1, 2, 1, 0, 2, 0, 2, 2, 0, 2, 2, 1, 1, 0, 2, 0, 0, 0, 1, 1, 1, 0, 0, 0, 2, 1, 2, 0, 0, 1, 1, 0, 0, 0, 0, 2, 2, 1, 0, 0, 0, 0, 0, 0, 1, 2, 1, 0, 2, 0, 1, 0, 0, 1, 2, 1, 0, 1, 0, 2, 0, 2, 1, 1, 0, 2, 0, 2, 1, 0, 0, 2, 2, 1, 2, 1, 0, 2, 1, 2, 2, 1, 0, 0, 2, 0, 0, 2, 0, 0, 0, 0, 1, 0, 1, 1, 0, 2, 1, 2, 0, 1, 0, 0, 0, 2, 2, 0, 0, 1, 0, 1, 2, 2, 0, 2, 0, 1, 2, 1, 2, 2, 0, 2, 1, 1, 0, 0, 2, 0, 2, 0, 2, 0, 0, 1, 1, 2, 0, 0, 2, 0, 0, 0, 2, 0, 2, 2, 0, 0, 0, 2, 0, 1, 2, 1, 0, 2, 0, 2, 0, 0, 0, 1, 2, 0, 0, 2, 0, 0, 0, 0, 1, 2, 0, 0, 0, 0, 0, 2, 0, 2, 2, 2, 0, 2, 2, 0, 2, 0, 2, 0, 0, 2, 0, 0, 1, 1, 2, 2, 0, 0, 1, 0, 0, 1, 1, 0, 0, 0, 0, 2, 2, 2, 0, 0, 2, 0, 1, 2, 1, 0, 0, 0, 0, 1, 2, 0, 0, 0, 2, 1, 2, 2, 0, 0, 0, 2, 0, 0, 0, 1, 0, 0, 2, 2, 0, 0, 2, 1, 2, 1, 0, 2, 2, 1, 1, 2, 0, 1, 0, 2, 0, 0, 2, 0, 2, 0, 2, 2, 0, 0, 2, 1, 0, 2, 1, 1, 0, 2, 0, 2, 1, 1, 2, 2, 1, 1, 0, 2, 0, 2, 2, 0, 1, 1, 2, 1, 1, 1, 0, 0, 1, 2, 2, 0, 1, 2, 0, 0, 0, 2, 1, 0, 2, 2, 2, 0, 2, 1, 0, 0, 0, 0, 2, 0, 2, 0, 0, 1, 1, 1, 2, 2, 2, 1, 0, 0, 0, 0, 0, 0, 0, 2, 1, 1, 2, 2, 2, 0, 0, 1, 1, 0, 0, 0, 0, 0, 1, 0, 2, 0, 1, 2, 0, 0, 0, 2, 2, 1, 2, 0, 2, 0, 1, 1, 0, 0, 2, 1, 0, 0, 1, 0, 1, 0, 0, 0, 0, 0, 0, 2, 2, 1, 0, 0, 1, 0, 0, 0, 0, 0, 2, 1, 0, 1, 2, 0, 2, 2, 0, 1, 1, 1, 0, 0, 1, 0, 0, 0, 0, 0, 0, 1, 0, 1, 0, 2, 0, 0, 1, 2, 0, 2, 0, 1, 2, 1, 2, 2, 2, 0, 0, 2, 0, 0, 0, 2, 2, 2, 0, 0, 1, 1, 1, 1, 2, 2, 2, 2, 1, 2, 1, 1, 0, 2, 2, 2, 0, 2, 0, 1, 1, 1, 1, 1, 0, 1, 1, 1, 1, 0, 2, 2, 1, 0, 1, 0, 2, 0, 0, 0, 1, 0, 0, 0, 0, 0, 1, 0, 0, 1, 2, 0, 1, 0, 1, 0, 1, 1, 0, 2, 1, 0, 0, 0, 0, 0, 0, 2, 2, 2, 1, 0, 0, 0, 2, 2, 0, 1, 0, 0, 2, 0, 1, 2, 2, 0, 2, 2, 1, 1, 0, 0, 2, 0, 0, 0, 0, 0, 0, 0, 2, 0, 0, 0, 0, 1, 0, 2, 2, 0, 1, 1, 0, 1, 0, 1, 2, 0, 0, 0, 2, 0, 2, 0, 0, 0, 2, 1, 0, 2, 1, 0, 2, 0, 2, 2, 0, 0, 1, 0, 0, 0, 1, 0, 0, 1, 0, 0, 1, 0, 0, 0, 1, 0, 2, 0, 2, 0, 1, 1, 0, 1, 0, 1, 2, 1, 0, 1, 1, 0, 2, 0, 1, 2, 2, 0, 1, 0, 0, 1, 0, 2, 0, 0, 0, 2, 0, 1, 1, 1, 0, 0, 2, 0, 0, 1, 2, 0, 1, 0, 2, 2, 0, 2, 0, 0, 2, 0, 1, 0, 1, 0, 0, 0, 0, 1, 0, 1, 0, 2, 1, 1, 0, 1, 1, 0, 2, 2, 2, 0, 2, 0, 0, 1, 2, 2, 2, 0, 0, 0, 2, 0, 1, 0, 1, 0, 1, 0, 1, 1, 0, 0, 0, 1, 2, 0, 2, 2, 1, 1, 0, 0, 0, 0, 1, 2, 1, 0, 0, 0, 0, 0, 1, 0, 2, 1, 1, 2, 2, 0, 0, 1, 1, 1, 0, 0, 1, 2, 2, 0, 0, 2, 2, 0, 0, 2, 0, 0, 0, 1, 2, 0, 2, 2, 0, 1, 1, 0, 1, 2, 1, 0, 1, 0, 1, 2, 0, 2, 1, 2, 0, 1, 1, 0, 0, 1, 1, 0, 2, 2, 1, 0, 0, 1, 0, 2, 0, 1, 0, 2, 2, 1, 0, 2, 2, 0, 2, 0, 2, 0, 0, 1, 1, 1, 2, 0, 1, 0, 2, 2, 0, 2, 0, 0, 0, 0, 2, 2, 2, 0, 2, 2, 0, 0, 0, 1, 0, 2, 1, 1, 2, 0, 2, 0, 0, 1, 2, 1, 2, 0, 0, 1, 0, 2, 0, 2, 0, 0, 0, 2, 0, 1, 0, 0, 1, 1, 2, 0, 0, 1, 1, 0, 0, 1, 1, 2, 1, 2, 1, 0, 0, 0, 0, 0, 2, 1, 0, 0, 1, 0, 1, 2, 0, 0, 0, 1, 0, 2, 2, 1, 1, 0, 2, 0, 0, 1, 0, 0, 0, 0, 0, 2, 2, 0, 0, 0, 0, 2, 0, 1, 0, 0, 0, 2, 0, 1, 2, 0, 2, 0, 0, 2, 1, 1, 1, 0, 2, 0, 1, 0, 0, 2, 0, 0, 1, 0, 0, 1, 2, 0, 0, 2, 2, 0, 1, 1, 0, 1, 2, 1, 0, 2, 0, 2, 0, 0, 2, 1, 1, 0, 0, 2, 2, 1, 2, 2, 2, 2, 0, 2, 0, 0, 0, 1, 0, 0, 0, 2, 2, 0, 1, 0, 0, 2, 1, 1, 0, 0, 1, 2, 2, 0, 0, 0, 0, 0, 0, 0, 1, 0, 0, 0, 0, 0, 2, 2, 0, 1, 1, 1, 0, 0, 2, 1, 2, 0, 2, 0, 0, 2, 0, 2, 2, 2, 0, 0, 2, 0, 1, 0, 0, 0, 0, 0, 0, 0, 0, 2, 0, 2, 1, 1, 0, 0, 1, 2, 0, 2, 0, 1, 1, 0, 0, 0, 1, 0, 0, 0, 2, 2, 1, 0, 1, 0, 1, 1, 2, 1, 1, 0, 0, 2, 2, 2, 2, 2, 1, 1, 0, 0, 0, 1, 2, 1, 2, 0, 0, 2, 0, 1, 0, 0, 1, 2, 0, 2, 0, 0, 2, 0, 2, 0, 0, 0, 1, 2, 0, 0, 0, 1, 0, 2, 1, 2, 1, 0, 2, 2, 2, 0, 0, 0, 2, 0, 0, 1, 2, 0, 2, 0, 1, 2, 0, 2, 1, 2, 0, 0, 0, 2, 2, 1, 2, 1, 0, 0, 0, 1, 0, 0, 2, 0, 2, 1, 1, 0, 1, 0, 2, 2, 1, 2, 1, 1, 2, 1, 0, 1, 0, 0, 0, 1, 1, 2, 0, 0, 1, 2, 1, 2, 0, 2, 1, 2, 0, 0, 0, 0, 0, 1, 1, 1, 2, 2, 0, 2, 0, 1, 0, 2, 0, 2, 0, 0, 2, 2, 2, 0, 2, 0, 1, 0, 1, 2, 2, 2, 0, 1, 2, 1, 0, 2, 2, 2, 0, 2, 2, 2, 1, 1, 0, 0, 2, 1, 0, 1, 1, 0, 0, 1, 0, 1, 0, 2, 0, 0, 2, 1, 0, 2, 1, 1, 0, 1, 2, 2, 0, 0, 2, 0, 0, 2, 1, 2, 2, 0, 1, 0, 0, 0, 2, 2, 2, 0, 0, 0, 2, 0, 1, 0, 0, 0, 2, 2, 1, 2, 2, 2, 0, 2, 2, 1, 0, 2, 2, 2, 2, 0, 2, 1, 0, 2, 0, 2, 0, 0, 1, 1, 0, 0, 0, 2, 2, 1, 0, 2, 1, 0, 0, 0, 0, 2, 1, 0, 1, 1, 0, 2, 1, 0, 0, 2, 0, 0, 0, 0, 0, 2, 0, 2, 1, 0, 0, 0, 0, 0, 0, 0, 2, 1, 1, 0, 1, 1, 2, 0, 1, 2, 0, 0, 2, 2, 0, 1, 0, 2, 0, 1, 0, 2, 1, 2, 0, 1, 1, 1, 0, 0, 2, 0, 2, 1, 2, 2, 0, 2, 0, 0, 0, 0, 1, 2, 2, 1, 0, 0, 2, 0, 0, 1, 1, 1, 0, 1, 2, 2, 0, 0, 1, 2, 1, 1, 2, 0, 2, 2, 1, 0, 1, 2, 0, 0, 1, 1, 0, 0, 0, 2, 1, 0, 1, 0, 1, 1, 2, 2, 1, 0, 0, 1, 0, 0, 0, 1, 2, 2, 0, 0, 0, 0, 2, 0, 2, 1, 2, 2, 0, 0, 0, 1, 2, 0, 0, 0, 2, 1, 2, 0, 0, 0, 0, 2, 1, 2, 1, 2, 1, 2, 2, 2, 2, 1, 2, 0, 1, 0, 2, 0, 2, 1, 1, 2, 1, 2, 0, 0, 2, 0, 0, 1, 1, 1, 0, 2, 0, 0, 0, 1, 2, 0, 0, 0, 2, 0, 2, 2, 2, 0, 0, 1, 2, 2, 2, 0, 0, 2, 1, 0, 0, 0, 0, 1, 0, 1, 2, 1, 0, 0, 0, 2, 2, 2, 0, 0, 0, 0, 0, 2, 0, 1, 0, 0, 2, 0, 0, 0, 2, 1, 0, 0, 0, 0, 1, 0, 2, 2, 2, 2, 0, 1, 1, 0, 1, 0, 2, 0, 1, 0, 0, 2, 0, 0, 1, 2, 1, 2, 1, 1, 0, 0, 2, 0, 2, 1, 0, 1, 0, 2, 2, 1, 0, 2, 0, 2, 2, 1, 0, 0, 2, 0, 0, 0, 1, 2]\n"
          ]
        }
      ]
    },
    {
      "cell_type": "code",
      "source": [
        "print(len(test_labels))"
      ],
      "metadata": {
        "colab": {
          "base_uri": "https://localhost:8080/"
        },
        "id": "xsccJtDrLxQ-",
        "outputId": "b432291b-8119-40b5-b069-b87d2f868608"
      },
      "execution_count": null,
      "outputs": [
        {
          "output_type": "stream",
          "name": "stdout",
          "text": [
            "6117\n"
          ]
        }
      ]
    },
    {
      "cell_type": "code",
      "source": [
        "print(test_labels)"
      ],
      "metadata": {
        "colab": {
          "base_uri": "https://localhost:8080/"
        },
        "id": "Iq03FdTulxzM",
        "outputId": "79c74739-ff28-433c-8129-33cd0eab74bc"
      },
      "execution_count": null,
      "outputs": [
        {
          "output_type": "stream",
          "name": "stdout",
          "text": [
            "[0, 0, 0, 0, 0, 0, 2, 0, 0, 0, 1, 1, 1, 0, 1, 0, 2, 0, 0, 2, 1, 0, 1, 2, 1, 0, 1, 1, 2, 2, 0, 0, 0, 0, 2, 0, 0, 0, 0, 0, 1, 0, 2, 1, 0, 1, 0, 2, 0, 1, 0, 1, 2, 1, 0, 0, 1, 0, 1, 0, 1, 0, 2, 0, 0, 1, 2, 2, 1, 0, 1, 1, 0, 1, 1, 1, 2, 2, 0, 1, 0, 0, 0, 2, 1, 0, 1, 2, 0, 2, 0, 1, 1, 2, 1, 0, 0, 0, 2, 0, 1, 0, 1, 0, 1, 0, 0, 2, 2, 0, 2, 2, 2, 1, 0, 0, 2, 0, 0, 1, 2, 1, 0, 1, 0, 0, 0, 0, 2, 0, 2, 0, 2, 2, 0, 0, 0, 2, 2, 2, 2, 0, 1, 0, 0, 2, 0, 2, 1, 2, 2, 2, 2, 0, 2, 0, 2, 1, 0, 0, 0, 1, 0, 0, 1, 0, 0, 1, 1, 0, 1, 2, 0, 0, 2, 0, 0, 2, 0, 1, 0, 2, 0, 1, 1, 0, 0, 0, 2, 0, 0, 0, 2, 0, 0, 0, 0, 2, 0, 0, 2, 0, 0, 1, 0, 1, 2, 1, 0, 0, 0, 1, 0, 1, 0, 0, 2, 2, 0, 1, 1, 1, 0, 0, 1, 1, 0, 1, 1, 0, 0, 0, 0, 0, 1, 0, 2, 0, 1, 2, 2, 0, 2, 0, 2, 0, 0, 0, 0, 0, 0, 2, 2, 1, 0, 0, 0, 2, 2, 2, 0, 0, 0, 1, 0, 2, 2, 1, 1, 1, 0, 2, 1, 0, 2, 0, 2, 0, 0, 1, 2, 2, 0, 0, 2, 1, 2, 0, 0, 2, 0, 2, 0, 1, 0, 0, 0, 1, 1, 2, 2, 2, 1, 1, 0, 0, 1, 1, 1, 2, 2, 2, 0, 0, 2, 1, 0, 1, 0, 0, 1, 1, 2, 0, 1, 0, 2, 2, 0, 1, 1, 2, 2, 2, 0, 0, 1, 2, 1, 1, 0, 0, 0, 0, 0, 2, 0, 0, 0, 1, 0, 1, 2, 0, 2, 2, 0, 2, 0, 0, 0, 0, 2, 2, 2, 1, 1, 0, 1, 1, 0, 0, 2, 2, 1, 2, 0, 1, 2, 1, 2, 0, 0, 0, 1, 0, 0, 0, 0, 1, 0, 2, 0, 0, 2, 2, 2, 0, 0, 1, 1, 2, 1, 1, 0, 2, 0, 2, 0, 2, 2, 2, 1, 1, 2, 0, 0, 1, 0, 1, 1, 1, 1, 0, 0, 0, 0, 0, 1, 0, 1, 2, 0, 0, 0, 0, 0, 0, 1, 1, 0, 0, 0, 1, 0, 0, 2, 2, 2, 0, 1, 1, 0, 0, 2, 0, 0, 2, 2, 0, 0, 0, 0, 0, 2, 2, 0, 1, 2, 0, 0, 0, 2, 2, 0, 0, 1, 2, 0, 0, 1, 1, 2, 0, 0, 2, 0, 1, 0, 0, 2, 1, 2, 0, 1, 2, 1, 0, 0, 2, 1, 1, 1, 2, 1, 2, 0, 1, 1, 0, 0, 1, 1, 1, 2, 2, 0, 0, 2, 2, 2, 1, 2, 0, 0, 0, 0, 0, 2, 0, 0, 1, 2, 1, 1, 0, 0, 1, 0, 1, 0, 0, 2, 1, 0, 0, 0, 1, 0, 2, 0, 2, 1, 2, 0, 0, 1, 2, 0, 1, 2, 1, 0, 0, 1, 0, 0, 0, 0, 0, 0, 0, 0, 0, 0, 0, 2, 2, 0, 1, 0, 2, 1, 1, 0, 2, 2, 2, 1, 0, 1, 0, 0, 2, 0, 2, 0, 0, 2, 1, 1, 0, 2, 0, 0, 1, 2, 0, 0, 0, 0, 1, 1, 2, 0, 0, 0, 2, 0, 2, 2, 1, 1, 0, 2, 1, 2, 0, 0, 2, 0, 1, 0, 0, 0, 2, 1, 0, 0, 0, 1, 2, 2, 0, 1, 0, 0, 0, 0, 0, 1, 1, 0, 2, 0, 2, 1, 2, 0, 1, 0, 1, 2, 1, 2, 0, 2, 0, 1, 2, 1, 1, 1, 2, 0, 0, 1, 2, 1, 2, 0, 0, 2, 2, 0, 1, 1, 0, 0, 0, 2, 2, 1, 2, 1, 0, 0, 0, 1, 0, 1, 2, 2, 0, 0, 0, 0, 0, 0, 0, 0, 0, 0, 0, 1, 0, 2, 2, 0, 1, 1, 0, 0, 0, 1, 1, 0, 2, 1, 0, 1, 0, 2, 2, 2, 0, 0, 2, 0, 2, 0, 0, 1, 1, 2, 0, 1, 0, 0, 0, 1, 1, 1, 0, 1, 1, 1, 1, 1, 1, 2, 2, 0, 0, 1, 2, 2, 1, 1, 1, 2, 0, 1, 1, 1, 2, 0, 1, 2, 0, 2, 2, 2, 0, 1, 1, 0, 0, 2, 2, 0, 1, 2, 0, 1, 0, 0, 2, 2, 1, 0, 0, 0, 2, 1, 0, 2, 2, 1, 2, 2, 1, 2, 0, 0, 1, 2, 2, 0, 0, 2, 0, 2, 1, 0, 0, 2, 1, 0, 1, 0, 0, 2, 0, 0, 0, 0, 2, 0, 1, 0, 2, 1, 1, 0, 1, 2, 0, 2, 0, 1, 1, 0, 2, 0, 2, 0, 0, 0, 2, 0, 0, 1, 1, 0, 0, 0, 0, 0, 2, 0, 0, 0, 1, 1, 0, 1, 0, 1, 0, 1, 2, 2, 1, 0, 0, 0, 2, 0, 0, 0, 1, 2, 1, 1, 2, 1, 0, 0, 2, 2, 0, 0, 0, 0, 0, 0, 1, 2, 2, 2, 0, 0, 2, 2, 2, 0, 0, 2, 0, 2, 0, 0, 0, 0, 2, 1, 1, 0, 0, 1, 0, 2, 0, 0, 1, 0, 0, 2, 1, 1, 2, 0, 2, 1, 0, 2, 2, 0, 0, 0, 2, 1, 2, 0, 0, 2, 0, 1, 1, 2, 0, 0, 1, 2, 1, 1, 0, 0, 2, 2, 2, 0, 2, 0, 1, 0, 2, 2, 2, 0, 0, 1, 2, 0, 0, 2, 0, 2, 1, 0, 2, 0, 1, 1, 0, 1, 0, 2, 0, 1, 1, 0, 0, 2, 2, 1, 2, 0, 1, 0, 0, 0, 2, 2, 2, 2, 1, 2, 2, 0, 0, 0, 2, 0, 0, 0, 0, 0, 2, 0, 0, 2, 2, 2, 0, 1, 0, 2, 0, 1, 0, 2, 1, 2, 2, 0, 0, 1, 1, 2, 2, 2, 1, 0, 2, 0, 1, 0, 2, 0, 2, 2, 2, 1, 2, 1, 2, 0, 1, 2, 0, 1, 0, 2, 2, 1, 0, 2, 1, 1, 1, 0, 2, 1, 0, 0, 0, 1, 1, 1, 0, 0, 0, 0, 0, 2, 2, 0, 1, 0, 0, 0, 1, 2, 1, 0, 0, 2, 0, 0, 2, 2, 2, 2, 0, 0, 0, 2, 0, 1, 2, 2, 2, 0, 0, 1, 2, 1, 0, 1, 2, 1, 0, 2, 1, 0, 0, 1, 2, 2, 1, 1, 2, 0, 0, 0, 2, 2, 1, 2, 0, 2, 0, 1, 2, 1, 0, 2, 1, 0, 2, 2, 0, 1, 1, 0, 0, 2, 0, 1, 0, 0, 1, 1, 1, 1, 1, 0, 2, 0, 1, 2, 0, 2, 0, 1, 1, 0, 0, 1, 2, 0, 1, 0, 1, 2, 0, 1, 2, 0, 0, 1, 0, 0, 2, 1, 1, 0, 0, 0, 0, 1, 2, 1, 0, 2, 0, 1, 0, 1, 2, 2, 0, 1, 2, 1, 0, 0, 0, 0, 2, 2, 1, 2, 0, 1, 1, 1, 1, 2, 1, 1, 2, 1, 0, 2, 0, 0, 0, 0, 0, 1, 0, 2, 2, 1, 1, 2, 0, 2, 0, 0, 2, 1, 0, 0, 0, 1, 1, 1, 1, 0, 0, 0, 0, 0, 0, 2, 0, 0, 2, 1, 1, 1, 1, 1, 2, 1, 0, 0, 1, 0, 1, 0, 2, 0, 1, 0, 0, 2, 2, 0, 0, 1, 2, 0, 2, 1, 0, 1, 2, 1, 1, 0, 0, 1, 2, 1, 1, 1, 2, 2, 2, 0, 1, 2, 0, 1, 0, 0, 0, 2, 0, 1, 2, 0, 0, 1, 1, 0, 2, 1, 0, 0, 1, 2, 2, 0, 2, 0, 2, 2, 2, 0, 0, 0, 0, 0, 0, 0, 1, 1, 0, 0, 0, 1, 2, 0, 0, 2, 0, 1, 1, 0, 0, 2, 0, 2, 2, 2, 2, 0, 0, 0, 1, 0, 0, 0, 0, 2, 1, 1, 1, 0, 2, 1, 0, 2, 1, 0, 0, 1, 0, 0, 0, 1, 1, 2, 1, 0, 2, 0, 2, 2, 0, 0, 0, 1, 0, 2, 0, 2, 0, 0, 0, 0, 1, 0, 0, 2, 2, 0, 0, 0, 0, 0, 1, 1, 1, 0, 2, 1, 1, 0, 1, 2, 1, 0, 1, 0, 2, 0, 2, 0, 2, 0, 1, 0, 0, 1, 0, 1, 0, 0, 1, 0, 0, 1, 1, 0, 2, 2, 2, 0, 1, 0, 2, 2, 0, 0, 1, 0, 0, 2, 0, 1, 0, 0, 0, 2, 0, 1, 2, 1, 1, 1, 1, 2, 0, 1, 0, 0, 0, 2, 0, 0, 2, 0, 0, 2, 1, 2, 2, 0, 2, 0, 0, 0, 0, 0, 1, 2, 1, 0, 1, 2, 0, 0, 0, 1, 2, 2, 0, 0, 2, 1, 1, 0, 1, 1, 2, 0, 2, 2, 1, 2, 0, 1, 2, 2, 2, 1, 2, 1, 0, 0, 0, 1, 1, 2, 0, 0, 0, 0, 1, 2, 2, 0, 2, 2, 0, 2, 1, 2, 0, 2, 0, 0, 2, 0, 2, 0, 1, 2, 0, 1, 0, 2, 2, 0, 0, 0, 0, 2, 0, 0, 0, 1, 2, 0, 0, 0, 2, 1, 0, 0, 1, 0, 0, 1, 1, 1, 0, 1, 2, 2, 2, 0, 0, 1, 1, 1, 0, 0, 2, 0, 0, 1, 2, 1, 2, 0, 2, 0, 0, 0, 0, 0, 1, 0, 0, 0, 0, 1, 0, 2, 2, 2, 0, 0, 2, 1, 1, 2, 1, 1, 2, 1, 1, 2, 1, 2, 1, 2, 2, 0, 0, 0, 2, 1, 1, 1, 2, 0, 0, 1, 0, 1, 2, 0, 1, 0, 0, 1, 0, 0, 0, 0, 1, 0, 2, 1, 1, 1, 0, 0, 1, 0, 1, 0, 0, 0, 1, 2, 0, 2, 1, 2, 2, 2, 0, 2, 0, 2, 2, 0, 0, 0, 2, 2, 1, 1, 0, 0, 0, 1, 2, 2, 2, 0, 1, 2, 2, 0, 2, 2, 1, 1, 0, 1, 0, 2, 0, 2, 1, 1, 1, 2, 2, 0, 0, 1, 2, 0, 1, 2, 1, 0, 1, 0, 2, 0, 2, 0, 1, 2, 0, 0, 2, 0, 0, 1, 1, 1, 2, 2, 2, 1, 2, 0, 0, 2, 0, 1, 1, 2, 0, 1, 2, 0, 0, 1, 2, 0, 2, 0, 0, 2, 0, 1, 1, 2, 1, 0, 0, 0, 0, 0, 2, 1, 2, 2, 2, 0, 1, 1, 0, 0, 2, 1, 0, 2, 1, 1, 0, 1, 2, 2, 0, 2, 0, 0, 2, 2, 0, 0, 1, 0, 0, 0, 1, 1, 1, 2, 0, 0, 1, 1, 0, 0, 1, 1, 1, 0, 0, 1, 0, 1, 2, 1, 1, 0, 0, 0, 2, 0, 2, 2, 0, 2, 0, 2, 0, 2, 2, 1, 0, 1, 0, 0, 0, 2, 2, 1, 2, 0, 2, 1, 2, 2, 0, 1, 0, 1, 0, 2, 2, 2, 0, 2, 1, 2, 2, 0, 1, 2, 0, 2, 0, 1, 2, 0, 1, 1, 0, 0, 0, 2, 0, 1, 1, 2, 0, 0, 0, 0, 0, 2, 0, 0, 2, 2, 1, 0, 0, 0, 0, 1, 1, 2, 1, 2, 0, 0, 2, 0, 1, 0, 2, 0, 0, 2, 2, 2, 2, 1, 0, 1, 0, 0, 0, 0, 0, 2, 0, 0, 1, 2, 0, 0, 2, 1, 0, 1, 2, 0, 2, 0, 0, 1, 0, 1, 0, 1, 0, 1, 0, 2, 2, 1, 0, 1, 2, 0, 2, 0, 2, 2, 0, 2, 1, 2, 2, 0, 1, 1, 1, 1, 1, 0, 2, 2, 0, 1, 1, 0, 2, 0, 2, 0, 0, 0, 2, 0, 2, 1, 0, 0, 0, 0, 2, 2, 0, 0, 2, 0, 0, 0, 1, 2, 2, 2, 2, 2, 0, 0, 2, 1, 2, 0, 1, 0, 2, 0, 1, 2, 0, 1, 2, 2, 0, 2, 0, 1, 2, 1, 2, 1, 1, 0, 0, 0, 2, 2, 2, 0, 2, 1, 1, 2, 2, 0, 1, 2, 2, 1, 0, 2, 1, 2, 2, 0, 2, 0, 1, 2, 2, 1, 2, 0, 1, 1, 2, 0, 0, 0, 0, 0, 2, 0, 2, 0, 0, 2, 1, 2, 0, 2, 1, 0, 0, 0, 0, 0, 0, 2, 0, 0, 1, 2, 0, 1, 0, 1, 1, 2, 0, 2, 1, 0, 1, 2, 1, 2, 1, 1, 0, 2, 2, 0, 2, 0, 1, 0, 1, 2, 2, 1, 1, 2, 0, 0, 0, 0, 2, 0, 1, 0, 2, 0, 0, 0, 1, 0, 1, 2, 2, 2, 2, 2, 2, 2, 1, 0, 1, 1, 0, 1, 0, 2, 2, 0, 2, 1, 0, 0, 1, 1, 1, 0, 2, 2, 1, 2, 0, 2, 0, 0, 0, 0, 2, 0, 0, 2, 0, 2, 1, 0, 0, 1, 2, 0, 0, 0, 0, 0, 0, 2, 0, 1, 1, 0, 0, 0, 1, 2, 2, 0, 0, 0, 2, 1, 0, 1, 2, 0, 1, 2, 2, 1, 1, 1, 0, 1, 0, 2, 0, 0, 1, 0, 0, 1, 1, 0, 0, 2, 0, 0, 1, 2, 0, 2, 0, 0, 1, 0, 2, 2, 0, 1, 0, 0, 2, 2, 0, 0, 2, 0, 0, 0, 2, 0, 2, 0, 0, 1, 2, 1, 1, 0, 2, 2, 0, 2, 1, 1, 2, 0, 2, 1, 0, 2, 0, 0, 1, 1, 0, 2, 2, 2, 2, 0, 0, 2, 0, 1, 2, 2, 0, 1, 2, 1, 1, 0, 0, 2, 2, 0, 2, 2, 0, 0, 2, 2, 1, 2, 2, 1, 0, 2, 0, 1, 2, 2, 0, 0, 0, 2, 1, 0, 0, 2, 2, 1, 0, 1, 1, 1, 2, 0, 2, 0, 1, 0, 2, 0, 0, 2, 0, 1, 0, 0, 2, 0, 2, 1, 2, 2, 2, 1, 2, 1, 0, 1, 0, 2, 1, 1, 0, 2, 1, 0, 1, 2, 0, 2, 0, 0, 0, 0, 0, 2, 1, 2, 2, 1, 0, 2, 1, 0, 0, 1, 0, 0, 2, 1, 2, 0, 2, 1, 0, 1, 1, 2, 2, 2, 0, 2, 2, 1, 0, 0, 1, 2, 1, 0, 2, 1, 1, 2, 1, 0, 1, 1, 2, 1, 2, 0, 1, 1, 1, 1, 1, 1, 2, 0, 1, 0, 0, 2, 2, 2, 0, 1, 1, 0, 2, 0, 0, 0, 0, 1, 0, 2, 2, 0, 0, 0, 0, 2, 2, 0, 0, 2, 2, 0, 2, 0, 0, 0, 2, 0, 0, 1, 0, 0, 0, 2, 1, 2, 2, 2, 0, 0, 0, 2, 2, 2, 0, 1, 2, 0, 0, 0, 0, 1, 2, 0, 2, 0, 2, 0, 1, 2, 0, 0, 0, 2, 2, 2, 0, 2, 0, 1, 0, 1, 0, 0, 2, 1, 0, 0, 1, 0, 0, 2, 2, 0, 1, 2, 0, 0, 0, 0, 1, 0, 2, 0, 0, 0, 0, 2, 0, 1, 1, 2, 0, 2, 2, 1, 2, 0, 0, 2, 0, 1, 2, 1, 2, 1, 2, 1, 0, 1, 1, 1, 0, 1, 2, 0, 0, 2, 1, 0, 2, 2, 0, 1, 0, 2, 2, 1, 2, 2, 2, 2, 0, 2, 1, 0, 0, 2, 2, 2, 1, 0, 2, 1, 0, 2, 0, 0, 2, 2, 0, 0, 2, 1, 0, 0, 1, 1, 0, 2, 0, 1, 2, 0, 0, 0, 2, 0, 0, 0, 0, 0, 0, 0, 0, 1, 1, 2, 1, 2, 0, 1, 1, 0, 1, 0, 1, 1, 1, 0, 1, 0, 0, 0, 2, 2, 2, 0, 2, 1, 1, 1, 0, 2, 2, 0, 0, 2, 2, 0, 0, 1, 0, 0, 0, 0, 0, 0, 1, 0, 0, 0, 2, 1, 1, 1, 0, 0, 0, 0, 0, 1, 0, 0, 2, 0, 1, 2, 1, 2, 1, 0, 2, 0, 0, 2, 2, 0, 0, 2, 1, 0, 0, 0, 0, 0, 2, 2, 2, 1, 0, 0, 2, 2, 0, 0, 2, 1, 2, 0, 2, 1, 0, 2, 1, 1, 0, 1, 0, 2, 2, 0, 2, 0, 0, 0, 0, 0, 0, 0, 0, 0, 0, 0, 1, 1, 0, 2, 0, 2, 0, 0, 1, 2, 0, 1, 0, 2, 0, 0, 1, 0, 1, 1, 0, 2, 2, 0, 2, 0, 0, 2, 1, 2, 0, 1, 1, 1, 0, 0, 1, 1, 1, 0, 2, 1, 1, 0, 1, 0, 0, 0, 2, 2, 0, 2, 1, 0, 0, 0, 2, 0, 0, 0, 0, 2, 2, 0, 0, 2, 0, 2, 1, 2, 2, 1, 0, 1, 1, 1, 2, 0, 2, 2, 1, 1, 0, 2, 0, 0, 1, 2, 0, 0, 2, 2, 0, 0, 1, 1, 0, 2, 2, 0, 0, 2, 1, 0, 2, 0, 0, 0, 0, 2, 2, 2, 0, 2, 2, 0, 1, 0, 2, 2, 0, 1, 0, 0, 0, 0, 0, 2, 2, 0, 2, 0, 0, 2, 0, 0, 2, 1, 0, 0, 0, 0, 0, 0, 0, 1, 1, 1, 0, 0, 2, 1, 1, 1, 0, 2, 1, 2, 0, 1, 2, 0, 2, 0, 2, 0, 2, 1, 0, 2, 0, 0, 0, 2, 1, 1, 1, 2, 0, 1, 2, 0, 0, 2, 2, 2, 0, 1, 2, 1, 2, 0, 0, 1, 2, 0, 0, 0, 0, 0, 1, 2, 2, 0, 2, 2, 0, 2, 0, 0, 1, 1, 2, 0, 2, 2, 0, 2, 1, 0, 0, 1, 1, 1, 2, 0, 0, 2, 0, 2, 0, 0, 0, 0, 0, 1, 2, 0, 1, 0, 0, 1, 0, 1, 2, 2, 0, 0, 2, 1, 0, 2, 2, 0, 2, 1, 0, 0, 2, 0, 2, 0, 0, 0, 0, 0, 2, 2, 2, 0, 1, 0, 2, 1, 2, 2, 0, 0, 1, 0, 1, 0, 2, 0, 0, 0, 2, 1, 1, 0, 2, 0, 1, 1, 2, 0, 1, 0, 1, 0, 0, 0, 1, 2, 2, 1, 0, 1, 0, 0, 0, 2, 0, 0, 1, 0, 1, 0, 2, 2, 2, 1, 2, 1, 2, 1, 0, 0, 0, 0, 0, 1, 2, 0, 1, 1, 1, 1, 0, 1, 1, 0, 0, 0, 0, 1, 1, 1, 0, 0, 0, 2, 2, 2, 0, 0, 2, 2, 2, 1, 1, 1, 0, 1, 2, 2, 0, 1, 2, 1, 1, 1, 2, 2, 0, 0, 2, 0, 0, 1, 0, 0, 0, 0, 0, 0, 0, 1, 2, 0, 2, 1, 1, 2, 2, 0, 0, 0, 0, 1, 0, 0, 0, 0, 0, 1, 1, 2, 1, 1, 0, 0, 2, 2, 0, 1, 0, 2, 1, 2, 0, 0, 2, 2, 2, 2, 1, 2, 2, 2, 1, 1, 0, 1, 1, 2, 1, 0, 1, 0, 2, 0, 0, 2, 0, 1, 2, 2, 2, 0, 0, 0, 1, 2, 2, 2, 2, 1, 2, 2, 0, 2, 0, 1, 0, 1, 2, 1, 1, 0, 0, 0, 1, 2, 1, 0, 0, 1, 2, 2, 1, 2, 1, 0, 2, 0, 2, 2, 0, 1, 0, 0, 0, 2, 0, 0, 1, 0, 1, 0, 0, 1, 2, 0, 2, 1, 0, 1, 2, 0, 2, 0, 1, 0, 2, 0, 0, 1, 0, 2, 0, 0, 0, 1, 2, 0, 1, 1, 0, 0, 2, 0, 1, 2, 2, 1, 0, 0, 2, 2, 0, 2, 0, 0, 2, 2, 0, 0, 1, 2, 0, 0, 2, 0, 0, 2, 1, 2, 0, 1, 0, 0, 1, 0, 1, 1, 0, 0, 1, 0, 0, 0, 2, 2, 0, 2, 0, 0, 1, 0, 0, 2, 2, 0, 2, 2, 0, 2, 2, 1, 0, 1, 0, 2, 2, 0, 2, 0, 1, 0, 1, 2, 1, 0, 2, 2, 2, 1, 1, 1, 1, 0, 0, 0, 0, 0, 1, 0, 1, 2, 0, 0, 0, 0, 0, 1, 0, 2, 0, 2, 0, 0, 1, 1, 2, 1, 0, 2, 1, 1, 2, 2, 0, 1, 2, 2, 2, 0, 2, 0, 0, 0, 0, 1, 0, 1, 1, 1, 0, 0, 0, 0, 1, 0, 0, 2, 2, 2, 1, 1, 2, 0, 0, 2, 2, 0, 0, 2, 0, 1, 0, 0, 0, 2, 2, 2, 0, 0, 0, 2, 2, 2, 2, 2, 0, 2, 1, 0, 2, 0, 0, 1, 2, 0, 0, 0, 0, 0, 2, 0, 0, 1, 2, 0, 1, 2, 2, 0, 1, 2, 0, 2, 1, 0, 2, 2, 1, 1, 2, 2, 0, 0, 2, 0, 0, 2, 1, 1, 0, 0, 0, 0, 0, 1, 2, 2, 0, 2, 1, 1, 0, 1, 2, 1, 1, 0, 2, 2, 2, 1, 1, 2, 2, 2, 0, 1, 2, 1, 0, 0, 2, 2, 2, 2, 1, 0, 1, 1, 0, 2, 1, 0, 2, 0, 2, 2, 1, 0, 2, 2, 0, 1, 0, 0, 2, 1, 0, 0, 1, 1, 0, 2, 2, 1, 2, 2, 1, 2, 0, 0, 1, 2, 0, 0, 2, 0, 0, 0, 2, 2, 2, 2, 0, 2, 0, 0, 0, 2, 0, 0, 0, 2, 2, 0, 0, 2, 0, 1, 1, 0, 0, 2, 0, 2, 0, 2, 1, 0, 0, 0, 0, 2, 0, 0, 0, 0, 0, 2, 0, 2, 1, 1, 0, 1, 0, 0, 2, 0, 0, 1, 2, 0, 0, 0, 2, 0, 1, 2, 2, 1, 1, 1, 2, 0, 0, 2, 2, 2, 0, 0, 0, 1, 2, 1, 0, 2, 2, 0, 2, 0, 0, 0, 1, 0, 2, 1, 0, 0, 1, 1, 0, 2, 0, 0, 1, 2, 2, 0, 0, 1, 1, 0, 0, 1, 0, 1, 0, 0, 2, 0, 0, 1, 2, 2, 2, 2, 0, 2, 0, 2, 2, 1, 0, 0, 0, 2, 1, 0, 2, 1, 1, 0, 0, 2, 0, 0, 0, 2, 0, 0, 2, 1, 1, 2, 1, 0, 0, 1, 1, 2, 2, 2, 2, 0, 0, 2, 0, 0, 0, 0, 0, 1, 0, 1, 0, 2, 0, 0, 0, 2, 2, 2, 2, 0, 1, 0, 2, 1, 0, 2, 0, 1, 1, 0, 0, 2, 1, 2, 1, 1, 0, 2, 0, 0, 0, 0, 1, 0, 2, 0, 0, 1, 1, 0, 2, 2, 0, 1, 0, 2, 1, 0, 0, 1, 2, 1, 0, 0, 1, 0, 0, 1, 2, 1, 0, 2, 0, 0, 0, 0, 0, 0, 0, 2, 2, 0, 0, 2, 1, 0, 0, 2, 0, 0, 2, 2, 2, 2, 0, 2, 0, 1, 0, 0, 1, 0, 1, 1, 0, 2, 1, 1, 0, 0, 0, 0, 0, 1, 1, 0, 0, 0, 0, 1, 0, 2, 0, 1, 0, 2, 0, 2, 0, 2, 1, 1, 2, 1, 1, 2, 2, 1, 0, 0, 0, 2, 0, 0, 1, 0, 0, 0, 0, 0, 1, 1, 0, 2, 2, 1, 2, 1, 2, 1, 0, 2, 0, 0, 0, 1, 1, 1, 0, 0, 2, 0, 2, 1, 0, 1, 0, 0, 2, 1, 0, 0, 0, 0, 2, 2, 0, 2, 0, 1, 0, 0, 0, 1, 0, 0, 2, 2, 0, 2, 0, 0, 0, 1, 0, 1, 0, 2, 0, 2, 2, 0, 0, 0, 2, 1, 2, 0, 0, 1, 1, 0, 2, 2, 2, 1, 2, 0, 2, 2, 2, 1, 1, 0, 0, 1, 0, 2, 0, 0, 0, 0, 1, 1, 0, 2, 0, 1, 1, 1, 0, 2, 1, 2, 0, 1, 0, 0, 0, 0, 1, 1, 0, 0, 1, 2, 0, 2, 0, 2, 1, 1, 2, 0, 1, 0, 0, 0, 2, 0, 2, 2, 0, 0, 2, 0, 2, 0, 2, 2, 2, 1, 0, 1, 1, 0, 1, 2, 2, 2, 2, 0, 0, 0, 0, 2, 2, 2, 0, 0, 0, 1, 1, 0, 0, 0, 2, 2, 2, 2, 2, 2, 0, 0, 2, 2, 1, 1, 0, 1, 1, 2, 2, 1, 1, 1, 0, 2, 2, 1, 0, 0, 0, 2, 0, 0, 1, 0, 1, 2, 0, 0, 1, 0, 2, 1, 2, 1, 0, 0, 1, 0, 0, 2, 0, 0, 0, 0, 1, 2, 0, 2, 0, 0, 0, 2, 2, 0, 2, 1, 0, 2, 2, 1, 0, 0, 1, 0, 0, 1, 0, 0, 2, 1, 1, 2, 0, 0, 2, 1, 2, 1, 0, 0, 2, 0, 0, 2, 1, 0, 2, 2, 0, 0, 0, 0, 1, 2, 0, 1, 0, 0, 0, 0, 0, 1, 2, 2, 1, 0, 0, 2, 1, 2, 0, 0, 1, 1, 2, 1, 0, 0, 0, 0, 0, 0, 0, 0, 1, 0, 1, 2, 2, 1, 0, 0, 2, 0, 2, 2, 1, 1, 0, 2, 0, 2, 1, 0, 0, 1, 1, 0, 1, 1, 0, 0, 0, 0, 1, 1, 0, 2, 0, 2, 0, 0, 0, 0, 0, 0, 0, 0, 1, 2, 0, 2, 1, 1, 0, 1, 2, 1, 1, 0, 0, 2, 2, 2, 0, 0, 2, 1, 2, 1, 0, 0, 0, 2, 2, 2, 0, 1, 1, 2, 1, 0, 2, 0, 1, 2, 2, 0, 0, 1, 1, 2, 2, 0, 0, 2, 0, 0, 2, 2, 1, 0, 0, 0, 1, 0, 1, 0, 0, 2, 2, 0, 1, 1, 0, 1, 0, 0, 0, 2, 0, 2, 0, 0, 2, 0, 2, 0, 2, 1, 0, 0, 0, 2, 0, 1, 0, 2, 2, 0, 0, 2, 0, 2, 0, 0, 0, 2, 0, 1, 0, 0, 1, 2, 1, 0, 0, 0, 2, 0, 2, 0, 1, 2, 0, 2, 1, 2, 2, 0, 0, 0, 1, 0, 0, 1, 0, 2, 2, 2, 2, 0, 0, 2, 2, 2, 0, 0, 0, 0, 2, 0, 0, 2, 0, 0, 0, 0, 2, 2, 2, 2, 0, 0, 1, 0, 1, 2, 1, 1, 1, 0, 0, 2, 0, 2, 2, 0, 0, 2, 0, 1, 1, 2, 0, 1, 2, 0, 2, 2, 1, 0, 0, 0, 2, 1, 0, 0, 0, 1, 0, 0, 2, 0, 0, 2, 1, 0, 2, 1, 2, 2, 1, 2, 2, 0, 1, 0, 0, 2, 0, 0, 0, 1, 2, 0, 0, 2, 0, 2, 0, 1, 0, 2, 2, 0, 2, 2, 1, 2, 1, 2, 0, 1, 0, 0, 2, 2, 2, 0, 1, 2, 0, 2, 2, 2, 1, 1, 0, 2, 0, 0, 1, 0, 1, 2, 1, 0, 2, 0, 2, 2, 0, 2, 2, 1, 1, 0, 2, 0, 0, 0, 1, 1, 1, 0, 0, 0, 2, 1, 2, 0, 0, 1, 1, 0, 0, 0, 0, 2, 2, 1, 0, 0, 0, 0, 0, 0, 1, 2, 1, 0, 2, 0, 1, 0, 0, 1, 2, 1, 0, 1, 0, 2, 0, 2, 1, 1, 0, 2, 0, 2, 1, 0, 0, 2, 2, 1, 2, 1, 0, 2, 1, 2, 2, 1, 0, 0, 2, 0, 0, 2, 0, 0, 0, 0, 1, 0, 1, 1, 0, 2, 1, 2, 0, 1, 0, 0, 0, 2, 2, 0, 0, 1, 0, 1, 2, 2, 0, 2, 0, 1, 2, 1, 2, 2, 0, 2, 1, 1, 0, 0, 2, 0, 2, 0, 2, 0, 0, 1, 1, 2, 0, 0, 2, 0, 0, 0, 2, 0, 2, 2, 0, 0, 0, 2, 0, 1, 2, 1, 0, 2, 0, 2, 0, 0, 0, 1, 2, 0, 0, 2, 0, 0, 0, 0, 1, 2, 0, 0, 0, 0, 0, 2, 0, 2, 2, 2, 0, 2, 2, 0, 2, 0, 2, 0, 0, 2, 0, 0, 1, 1, 2, 2, 0, 0, 1, 0, 0, 1, 1, 0, 0, 0, 0, 2, 2, 2, 0, 0, 2, 0, 1, 2, 1, 0, 0, 0, 0, 1, 2, 0, 0, 0, 2, 1, 2, 2, 0, 0, 0, 2, 0, 0, 0, 1, 0, 0, 2, 2, 0, 0, 2, 1, 2, 1, 0, 2, 2, 1, 1, 2, 0, 1, 0, 2, 0, 0, 2, 0, 2, 0, 2, 2, 0, 0, 2, 1, 0, 2, 1, 1, 0, 2, 0, 2, 1, 1, 2, 2, 1, 1, 0, 2, 0, 2, 2, 0, 1, 1, 2, 1, 1, 1, 0, 0, 1, 2, 2, 0, 1, 2, 0, 0, 0, 2, 1, 0, 2, 2, 2, 0, 2, 1, 0, 0, 0, 0, 2, 0, 2, 0, 0, 1, 1, 1, 2, 2, 2, 1, 0, 0, 0, 0, 0, 0, 0, 2, 1, 1, 2, 2, 2, 0, 0, 1, 1, 0, 0, 0, 0, 0, 1, 0, 2, 0, 1, 2, 0, 0, 0, 2, 2, 1, 2, 0, 2, 0, 1, 1, 0, 0, 2, 1, 0, 0, 1, 0, 1, 0, 0, 0, 0, 0, 0, 2, 2, 1, 0, 0, 1, 0, 0, 0, 0, 0, 2, 1, 0, 1, 2, 0, 2, 2, 0, 1, 1, 1, 0, 0, 1, 0, 0, 0, 0, 0, 0, 1, 0, 1, 0, 2, 0, 0, 1, 2, 0, 2, 0, 1, 2, 1, 2, 2, 2, 0, 0, 2, 0, 0, 0, 2, 2, 2, 0, 0, 1, 1, 1, 1, 2, 2, 2, 2, 1, 2, 1, 1, 0, 2, 2, 2, 0, 2, 0, 1, 1, 1, 1, 1, 0, 1, 1, 1, 1, 0, 2, 2, 1, 0, 1, 0, 2, 0, 0, 0, 1, 0, 0, 0, 0, 0, 1, 0, 0, 1, 2, 0, 1, 0, 1, 0, 1, 1, 0, 2, 1, 0, 0, 0, 0, 0, 0, 2, 2, 2, 1, 0, 0, 0, 2, 2, 0, 1, 0, 0, 2, 0, 1, 2, 2, 0, 2, 2, 1, 1, 0, 0, 2, 0, 0, 0, 0, 0, 0, 0, 2, 0, 0, 0, 0, 1, 0, 2, 2, 0, 1, 1, 0, 1, 0, 1, 2, 0, 0, 0, 2, 0, 2, 0, 0, 0, 2, 1, 0, 2, 1, 0, 2, 0, 2, 2, 0, 0, 1, 0, 0, 0, 1, 0, 0, 1, 0, 0, 1, 0, 0, 0, 1, 0, 2, 0, 2, 0, 1, 1, 0, 1, 0, 1, 2, 1, 0, 1, 1, 0, 2, 0, 1, 2, 2, 0, 1, 0, 0, 1, 0, 2, 0, 0, 0, 2, 0, 1, 1, 1, 0, 0, 2, 0, 0, 1, 2, 0, 1, 0, 2, 2, 0, 2, 0, 0, 2, 0, 1, 0, 1, 0, 0, 0, 0, 1, 0, 1, 0, 2, 1, 1, 0, 1, 1, 0, 2, 2, 2, 0, 2, 0, 0, 1, 2, 2, 2, 0, 0, 0, 2, 0, 1, 0, 1, 0, 1, 0, 1, 1, 0, 0, 0, 1, 2, 0, 2, 2, 1, 1, 0, 0, 0, 0, 1, 2, 1, 0, 0, 0, 0, 0, 1, 0, 2, 1, 1, 2, 2, 0, 0, 1, 1, 1, 0, 0, 1, 2, 2, 0, 0, 2, 2, 0, 0, 2, 0, 0, 0, 1, 2, 0, 2, 2, 0, 1, 1, 0, 1, 2, 1, 0, 1, 0, 1, 2, 0, 2, 1, 2, 0, 1, 1, 0, 0, 1, 1, 0, 2, 2, 1, 0, 0, 1, 0, 2, 0, 1, 0, 2, 2, 1, 0, 2, 2, 0, 2, 0, 2, 0, 0, 1, 1, 1, 2, 0, 1, 0, 2, 2, 0, 2, 0, 0, 0, 0, 2, 2, 2, 0, 2, 2, 0, 0, 0, 1, 0, 2, 1, 1, 2, 0, 2, 0, 0, 1, 2, 1, 2, 0, 0, 1, 0, 2, 0, 2, 0, 0, 0, 2, 0, 1, 0, 0, 1, 1, 2, 0, 0, 1, 1, 0, 0, 1, 1, 2, 1, 2, 1, 0, 0, 0, 0, 0, 2, 1, 0, 0, 1, 0, 1, 2, 0, 0, 0, 1, 0, 2, 2, 1, 1, 0, 2, 0, 0, 1, 0, 0, 0, 0, 0, 2, 2, 0, 0, 0, 0, 2, 0, 1, 0, 0, 0, 2, 0, 1, 2, 0, 2, 0, 0, 2, 1, 1, 1, 0, 2, 0, 1, 0, 0, 2, 0, 0, 1, 0, 0, 1, 2, 0, 0, 2, 2, 0, 1, 1, 0, 1, 2, 1, 0, 2, 0, 2, 0, 0, 2, 1, 1, 0, 0, 2, 2, 1, 2, 2, 2, 2, 0, 2, 0, 0, 0, 1, 0, 0, 0, 2, 2, 0, 1, 0, 0, 2, 1, 1, 0, 0, 1, 2, 2, 0, 0, 0, 0, 0, 0, 0, 1, 0, 0, 0, 0, 0, 2, 2, 0, 1, 1, 1, 0, 0, 2, 1, 2, 0, 2, 0, 0, 2, 0, 2, 2, 2, 0, 0, 2, 0, 1, 0, 0, 0, 0, 0, 0, 0, 0, 2, 0, 2, 1, 1, 0, 0, 1, 2, 0, 2, 0, 1, 1, 0, 0, 0, 1, 0, 0, 0, 2, 2, 1, 0, 1, 0, 1, 1, 2, 1, 1, 0, 0, 2, 2, 2, 2, 2, 1, 1, 0, 0, 0, 1, 2, 1, 2, 0, 0, 2, 0, 1, 0, 0, 1, 2, 0, 2, 0, 0, 2, 0, 2, 0, 0, 0, 1, 2, 0, 0, 0, 1, 0, 2, 1, 2, 1, 0, 2, 2, 2, 0, 0, 0, 2, 0, 0, 1, 2, 0, 2, 0, 1, 2, 0, 2, 1, 2, 0, 0, 0, 2, 2, 1, 2, 1, 0, 0, 0, 1, 0, 0, 2, 0, 2, 1, 1, 0, 1, 0, 2, 2, 1, 2, 1, 1, 2, 1, 0, 1, 0, 0, 0, 1, 1, 2, 0, 0, 1, 2, 1, 2, 0, 2, 1, 2, 0, 0, 0, 0, 0, 1, 1, 1, 2, 2, 0, 2, 0, 1, 0, 2, 0, 2, 0, 0, 2, 2, 2, 0, 2, 0, 1, 0, 1, 2, 2, 2, 0, 1, 2, 1, 0, 2, 2, 2, 0, 2, 2, 2, 1, 1, 0, 0, 2, 1, 0, 1, 1, 0, 0, 1, 0, 1, 0, 2, 0, 0, 2, 1, 0, 2, 1, 1, 0, 1, 2, 2, 0, 0, 2, 0, 0, 2, 1, 2, 2, 0, 1, 0, 0, 0, 2, 2, 2, 0, 0, 0, 2, 0, 1, 0, 0, 0, 2, 2, 1, 2, 2, 2, 0, 2, 2, 1, 0, 2, 2, 2, 2, 0, 2, 1, 0, 2, 0, 2, 0, 0, 1, 1, 0, 0, 0, 2, 2, 1, 0, 2, 1, 0, 0, 0, 0, 2, 1, 0, 1, 1, 0, 2, 1, 0, 0, 2, 0, 0, 0, 0, 0, 2, 0, 2, 1, 0, 0, 0, 0, 0, 0, 0, 2, 1, 1, 0, 1, 1, 2, 0, 1, 2, 0, 0, 2, 2, 0, 1, 0, 2, 0, 1, 0, 2, 1, 2, 0, 1, 1, 1, 0, 0, 2, 0, 2, 1, 2, 2, 0, 2, 0, 0, 0, 0, 1, 2, 2, 1, 0, 0, 2, 0, 0, 1, 1, 1, 0, 1, 2, 2, 0, 0, 1, 2, 1, 1, 2, 0, 2, 2, 1, 0, 1, 2, 0, 0, 1, 1, 0, 0, 0, 2, 1, 0, 1, 0, 1, 1, 2, 2, 1, 0, 0, 1, 0, 0, 0, 1, 2, 2, 0, 0, 0, 0, 2, 0, 2, 1, 2, 2, 0, 0, 0, 1, 2, 0, 0, 0, 2, 1, 2, 0, 0, 0, 0, 2, 1, 2, 1, 2, 1, 2, 2, 2, 2, 1, 2, 0, 1, 0, 2, 0, 2, 1, 1, 2, 1, 2, 0, 0, 2, 0, 0, 1, 1, 1, 0, 2, 0, 0, 0, 1, 2, 0, 0, 0, 2, 0, 2, 2, 2, 0, 0, 1, 2, 2, 2, 0, 0, 2, 1, 0, 0, 0, 0, 1, 0, 1, 2, 1, 0, 0, 0, 2, 2, 2, 0, 0, 0, 0, 0, 2, 0, 1, 0, 0, 2, 0, 0, 0, 2, 1, 0, 0, 0, 0, 1, 0, 2, 2, 2, 2, 0, 1, 1, 0, 1, 0, 2, 0, 1, 0, 0, 2, 0, 0, 1, 2, 1, 2, 1, 1, 0, 0, 2, 0, 2, 1, 0, 1, 0, 2, 2, 1, 0, 2, 0, 2, 2, 1, 0, 0, 2, 0, 0, 0, 1, 2]\n"
          ]
        }
      ]
    },
    {
      "cell_type": "code",
      "source": [
        "from sklearn.metrics import confusion_matrix, ConfusionMatrixDisplay\n",
        "import matplotlib.pyplot as plt\n",
        "import numpy\n",
        "\n",
        "confusion_matrix = confusion_matrix(test_labels, y_logits[1])\n",
        "\n",
        "cm_display = ConfusionMatrixDisplay(confusion_matrix = confusion_matrix)\n",
        "\n",
        "cm_display.plot()\n",
        "plt.show()"
      ],
      "metadata": {
        "colab": {
          "base_uri": "https://localhost:8080/",
          "height": 449
        },
        "id": "nxwbbKOuJL0P",
        "outputId": "7e1a992a-bb05-42e1-93cb-4f61d1a19152"
      },
      "execution_count": null,
      "outputs": [
        {
          "output_type": "display_data",
          "data": {
            "text/plain": [
              "<Figure size 640x480 with 2 Axes>"
            ],
            "image/png": "[encoded data removed]"
          },
          "metadata": {}
        }
      ]
    },
    {
      "cell_type": "code",
      "source": [
        "from google.colab import drive\n",
        "drive.mount('/content/drive')"
      ],
      "metadata": {
        "id": "466y_gel5s6C"
      },
      "execution_count": null,
      "outputs": []
    }
  ]
}